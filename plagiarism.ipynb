{
 "cells": [
  {
   "cell_type": "markdown",
   "metadata": {},
   "source": [
    "# Context-Aware Plagiarism Advisory Tool\n",
    "Evelyn Yee (CS 329T Final Project)"
   ]
  },
  {
   "cell_type": "markdown",
   "metadata": {},
   "source": [
    "# Poster:\n",
    "![project poster](figures/poster.png)\n",
    "\n",
    "# Project Proposal\n",
    "- Domain: Education\n",
    "- Goal: Build a system to advise instructors and provide evidence for/against plagiarism in student works.\n",
    "    - Difficult false positives: critique, citing, reference\n",
    "    - Difficult false negatives: paraphrasing, summary, misquoting/misattribution\n",
    "- System:\n",
    "    1. **Retrieve** relevant documents from the corpus (e.g. vector search, string matching)\n",
    "    1. **Reason** over text+context documents with LLM (RAG)\n",
    "    1. **Identify** textual relationships\n",
    "        - Ground claims in passages from new document and context\n",
    "    1. Confidence estimation?\n",
    "- Trustworthiness Principles:\n",
    "    - **Grounding:** Each claim in the plagiarism analysis references specific features of the student document and at least one of the context documents.\n",
    "    - **Confidence:** Provide to users a report containing a) a combination of text heuristics (e.g. BLEU score) and b) an assessment from the LLM, ending with a single label of the text (\"plagiarized,\" \"related,\" or \"unrelated\")\n",
    "provide LLM CoT transcript/trace, so that users can understand and self-assess the label.\n",
    "\n",
    "- Data: [PlagBench](https://arxiv.org/abs/2406.16288v1) Eval Set (accessed directly from jooyoung lee, since the full dataset hasn't been publicly released yet)\n",
    "    - 405 plagiarism pairs\n",
    "        - 135 verbatim plagiarism\n",
    "        - 135 paraphrasing plagiarism\n",
    "        - 135 summarization plagiarism\n",
    "    - 405 non-plagiarism, related document pairs\n",
    "    \n",
    "    I have partitioned the dataset into a 70/15/15 train/validation/test split, with each split having the same proportion of each plagiarism label (i.e. 16.67% verbatim, 16.67% paraphrasing, 16.67% summary, 50% negative).\n",
    "\n",
    "TODO: PROMPT FOR A CONFIDENCE SCORE (COMPARE WITH LOGISTIC REGRESSION NUMERICAL CONFIDENCE) \n",
    "\n",
    "# Table of Contents\n",
    "- [Utilities](#utilities)\n",
    "    - [Global Imports](#global-imports)\n",
    "    - [Set up Snowflake](#set-up-snowflake-session)\n",
    "    - [Load Data](#load-data)\n",
    "    - [Evaluation Metrics](#evaluation-metrics)\n",
    "- [Our System](#our-system)\n",
    "    - [Prompts](#grounded-chain-of-thought-reasoning)\n",
    "    - [RAG Implementation](#generate-final-report)\n",
    "- [Baselines](#baselines)\n",
    "    - [Text Heuristics](#text-heuristics)\n",
    "    - [Parametric Knowledge + CoT](#parametric-knowledge--cot)\n",
    "    - [RAG + Direct Prompting](#rag--direct-answering)\n",
    "- [Evaluation](#evaluation)\n",
    "    - [Text Heuristics](#text-heuristics---eval)\n",
    "    - [Parametric Knowledge + CoT](#parametric-knowledge--cot---eval)\n",
    "    - [RAG + Direct Prompting](#rag--direct-answering---eval)\n",
    "    - [RAG + CoT (Our final model)](#rag--cot---eval)\n",
    "- [Results + Discussion](#results--discussion)\n",
    "\n"
   ]
  },
  {
   "cell_type": "markdown",
   "metadata": {},
   "source": [
    "# Utilities\n",
    "<a id='utilities'></a>"
   ]
  },
  {
   "cell_type": "markdown",
   "metadata": {},
   "source": [
    "## imports"
   ]
  },
  {
   "cell_type": "code",
   "execution_count": null,
   "metadata": {},
   "outputs": [],
   "source": [
    "# install relevant packages\n",
    "# %pip install --upgrade trulens-core trulens-providers-openai trulens-providers-huggingface trulens-dashboard\n",
    "# %pip install --upgrade trulens-connectors-snowflake==1.2.2\n",
    "# %pip install --upgrade openai pandas tqdm snowflake scikit-learn nltk rouge-score numpy"
   ]
  },
  {
   "cell_type": "code",
   "execution_count": null,
   "metadata": {},
   "outputs": [],
   "source": [
    "# import relevant packages\n",
    "from datetime import timedelta\n",
    "import itertools\n",
    "import json\n",
    "import matplotlib.pyplot as plt\n",
    "import nltk\n",
    "import numpy as np\n",
    "import os\n",
    "import pandas as pd\n",
    "import re\n",
    "from rouge_score.rouge_scorer import RougeScorer\n",
    "from sklearn.linear_model import LogisticRegression\n",
    "import threading\n",
    "from tqdm.notebook import tqdm\n",
    "tqdm.pandas()\n",
    "\n",
    "import chromadb\n",
    "import chromadb.utils.embedding_functions as embedding_functions\n",
    "\n",
    "from trulens.providers.openai import OpenAI as OpenAI_tl\n",
    "\n",
    "import openai\n",
    "from openai import OpenAI\n",
    "openai.api_key = os.environ[\"OPENAI_API_KEY\"]\n",
    "OPENAI_MODELS = ['gpt-4o-mini-2024-07-18']\n",
    "\n",
    "from snowflake.cortex import Complete\n",
    "SNOWFLAKE_MODELS = ['gemma-7b',\n",
    "'jamba-1.5-mini',\n",
    " 'jamba-1.5-large',\n",
    " 'jamba-instruct',\n",
    " 'llama2-70b-chat',\n",
    " 'llama3-8b',\n",
    " 'llama3-70b',\n",
    " 'llama3.1-8b',\n",
    " 'llama3.1-70b',\n",
    " 'llama3.1-405b',\n",
    " 'llama3.2-1b',\n",
    " 'llama3.2-3b',\n",
    " 'mistral-large',\n",
    " 'mistral-large2',\n",
    " 'mistral-7b',\n",
    " 'mixtral-8x7b',\n",
    " 'reka-core',\n",
    " 'reka-flash',\n",
    " 'snowflake-arctic']\n",
    "\n",
    "from tenacity import retry, stop_after_attempt, wait_exponential\n",
    "import warnings\n",
    "def warn_on_retry(retry_state):\n",
    "    if retry_state.attempt_number > 1:\n",
    "        seconds_since_start = retry_state.upcoming_sleep or 0.0\n",
    "        # if retry_state.outcome.failed:\n",
    "        #     print(f\"Retrying due to: {retry_state.outcome.exception()}\")\n",
    "        print(f\"Trying...{retry_state.outcome}... Attempt {retry_state.attempt_number} after {seconds_since_start:.2f} seconds\")\n"
   ]
  },
  {
   "cell_type": "markdown",
   "metadata": {},
   "source": [
    "## Set up Snowflake Session"
   ]
  },
  {
   "cell_type": "code",
   "execution_count": null,
   "metadata": {},
   "outputs": [],
   "source": [
    "# credentials\n",
    "user = os.getenv('SNOWFLAKE_USER')\n",
    "password = os.getenv('SNOWFLAKE_PASS')\n",
    "connection_params = {\n",
    "    \"account\": \"TMB89584\",\n",
    "    \"user\": user,\n",
    "    \"password\": password,\n",
    "    \"role\": \"TRAINING_ROLE\",\n",
    "    \"database\": \"CHIPMUNK_DB\",\n",
    "    \"schema\": \"PLAGBENCH\",\n",
    "    \"warehouse\": \"ANIMAL_TASK_WH\",\n",
    "}\n",
    "\n",
    "# Create a Snowflake session\n",
    "snowpark_session = Session.builder.configs(connection_params).create()"
   ]
  },
  {
   "cell_type": "markdown",
   "metadata": {},
   "source": [
    "## Load Data"
   ]
  },
  {
   "cell_type": "code",
   "execution_count": 7,
   "metadata": {},
   "outputs": [
    {
     "ename": "KeyboardInterrupt",
     "evalue": "",
     "output_type": "error",
     "traceback": [
      "\u001b[0;31m---------------------------------------------------------------------------\u001b[0m",
      "\u001b[0;31mKeyboardInterrupt\u001b[0m                         Traceback (most recent call last)",
      "Cell \u001b[0;32mIn[7], line 13\u001b[0m\n\u001b[1;32m     11\u001b[0m train[\u001b[38;5;124m'\u001b[39m\u001b[38;5;124mexpected_response\u001b[39m\u001b[38;5;124m'\u001b[39m] \u001b[38;5;241m=\u001b[39m train[\u001b[38;5;124m'\u001b[39m\u001b[38;5;124mexpected_response\u001b[39m\u001b[38;5;124m'\u001b[39m]\u001b[38;5;241m.\u001b[39mfillna(\u001b[38;5;124m'\u001b[39m\u001b[38;5;124mNA\u001b[39m\u001b[38;5;124m'\u001b[39m)\n\u001b[1;32m     12\u001b[0m \u001b[38;5;66;03m# persist data in trulens database so we can fetch it from here in the future\u001b[39;00m\n\u001b[0;32m---> 13\u001b[0m \u001b[43msession\u001b[49m\u001b[38;5;241;43m.\u001b[39;49m\u001b[43madd_ground_truth_to_dataset\u001b[49m\u001b[43m(\u001b[49m\n\u001b[1;32m     14\u001b[0m \u001b[43m    \u001b[49m\u001b[43mdataset_name\u001b[49m\u001b[38;5;241;43m=\u001b[39;49m\u001b[38;5;124;43m\"\u001b[39;49m\u001b[38;5;124;43mplagbench_train\u001b[39;49m\u001b[38;5;124;43m\"\u001b[39;49m\u001b[43m,\u001b[49m\n\u001b[1;32m     15\u001b[0m \u001b[43m    \u001b[49m\u001b[43mground_truth_df\u001b[49m\u001b[38;5;241;43m=\u001b[39;49m\u001b[43mtrain\u001b[49m\u001b[43m,\u001b[49m\n\u001b[1;32m     16\u001b[0m \u001b[43m    \u001b[49m\u001b[43mdataset_metadata\u001b[49m\u001b[38;5;241;43m=\u001b[39;49m\u001b[43m{\u001b[49m\u001b[38;5;124;43m\"\u001b[39;49m\u001b[38;5;124;43msplit\u001b[39;49m\u001b[38;5;124;43m\"\u001b[39;49m\u001b[43m:\u001b[49m\u001b[43m \u001b[49m\u001b[38;5;124;43m\"\u001b[39;49m\u001b[38;5;124;43mtrain\u001b[39;49m\u001b[38;5;124;43m\"\u001b[39;49m\u001b[43m}\u001b[49m\u001b[43m,\u001b[49m\n\u001b[1;32m     17\u001b[0m \u001b[43m)\u001b[49m\n\u001b[1;32m     18\u001b[0m display(train\u001b[38;5;241m.\u001b[39mhead())\n\u001b[1;32m     19\u001b[0m \u001b[38;5;28mprint\u001b[39m(\u001b[38;5;124m\"\u001b[39m\u001b[38;5;124mtrain size:\u001b[39m\u001b[38;5;124m\"\u001b[39m, train\u001b[38;5;241m.\u001b[39mshape)\n",
      "File \u001b[0;32m~/.conda/envs/cs329t-hw2/lib/python3.11/site-packages/trulens/core/session.py:829\u001b[0m, in \u001b[0;36mTruSession.add_ground_truth_to_dataset\u001b[0;34m(self, dataset_name, ground_truth_df, dataset_metadata)\u001b[0m\n\u001b[1;32m    826\u001b[0m     buffer\u001b[38;5;241m.\u001b[39mappend(ground_truth)\n\u001b[1;32m    828\u001b[0m     \u001b[38;5;28;01mif\u001b[39;00m \u001b[38;5;28mlen\u001b[39m(buffer) \u001b[38;5;241m>\u001b[39m\u001b[38;5;241m=\u001b[39m \u001b[38;5;28mself\u001b[39m\u001b[38;5;241m.\u001b[39mGROUND_TRUTHS_BATCH_SIZE:\n\u001b[0;32m--> 829\u001b[0m         \u001b[38;5;28;43mself\u001b[39;49m\u001b[38;5;241;43m.\u001b[39;49m\u001b[43mconnector\u001b[49m\u001b[38;5;241;43m.\u001b[39;49m\u001b[43mdb\u001b[49m\u001b[38;5;241;43m.\u001b[39;49m\u001b[43mbatch_insert_ground_truth\u001b[49m\u001b[43m(\u001b[49m\u001b[43mbuffer\u001b[49m\u001b[43m)\u001b[49m\n\u001b[1;32m    830\u001b[0m         buffer\u001b[38;5;241m.\u001b[39mclear()\n\u001b[1;32m    832\u001b[0m \u001b[38;5;66;03m# remaining ground truths in the buffer\u001b[39;00m\n",
      "File \u001b[0;32m~/.conda/envs/cs329t-hw2/lib/python3.11/site-packages/trulens/core/database/sqlalchemy.py:867\u001b[0m, in \u001b[0;36mSQLAlchemyDB.batch_insert_ground_truth\u001b[0;34m(self, ground_truths)\u001b[0m\n\u001b[1;32m    859\u001b[0m ground_truth_ids \u001b[38;5;241m=\u001b[39m [gt\u001b[38;5;241m.\u001b[39mground_truth_id \u001b[38;5;28;01mfor\u001b[39;00m gt \u001b[38;5;129;01min\u001b[39;00m ground_truths]\n\u001b[1;32m    861\u001b[0m \u001b[38;5;66;03m# Fetch existing GroundTruth records that match these ids in one query\u001b[39;00m\n\u001b[1;32m    862\u001b[0m existing_ground_truths \u001b[38;5;241m=\u001b[39m (\n\u001b[1;32m    863\u001b[0m     \u001b[43msession\u001b[49m\u001b[38;5;241;43m.\u001b[39;49m\u001b[43mquery\u001b[49m\u001b[43m(\u001b[49m\u001b[38;5;28;43mself\u001b[39;49m\u001b[38;5;241;43m.\u001b[39;49m\u001b[43morm\u001b[49m\u001b[38;5;241;43m.\u001b[39;49m\u001b[43mGroundTruth\u001b[49m\u001b[43m)\u001b[49m\n\u001b[1;32m    864\u001b[0m \u001b[43m    \u001b[49m\u001b[38;5;241;43m.\u001b[39;49m\u001b[43mfilter\u001b[49m\u001b[43m(\u001b[49m\n\u001b[1;32m    865\u001b[0m \u001b[43m        \u001b[49m\u001b[38;5;28;43mself\u001b[39;49m\u001b[38;5;241;43m.\u001b[39;49m\u001b[43morm\u001b[49m\u001b[38;5;241;43m.\u001b[39;49m\u001b[43mGroundTruth\u001b[49m\u001b[38;5;241;43m.\u001b[39;49m\u001b[43mground_truth_id\u001b[49m\u001b[38;5;241;43m.\u001b[39;49m\u001b[43min_\u001b[49m\u001b[43m(\u001b[49m\u001b[43mground_truth_ids\u001b[49m\u001b[43m)\u001b[49m\n\u001b[1;32m    866\u001b[0m \u001b[43m    \u001b[49m\u001b[43m)\u001b[49m\n\u001b[0;32m--> 867\u001b[0m \u001b[43m    \u001b[49m\u001b[38;5;241;43m.\u001b[39;49m\u001b[43mall\u001b[49m\u001b[43m(\u001b[49m\u001b[43m)\u001b[49m\n\u001b[1;32m    868\u001b[0m )\n\u001b[1;32m    870\u001b[0m existing_ground_truth_dict \u001b[38;5;241m=\u001b[39m {\n\u001b[1;32m    871\u001b[0m     gt\u001b[38;5;241m.\u001b[39mground_truth_id: gt \u001b[38;5;28;01mfor\u001b[39;00m gt \u001b[38;5;129;01min\u001b[39;00m existing_ground_truths\n\u001b[1;32m    872\u001b[0m }\n\u001b[1;32m    874\u001b[0m ground_truths_to_insert \u001b[38;5;241m=\u001b[39m []\n",
      "File \u001b[0;32m~/.conda/envs/cs329t-hw2/lib/python3.11/site-packages/sqlalchemy/orm/query.py:2673\u001b[0m, in \u001b[0;36mQuery.all\u001b[0;34m(self)\u001b[0m\n\u001b[1;32m   2651\u001b[0m \u001b[38;5;28;01mdef\u001b[39;00m \u001b[38;5;21mall\u001b[39m(\u001b[38;5;28mself\u001b[39m) \u001b[38;5;241m-\u001b[39m\u001b[38;5;241m>\u001b[39m List[_T]:\n\u001b[1;32m   2652\u001b[0m \u001b[38;5;250m    \u001b[39m\u001b[38;5;124;03m\"\"\"Return the results represented by this :class:`_query.Query`\u001b[39;00m\n\u001b[1;32m   2653\u001b[0m \u001b[38;5;124;03m    as a list.\u001b[39;00m\n\u001b[1;32m   2654\u001b[0m \n\u001b[0;32m   (...)\u001b[0m\n\u001b[1;32m   2671\u001b[0m \u001b[38;5;124;03m        :meth:`_engine.Result.scalars` - v2 comparable method.\u001b[39;00m\n\u001b[1;32m   2672\u001b[0m \u001b[38;5;124;03m    \"\"\"\u001b[39;00m\n\u001b[0;32m-> 2673\u001b[0m     \u001b[38;5;28;01mreturn\u001b[39;00m \u001b[38;5;28;43mself\u001b[39;49m\u001b[38;5;241;43m.\u001b[39;49m\u001b[43m_iter\u001b[49m\u001b[43m(\u001b[49m\u001b[43m)\u001b[49m\u001b[38;5;241m.\u001b[39mall()\n",
      "File \u001b[0;32m~/.conda/envs/cs329t-hw2/lib/python3.11/site-packages/sqlalchemy/orm/query.py:2827\u001b[0m, in \u001b[0;36mQuery._iter\u001b[0;34m(self)\u001b[0m\n\u001b[1;32m   2824\u001b[0m params \u001b[38;5;241m=\u001b[39m \u001b[38;5;28mself\u001b[39m\u001b[38;5;241m.\u001b[39m_params\n\u001b[1;32m   2826\u001b[0m statement \u001b[38;5;241m=\u001b[39m \u001b[38;5;28mself\u001b[39m\u001b[38;5;241m.\u001b[39m_statement_20()\n\u001b[0;32m-> 2827\u001b[0m result: Union[ScalarResult[_T], Result[_T]] \u001b[38;5;241m=\u001b[39m \u001b[38;5;28;43mself\u001b[39;49m\u001b[38;5;241;43m.\u001b[39;49m\u001b[43msession\u001b[49m\u001b[38;5;241;43m.\u001b[39;49m\u001b[43mexecute\u001b[49m\u001b[43m(\u001b[49m\n\u001b[1;32m   2828\u001b[0m \u001b[43m    \u001b[49m\u001b[43mstatement\u001b[49m\u001b[43m,\u001b[49m\n\u001b[1;32m   2829\u001b[0m \u001b[43m    \u001b[49m\u001b[43mparams\u001b[49m\u001b[43m,\u001b[49m\n\u001b[1;32m   2830\u001b[0m \u001b[43m    \u001b[49m\u001b[43mexecution_options\u001b[49m\u001b[38;5;241;43m=\u001b[39;49m\u001b[43m{\u001b[49m\u001b[38;5;124;43m\"\u001b[39;49m\u001b[38;5;124;43m_sa_orm_load_options\u001b[39;49m\u001b[38;5;124;43m\"\u001b[39;49m\u001b[43m:\u001b[49m\u001b[43m \u001b[49m\u001b[38;5;28;43mself\u001b[39;49m\u001b[38;5;241;43m.\u001b[39;49m\u001b[43mload_options\u001b[49m\u001b[43m}\u001b[49m\u001b[43m,\u001b[49m\n\u001b[1;32m   2831\u001b[0m \u001b[43m\u001b[49m\u001b[43m)\u001b[49m\n\u001b[1;32m   2833\u001b[0m \u001b[38;5;66;03m# legacy: automatically set scalars, unique\u001b[39;00m\n\u001b[1;32m   2834\u001b[0m \u001b[38;5;28;01mif\u001b[39;00m result\u001b[38;5;241m.\u001b[39m_attributes\u001b[38;5;241m.\u001b[39mget(\u001b[38;5;124m\"\u001b[39m\u001b[38;5;124mis_single_entity\u001b[39m\u001b[38;5;124m\"\u001b[39m, \u001b[38;5;28;01mFalse\u001b[39;00m):\n",
      "File \u001b[0;32m~/.conda/envs/cs329t-hw2/lib/python3.11/site-packages/sqlalchemy/orm/session.py:2362\u001b[0m, in \u001b[0;36mSession.execute\u001b[0;34m(self, statement, params, execution_options, bind_arguments, _parent_execute_state, _add_event)\u001b[0m\n\u001b[1;32m   2301\u001b[0m \u001b[38;5;28;01mdef\u001b[39;00m \u001b[38;5;21mexecute\u001b[39m(\n\u001b[1;32m   2302\u001b[0m     \u001b[38;5;28mself\u001b[39m,\n\u001b[1;32m   2303\u001b[0m     statement: Executable,\n\u001b[0;32m   (...)\u001b[0m\n\u001b[1;32m   2309\u001b[0m     _add_event: Optional[Any] \u001b[38;5;241m=\u001b[39m \u001b[38;5;28;01mNone\u001b[39;00m,\n\u001b[1;32m   2310\u001b[0m ) \u001b[38;5;241m-\u001b[39m\u001b[38;5;241m>\u001b[39m Result[Any]:\n\u001b[1;32m   2311\u001b[0m \u001b[38;5;250m    \u001b[39m\u001b[38;5;124mr\u001b[39m\u001b[38;5;124;03m\"\"\"Execute a SQL expression construct.\u001b[39;00m\n\u001b[1;32m   2312\u001b[0m \n\u001b[1;32m   2313\u001b[0m \u001b[38;5;124;03m    Returns a :class:`_engine.Result` object representing\u001b[39;00m\n\u001b[0;32m   (...)\u001b[0m\n\u001b[1;32m   2360\u001b[0m \n\u001b[1;32m   2361\u001b[0m \u001b[38;5;124;03m    \"\"\"\u001b[39;00m\n\u001b[0;32m-> 2362\u001b[0m     \u001b[38;5;28;01mreturn\u001b[39;00m \u001b[38;5;28;43mself\u001b[39;49m\u001b[38;5;241;43m.\u001b[39;49m\u001b[43m_execute_internal\u001b[49m\u001b[43m(\u001b[49m\n\u001b[1;32m   2363\u001b[0m \u001b[43m        \u001b[49m\u001b[43mstatement\u001b[49m\u001b[43m,\u001b[49m\n\u001b[1;32m   2364\u001b[0m \u001b[43m        \u001b[49m\u001b[43mparams\u001b[49m\u001b[43m,\u001b[49m\n\u001b[1;32m   2365\u001b[0m \u001b[43m        \u001b[49m\u001b[43mexecution_options\u001b[49m\u001b[38;5;241;43m=\u001b[39;49m\u001b[43mexecution_options\u001b[49m\u001b[43m,\u001b[49m\n\u001b[1;32m   2366\u001b[0m \u001b[43m        \u001b[49m\u001b[43mbind_arguments\u001b[49m\u001b[38;5;241;43m=\u001b[39;49m\u001b[43mbind_arguments\u001b[49m\u001b[43m,\u001b[49m\n\u001b[1;32m   2367\u001b[0m \u001b[43m        \u001b[49m\u001b[43m_parent_execute_state\u001b[49m\u001b[38;5;241;43m=\u001b[39;49m\u001b[43m_parent_execute_state\u001b[49m\u001b[43m,\u001b[49m\n\u001b[1;32m   2368\u001b[0m \u001b[43m        \u001b[49m\u001b[43m_add_event\u001b[49m\u001b[38;5;241;43m=\u001b[39;49m\u001b[43m_add_event\u001b[49m\u001b[43m,\u001b[49m\n\u001b[1;32m   2369\u001b[0m \u001b[43m    \u001b[49m\u001b[43m)\u001b[49m\n",
      "File \u001b[0;32m~/.conda/envs/cs329t-hw2/lib/python3.11/site-packages/sqlalchemy/orm/session.py:2247\u001b[0m, in \u001b[0;36mSession._execute_internal\u001b[0;34m(self, statement, params, execution_options, bind_arguments, _parent_execute_state, _add_event, _scalar_result)\u001b[0m\n\u001b[1;32m   2242\u001b[0m     \u001b[38;5;28;01mreturn\u001b[39;00m conn\u001b[38;5;241m.\u001b[39mscalar(\n\u001b[1;32m   2243\u001b[0m         statement, params \u001b[38;5;129;01mor\u001b[39;00m {}, execution_options\u001b[38;5;241m=\u001b[39mexecution_options\n\u001b[1;32m   2244\u001b[0m     )\n\u001b[1;32m   2246\u001b[0m \u001b[38;5;28;01mif\u001b[39;00m compile_state_cls:\n\u001b[0;32m-> 2247\u001b[0m     result: Result[Any] \u001b[38;5;241m=\u001b[39m \u001b[43mcompile_state_cls\u001b[49m\u001b[38;5;241;43m.\u001b[39;49m\u001b[43morm_execute_statement\u001b[49m\u001b[43m(\u001b[49m\n\u001b[1;32m   2248\u001b[0m \u001b[43m        \u001b[49m\u001b[38;5;28;43mself\u001b[39;49m\u001b[43m,\u001b[49m\n\u001b[1;32m   2249\u001b[0m \u001b[43m        \u001b[49m\u001b[43mstatement\u001b[49m\u001b[43m,\u001b[49m\n\u001b[1;32m   2250\u001b[0m \u001b[43m        \u001b[49m\u001b[43mparams\u001b[49m\u001b[43m \u001b[49m\u001b[38;5;129;43;01mor\u001b[39;49;00m\u001b[43m \u001b[49m\u001b[43m{\u001b[49m\u001b[43m}\u001b[49m\u001b[43m,\u001b[49m\n\u001b[1;32m   2251\u001b[0m \u001b[43m        \u001b[49m\u001b[43mexecution_options\u001b[49m\u001b[43m,\u001b[49m\n\u001b[1;32m   2252\u001b[0m \u001b[43m        \u001b[49m\u001b[43mbind_arguments\u001b[49m\u001b[43m,\u001b[49m\n\u001b[1;32m   2253\u001b[0m \u001b[43m        \u001b[49m\u001b[43mconn\u001b[49m\u001b[43m,\u001b[49m\n\u001b[1;32m   2254\u001b[0m \u001b[43m    \u001b[49m\u001b[43m)\u001b[49m\n\u001b[1;32m   2255\u001b[0m \u001b[38;5;28;01melse\u001b[39;00m:\n\u001b[1;32m   2256\u001b[0m     result \u001b[38;5;241m=\u001b[39m conn\u001b[38;5;241m.\u001b[39mexecute(\n\u001b[1;32m   2257\u001b[0m         statement, params \u001b[38;5;129;01mor\u001b[39;00m {}, execution_options\u001b[38;5;241m=\u001b[39mexecution_options\n\u001b[1;32m   2258\u001b[0m     )\n",
      "File \u001b[0;32m~/.conda/envs/cs329t-hw2/lib/python3.11/site-packages/sqlalchemy/orm/context.py:305\u001b[0m, in \u001b[0;36mAbstractORMCompileState.orm_execute_statement\u001b[0;34m(cls, session, statement, params, execution_options, bind_arguments, conn)\u001b[0m\n\u001b[1;32m    295\u001b[0m \u001b[38;5;129m@classmethod\u001b[39m\n\u001b[1;32m    296\u001b[0m \u001b[38;5;28;01mdef\u001b[39;00m \u001b[38;5;21morm_execute_statement\u001b[39m(\n\u001b[1;32m    297\u001b[0m     \u001b[38;5;28mcls\u001b[39m,\n\u001b[0;32m   (...)\u001b[0m\n\u001b[1;32m    303\u001b[0m     conn,\n\u001b[1;32m    304\u001b[0m ) \u001b[38;5;241m-\u001b[39m\u001b[38;5;241m>\u001b[39m Result:\n\u001b[0;32m--> 305\u001b[0m     result \u001b[38;5;241m=\u001b[39m \u001b[43mconn\u001b[49m\u001b[38;5;241;43m.\u001b[39;49m\u001b[43mexecute\u001b[49m\u001b[43m(\u001b[49m\n\u001b[1;32m    306\u001b[0m \u001b[43m        \u001b[49m\u001b[43mstatement\u001b[49m\u001b[43m,\u001b[49m\u001b[43m \u001b[49m\u001b[43mparams\u001b[49m\u001b[43m \u001b[49m\u001b[38;5;129;43;01mor\u001b[39;49;00m\u001b[43m \u001b[49m\u001b[43m{\u001b[49m\u001b[43m}\u001b[49m\u001b[43m,\u001b[49m\u001b[43m \u001b[49m\u001b[43mexecution_options\u001b[49m\u001b[38;5;241;43m=\u001b[39;49m\u001b[43mexecution_options\u001b[49m\n\u001b[1;32m    307\u001b[0m \u001b[43m    \u001b[49m\u001b[43m)\u001b[49m\n\u001b[1;32m    308\u001b[0m     \u001b[38;5;28;01mreturn\u001b[39;00m \u001b[38;5;28mcls\u001b[39m\u001b[38;5;241m.\u001b[39morm_setup_cursor_result(\n\u001b[1;32m    309\u001b[0m         session,\n\u001b[1;32m    310\u001b[0m         statement,\n\u001b[0;32m   (...)\u001b[0m\n\u001b[1;32m    314\u001b[0m         result,\n\u001b[1;32m    315\u001b[0m     )\n",
      "File \u001b[0;32m~/.conda/envs/cs329t-hw2/lib/python3.11/site-packages/sqlalchemy/engine/base.py:1418\u001b[0m, in \u001b[0;36mConnection.execute\u001b[0;34m(self, statement, parameters, execution_options)\u001b[0m\n\u001b[1;32m   1416\u001b[0m     \u001b[38;5;28;01mraise\u001b[39;00m exc\u001b[38;5;241m.\u001b[39mObjectNotExecutableError(statement) \u001b[38;5;28;01mfrom\u001b[39;00m \u001b[38;5;21;01merr\u001b[39;00m\n\u001b[1;32m   1417\u001b[0m \u001b[38;5;28;01melse\u001b[39;00m:\n\u001b[0;32m-> 1418\u001b[0m     \u001b[38;5;28;01mreturn\u001b[39;00m \u001b[43mmeth\u001b[49m\u001b[43m(\u001b[49m\n\u001b[1;32m   1419\u001b[0m \u001b[43m        \u001b[49m\u001b[38;5;28;43mself\u001b[39;49m\u001b[43m,\u001b[49m\n\u001b[1;32m   1420\u001b[0m \u001b[43m        \u001b[49m\u001b[43mdistilled_parameters\u001b[49m\u001b[43m,\u001b[49m\n\u001b[1;32m   1421\u001b[0m \u001b[43m        \u001b[49m\u001b[43mexecution_options\u001b[49m\u001b[43m \u001b[49m\u001b[38;5;129;43;01mor\u001b[39;49;00m\u001b[43m \u001b[49m\u001b[43mNO_OPTIONS\u001b[49m\u001b[43m,\u001b[49m\n\u001b[1;32m   1422\u001b[0m \u001b[43m    \u001b[49m\u001b[43m)\u001b[49m\n",
      "File \u001b[0;32m~/.conda/envs/cs329t-hw2/lib/python3.11/site-packages/sqlalchemy/sql/elements.py:515\u001b[0m, in \u001b[0;36mClauseElement._execute_on_connection\u001b[0;34m(self, connection, distilled_params, execution_options)\u001b[0m\n\u001b[1;32m    513\u001b[0m     \u001b[38;5;28;01mif\u001b[39;00m TYPE_CHECKING:\n\u001b[1;32m    514\u001b[0m         \u001b[38;5;28;01massert\u001b[39;00m \u001b[38;5;28misinstance\u001b[39m(\u001b[38;5;28mself\u001b[39m, Executable)\n\u001b[0;32m--> 515\u001b[0m     \u001b[38;5;28;01mreturn\u001b[39;00m \u001b[43mconnection\u001b[49m\u001b[38;5;241;43m.\u001b[39;49m\u001b[43m_execute_clauseelement\u001b[49m\u001b[43m(\u001b[49m\n\u001b[1;32m    516\u001b[0m \u001b[43m        \u001b[49m\u001b[38;5;28;43mself\u001b[39;49m\u001b[43m,\u001b[49m\u001b[43m \u001b[49m\u001b[43mdistilled_params\u001b[49m\u001b[43m,\u001b[49m\u001b[43m \u001b[49m\u001b[43mexecution_options\u001b[49m\n\u001b[1;32m    517\u001b[0m \u001b[43m    \u001b[49m\u001b[43m)\u001b[49m\n\u001b[1;32m    518\u001b[0m \u001b[38;5;28;01melse\u001b[39;00m:\n\u001b[1;32m    519\u001b[0m     \u001b[38;5;28;01mraise\u001b[39;00m exc\u001b[38;5;241m.\u001b[39mObjectNotExecutableError(\u001b[38;5;28mself\u001b[39m)\n",
      "File \u001b[0;32m~/.conda/envs/cs329t-hw2/lib/python3.11/site-packages/sqlalchemy/engine/base.py:1640\u001b[0m, in \u001b[0;36mConnection._execute_clauseelement\u001b[0;34m(self, elem, distilled_parameters, execution_options)\u001b[0m\n\u001b[1;32m   1628\u001b[0m compiled_cache: Optional[CompiledCacheType] \u001b[38;5;241m=\u001b[39m execution_options\u001b[38;5;241m.\u001b[39mget(\n\u001b[1;32m   1629\u001b[0m     \u001b[38;5;124m\"\u001b[39m\u001b[38;5;124mcompiled_cache\u001b[39m\u001b[38;5;124m\"\u001b[39m, \u001b[38;5;28mself\u001b[39m\u001b[38;5;241m.\u001b[39mengine\u001b[38;5;241m.\u001b[39m_compiled_cache\n\u001b[1;32m   1630\u001b[0m )\n\u001b[1;32m   1632\u001b[0m compiled_sql, extracted_params, cache_hit \u001b[38;5;241m=\u001b[39m elem\u001b[38;5;241m.\u001b[39m_compile_w_cache(\n\u001b[1;32m   1633\u001b[0m     dialect\u001b[38;5;241m=\u001b[39mdialect,\n\u001b[1;32m   1634\u001b[0m     compiled_cache\u001b[38;5;241m=\u001b[39mcompiled_cache,\n\u001b[0;32m   (...)\u001b[0m\n\u001b[1;32m   1638\u001b[0m     linting\u001b[38;5;241m=\u001b[39m\u001b[38;5;28mself\u001b[39m\u001b[38;5;241m.\u001b[39mdialect\u001b[38;5;241m.\u001b[39mcompiler_linting \u001b[38;5;241m|\u001b[39m compiler\u001b[38;5;241m.\u001b[39mWARN_LINTING,\n\u001b[1;32m   1639\u001b[0m )\n\u001b[0;32m-> 1640\u001b[0m ret \u001b[38;5;241m=\u001b[39m \u001b[38;5;28;43mself\u001b[39;49m\u001b[38;5;241;43m.\u001b[39;49m\u001b[43m_execute_context\u001b[49m\u001b[43m(\u001b[49m\n\u001b[1;32m   1641\u001b[0m \u001b[43m    \u001b[49m\u001b[43mdialect\u001b[49m\u001b[43m,\u001b[49m\n\u001b[1;32m   1642\u001b[0m \u001b[43m    \u001b[49m\u001b[43mdialect\u001b[49m\u001b[38;5;241;43m.\u001b[39;49m\u001b[43mexecution_ctx_cls\u001b[49m\u001b[38;5;241;43m.\u001b[39;49m\u001b[43m_init_compiled\u001b[49m\u001b[43m,\u001b[49m\n\u001b[1;32m   1643\u001b[0m \u001b[43m    \u001b[49m\u001b[43mcompiled_sql\u001b[49m\u001b[43m,\u001b[49m\n\u001b[1;32m   1644\u001b[0m \u001b[43m    \u001b[49m\u001b[43mdistilled_parameters\u001b[49m\u001b[43m,\u001b[49m\n\u001b[1;32m   1645\u001b[0m \u001b[43m    \u001b[49m\u001b[43mexecution_options\u001b[49m\u001b[43m,\u001b[49m\n\u001b[1;32m   1646\u001b[0m \u001b[43m    \u001b[49m\u001b[43mcompiled_sql\u001b[49m\u001b[43m,\u001b[49m\n\u001b[1;32m   1647\u001b[0m \u001b[43m    \u001b[49m\u001b[43mdistilled_parameters\u001b[49m\u001b[43m,\u001b[49m\n\u001b[1;32m   1648\u001b[0m \u001b[43m    \u001b[49m\u001b[43melem\u001b[49m\u001b[43m,\u001b[49m\n\u001b[1;32m   1649\u001b[0m \u001b[43m    \u001b[49m\u001b[43mextracted_params\u001b[49m\u001b[43m,\u001b[49m\n\u001b[1;32m   1650\u001b[0m \u001b[43m    \u001b[49m\u001b[43mcache_hit\u001b[49m\u001b[38;5;241;43m=\u001b[39;49m\u001b[43mcache_hit\u001b[49m\u001b[43m,\u001b[49m\n\u001b[1;32m   1651\u001b[0m \u001b[43m\u001b[49m\u001b[43m)\u001b[49m\n\u001b[1;32m   1652\u001b[0m \u001b[38;5;28;01mif\u001b[39;00m has_events:\n\u001b[1;32m   1653\u001b[0m     \u001b[38;5;28mself\u001b[39m\u001b[38;5;241m.\u001b[39mdispatch\u001b[38;5;241m.\u001b[39mafter_execute(\n\u001b[1;32m   1654\u001b[0m         \u001b[38;5;28mself\u001b[39m,\n\u001b[1;32m   1655\u001b[0m         elem,\n\u001b[0;32m   (...)\u001b[0m\n\u001b[1;32m   1659\u001b[0m         ret,\n\u001b[1;32m   1660\u001b[0m     )\n",
      "File \u001b[0;32m~/.conda/envs/cs329t-hw2/lib/python3.11/site-packages/sqlalchemy/engine/base.py:1846\u001b[0m, in \u001b[0;36mConnection._execute_context\u001b[0;34m(self, dialect, constructor, statement, parameters, execution_options, *args, **kw)\u001b[0m\n\u001b[1;32m   1844\u001b[0m     \u001b[38;5;28;01mreturn\u001b[39;00m \u001b[38;5;28mself\u001b[39m\u001b[38;5;241m.\u001b[39m_exec_insertmany_context(dialect, context)\n\u001b[1;32m   1845\u001b[0m \u001b[38;5;28;01melse\u001b[39;00m:\n\u001b[0;32m-> 1846\u001b[0m     \u001b[38;5;28;01mreturn\u001b[39;00m \u001b[38;5;28;43mself\u001b[39;49m\u001b[38;5;241;43m.\u001b[39;49m\u001b[43m_exec_single_context\u001b[49m\u001b[43m(\u001b[49m\n\u001b[1;32m   1847\u001b[0m \u001b[43m        \u001b[49m\u001b[43mdialect\u001b[49m\u001b[43m,\u001b[49m\u001b[43m \u001b[49m\u001b[43mcontext\u001b[49m\u001b[43m,\u001b[49m\u001b[43m \u001b[49m\u001b[43mstatement\u001b[49m\u001b[43m,\u001b[49m\u001b[43m \u001b[49m\u001b[43mparameters\u001b[49m\n\u001b[1;32m   1848\u001b[0m \u001b[43m    \u001b[49m\u001b[43m)\u001b[49m\n",
      "File \u001b[0;32m~/.conda/envs/cs329t-hw2/lib/python3.11/site-packages/sqlalchemy/engine/base.py:1986\u001b[0m, in \u001b[0;36mConnection._exec_single_context\u001b[0;34m(self, dialect, context, statement, parameters)\u001b[0m\n\u001b[1;32m   1983\u001b[0m     result \u001b[38;5;241m=\u001b[39m context\u001b[38;5;241m.\u001b[39m_setup_result_proxy()\n\u001b[1;32m   1985\u001b[0m \u001b[38;5;28;01mexcept\u001b[39;00m \u001b[38;5;167;01mBaseException\u001b[39;00m \u001b[38;5;28;01mas\u001b[39;00m e:\n\u001b[0;32m-> 1986\u001b[0m     \u001b[38;5;28;43mself\u001b[39;49m\u001b[38;5;241;43m.\u001b[39;49m\u001b[43m_handle_dbapi_exception\u001b[49m\u001b[43m(\u001b[49m\n\u001b[1;32m   1987\u001b[0m \u001b[43m        \u001b[49m\u001b[43me\u001b[49m\u001b[43m,\u001b[49m\u001b[43m \u001b[49m\u001b[43mstr_statement\u001b[49m\u001b[43m,\u001b[49m\u001b[43m \u001b[49m\u001b[43meffective_parameters\u001b[49m\u001b[43m,\u001b[49m\u001b[43m \u001b[49m\u001b[43mcursor\u001b[49m\u001b[43m,\u001b[49m\u001b[43m \u001b[49m\u001b[43mcontext\u001b[49m\n\u001b[1;32m   1988\u001b[0m \u001b[43m    \u001b[49m\u001b[43m)\u001b[49m\n\u001b[1;32m   1990\u001b[0m \u001b[38;5;28;01mreturn\u001b[39;00m result\n",
      "File \u001b[0;32m~/.conda/envs/cs329t-hw2/lib/python3.11/site-packages/sqlalchemy/engine/base.py:2358\u001b[0m, in \u001b[0;36mConnection._handle_dbapi_exception\u001b[0;34m(self, e, statement, parameters, cursor, context, is_sub_exec)\u001b[0m\n\u001b[1;32m   2356\u001b[0m     \u001b[38;5;28;01melse\u001b[39;00m:\n\u001b[1;32m   2357\u001b[0m         \u001b[38;5;28;01massert\u001b[39;00m exc_info[\u001b[38;5;241m1\u001b[39m] \u001b[38;5;129;01mis\u001b[39;00m \u001b[38;5;129;01mnot\u001b[39;00m \u001b[38;5;28;01mNone\u001b[39;00m\n\u001b[0;32m-> 2358\u001b[0m         \u001b[38;5;28;01mraise\u001b[39;00m exc_info[\u001b[38;5;241m1\u001b[39m]\u001b[38;5;241m.\u001b[39mwith_traceback(exc_info[\u001b[38;5;241m2\u001b[39m])\n\u001b[1;32m   2359\u001b[0m \u001b[38;5;28;01mfinally\u001b[39;00m:\n\u001b[1;32m   2360\u001b[0m     \u001b[38;5;28;01mdel\u001b[39;00m \u001b[38;5;28mself\u001b[39m\u001b[38;5;241m.\u001b[39m_reentrant_error\n",
      "File \u001b[0;32m~/.conda/envs/cs329t-hw2/lib/python3.11/site-packages/sqlalchemy/engine/base.py:1967\u001b[0m, in \u001b[0;36mConnection._exec_single_context\u001b[0;34m(self, dialect, context, statement, parameters)\u001b[0m\n\u001b[1;32m   1965\u001b[0m                 \u001b[38;5;28;01mbreak\u001b[39;00m\n\u001b[1;32m   1966\u001b[0m     \u001b[38;5;28;01mif\u001b[39;00m \u001b[38;5;129;01mnot\u001b[39;00m evt_handled:\n\u001b[0;32m-> 1967\u001b[0m         \u001b[38;5;28;43mself\u001b[39;49m\u001b[38;5;241;43m.\u001b[39;49m\u001b[43mdialect\u001b[49m\u001b[38;5;241;43m.\u001b[39;49m\u001b[43mdo_execute\u001b[49m\u001b[43m(\u001b[49m\n\u001b[1;32m   1968\u001b[0m \u001b[43m            \u001b[49m\u001b[43mcursor\u001b[49m\u001b[43m,\u001b[49m\u001b[43m \u001b[49m\u001b[43mstr_statement\u001b[49m\u001b[43m,\u001b[49m\u001b[43m \u001b[49m\u001b[43meffective_parameters\u001b[49m\u001b[43m,\u001b[49m\u001b[43m \u001b[49m\u001b[43mcontext\u001b[49m\n\u001b[1;32m   1969\u001b[0m \u001b[43m        \u001b[49m\u001b[43m)\u001b[49m\n\u001b[1;32m   1971\u001b[0m \u001b[38;5;28;01mif\u001b[39;00m \u001b[38;5;28mself\u001b[39m\u001b[38;5;241m.\u001b[39m_has_events \u001b[38;5;129;01mor\u001b[39;00m \u001b[38;5;28mself\u001b[39m\u001b[38;5;241m.\u001b[39mengine\u001b[38;5;241m.\u001b[39m_has_events:\n\u001b[1;32m   1972\u001b[0m     \u001b[38;5;28mself\u001b[39m\u001b[38;5;241m.\u001b[39mdispatch\u001b[38;5;241m.\u001b[39mafter_cursor_execute(\n\u001b[1;32m   1973\u001b[0m         \u001b[38;5;28mself\u001b[39m,\n\u001b[1;32m   1974\u001b[0m         cursor,\n\u001b[0;32m   (...)\u001b[0m\n\u001b[1;32m   1978\u001b[0m         context\u001b[38;5;241m.\u001b[39mexecutemany,\n\u001b[1;32m   1979\u001b[0m     )\n",
      "File \u001b[0;32m~/.conda/envs/cs329t-hw2/lib/python3.11/site-packages/sqlalchemy/engine/default.py:941\u001b[0m, in \u001b[0;36mDefaultDialect.do_execute\u001b[0;34m(self, cursor, statement, parameters, context)\u001b[0m\n\u001b[1;32m    940\u001b[0m \u001b[38;5;28;01mdef\u001b[39;00m \u001b[38;5;21mdo_execute\u001b[39m(\u001b[38;5;28mself\u001b[39m, cursor, statement, parameters, context\u001b[38;5;241m=\u001b[39m\u001b[38;5;28;01mNone\u001b[39;00m):\n\u001b[0;32m--> 941\u001b[0m     \u001b[43mcursor\u001b[49m\u001b[38;5;241;43m.\u001b[39;49m\u001b[43mexecute\u001b[49m\u001b[43m(\u001b[49m\u001b[43mstatement\u001b[49m\u001b[43m,\u001b[49m\u001b[43m \u001b[49m\u001b[43mparameters\u001b[49m\u001b[43m)\u001b[49m\n",
      "File \u001b[0;32m~/.conda/envs/cs329t-hw2/lib/python3.11/site-packages/snowflake/connector/cursor.py:989\u001b[0m, in \u001b[0;36mSnowflakeCursor.execute\u001b[0;34m(self, command, params, _bind_stage, timeout, _exec_async, _no_retry, _do_reset, _put_callback, _put_azure_callback, _put_callback_output_stream, _get_callback, _get_azure_callback, _get_callback_output_stream, _show_progress_bar, _statement_params, _is_internal, _describe_only, _no_results, _is_put_get, _raise_put_get_error, _force_put_overwrite, _skip_upload_on_content_match, file_stream, num_statements, _dataframe_ast)\u001b[0m\n\u001b[1;32m    982\u001b[0m     logger\u001b[38;5;241m.\u001b[39mdebug(\n\u001b[1;32m    983\u001b[0m         \u001b[38;5;124m\"\u001b[39m\u001b[38;5;124mquery was rewritten: org=\u001b[39m\u001b[38;5;132;01m%s\u001b[39;00m\u001b[38;5;124m, new=\u001b[39m\u001b[38;5;132;01m%s\u001b[39;00m\u001b[38;5;124m\"\u001b[39m,\n\u001b[1;32m    984\u001b[0m         \u001b[38;5;124m\"\u001b[39m\u001b[38;5;124m \u001b[39m\u001b[38;5;124m\"\u001b[39m\u001b[38;5;241m.\u001b[39mjoin(line\u001b[38;5;241m.\u001b[39mstrip() \u001b[38;5;28;01mfor\u001b[39;00m line \u001b[38;5;129;01min\u001b[39;00m query\u001b[38;5;241m.\u001b[39msplit(\u001b[38;5;124m\"\u001b[39m\u001b[38;5;130;01m\\n\u001b[39;00m\u001b[38;5;124m\"\u001b[39m)),\n\u001b[1;32m    985\u001b[0m         query1,\n\u001b[1;32m    986\u001b[0m     )\n\u001b[1;32m    987\u001b[0m     query \u001b[38;5;241m=\u001b[39m query1\n\u001b[0;32m--> 989\u001b[0m ret \u001b[38;5;241m=\u001b[39m \u001b[38;5;28;43mself\u001b[39;49m\u001b[38;5;241;43m.\u001b[39;49m\u001b[43m_execute_helper\u001b[49m\u001b[43m(\u001b[49m\u001b[43mquery\u001b[49m\u001b[43m,\u001b[49m\u001b[43m \u001b[49m\u001b[38;5;241;43m*\u001b[39;49m\u001b[38;5;241;43m*\u001b[39;49m\u001b[43mkwargs\u001b[49m\u001b[43m)\u001b[49m\n\u001b[1;32m    990\u001b[0m \u001b[38;5;28mself\u001b[39m\u001b[38;5;241m.\u001b[39m_sfqid \u001b[38;5;241m=\u001b[39m (\n\u001b[1;32m    991\u001b[0m     ret[\u001b[38;5;124m\"\u001b[39m\u001b[38;5;124mdata\u001b[39m\u001b[38;5;124m\"\u001b[39m][\u001b[38;5;124m\"\u001b[39m\u001b[38;5;124mqueryId\u001b[39m\u001b[38;5;124m\"\u001b[39m]\n\u001b[1;32m    992\u001b[0m     \u001b[38;5;28;01mif\u001b[39;00m \u001b[38;5;124m\"\u001b[39m\u001b[38;5;124mdata\u001b[39m\u001b[38;5;124m\"\u001b[39m \u001b[38;5;129;01min\u001b[39;00m ret \u001b[38;5;129;01mand\u001b[39;00m \u001b[38;5;124m\"\u001b[39m\u001b[38;5;124mqueryId\u001b[39m\u001b[38;5;124m\"\u001b[39m \u001b[38;5;129;01min\u001b[39;00m ret[\u001b[38;5;124m\"\u001b[39m\u001b[38;5;124mdata\u001b[39m\u001b[38;5;124m\"\u001b[39m]\n\u001b[1;32m    993\u001b[0m     \u001b[38;5;28;01melse\u001b[39;00m \u001b[38;5;28;01mNone\u001b[39;00m\n\u001b[1;32m    994\u001b[0m )\n\u001b[1;32m    995\u001b[0m logger\u001b[38;5;241m.\u001b[39mdebug(\u001b[38;5;124mf\u001b[39m\u001b[38;5;124m\"\u001b[39m\u001b[38;5;124msfqid: \u001b[39m\u001b[38;5;132;01m{\u001b[39;00m\u001b[38;5;28mself\u001b[39m\u001b[38;5;241m.\u001b[39msfqid\u001b[38;5;132;01m}\u001b[39;00m\u001b[38;5;124m\"\u001b[39m)\n",
      "File \u001b[0;32m~/.conda/envs/cs329t-hw2/lib/python3.11/site-packages/snowflake/connector/cursor.py:700\u001b[0m, in \u001b[0;36mSnowflakeCursor._execute_helper\u001b[0;34m(self, query, timeout, statement_params, binding_params, binding_stage, is_internal, describe_only, _no_results, _is_put_get, _no_retry, dataframe_ast)\u001b[0m\n\u001b[1;32m    698\u001b[0m ret: \u001b[38;5;28mdict\u001b[39m[\u001b[38;5;28mstr\u001b[39m, Any] \u001b[38;5;241m=\u001b[39m {\u001b[38;5;124m\"\u001b[39m\u001b[38;5;124mdata\u001b[39m\u001b[38;5;124m\"\u001b[39m: {}}\n\u001b[1;32m    699\u001b[0m \u001b[38;5;28;01mtry\u001b[39;00m:\n\u001b[0;32m--> 700\u001b[0m     ret \u001b[38;5;241m=\u001b[39m \u001b[38;5;28;43mself\u001b[39;49m\u001b[38;5;241;43m.\u001b[39;49m\u001b[43m_connection\u001b[49m\u001b[38;5;241;43m.\u001b[39;49m\u001b[43mcmd_query\u001b[49m\u001b[43m(\u001b[49m\n\u001b[1;32m    701\u001b[0m \u001b[43m        \u001b[49m\u001b[43mquery\u001b[49m\u001b[43m,\u001b[49m\n\u001b[1;32m    702\u001b[0m \u001b[43m        \u001b[49m\u001b[38;5;28;43mself\u001b[39;49m\u001b[38;5;241;43m.\u001b[39;49m\u001b[43m_sequence_counter\u001b[49m\u001b[43m,\u001b[49m\n\u001b[1;32m    703\u001b[0m \u001b[43m        \u001b[49m\u001b[38;5;28;43mself\u001b[39;49m\u001b[38;5;241;43m.\u001b[39;49m\u001b[43m_request_id\u001b[49m\u001b[43m,\u001b[49m\n\u001b[1;32m    704\u001b[0m \u001b[43m        \u001b[49m\u001b[43mbinding_params\u001b[49m\u001b[38;5;241;43m=\u001b[39;49m\u001b[43mbinding_params\u001b[49m\u001b[43m,\u001b[49m\n\u001b[1;32m    705\u001b[0m \u001b[43m        \u001b[49m\u001b[43mbinding_stage\u001b[49m\u001b[38;5;241;43m=\u001b[39;49m\u001b[43mbinding_stage\u001b[49m\u001b[43m,\u001b[49m\n\u001b[1;32m    706\u001b[0m \u001b[43m        \u001b[49m\u001b[43mis_file_transfer\u001b[49m\u001b[38;5;241;43m=\u001b[39;49m\u001b[38;5;28;43mbool\u001b[39;49m\u001b[43m(\u001b[49m\u001b[38;5;28;43mself\u001b[39;49m\u001b[38;5;241;43m.\u001b[39;49m\u001b[43m_is_file_transfer\u001b[49m\u001b[43m)\u001b[49m\u001b[43m,\u001b[49m\n\u001b[1;32m    707\u001b[0m \u001b[43m        \u001b[49m\u001b[43mstatement_params\u001b[49m\u001b[38;5;241;43m=\u001b[39;49m\u001b[43mstatement_params\u001b[49m\u001b[43m,\u001b[49m\n\u001b[1;32m    708\u001b[0m \u001b[43m        \u001b[49m\u001b[43mis_internal\u001b[49m\u001b[38;5;241;43m=\u001b[39;49m\u001b[43mis_internal\u001b[49m\u001b[43m,\u001b[49m\n\u001b[1;32m    709\u001b[0m \u001b[43m        \u001b[49m\u001b[43mdescribe_only\u001b[49m\u001b[38;5;241;43m=\u001b[39;49m\u001b[43mdescribe_only\u001b[49m\u001b[43m,\u001b[49m\n\u001b[1;32m    710\u001b[0m \u001b[43m        \u001b[49m\u001b[43m_no_results\u001b[49m\u001b[38;5;241;43m=\u001b[39;49m\u001b[43m_no_results\u001b[49m\u001b[43m,\u001b[49m\n\u001b[1;32m    711\u001b[0m \u001b[43m        \u001b[49m\u001b[43m_no_retry\u001b[49m\u001b[38;5;241;43m=\u001b[39;49m\u001b[43m_no_retry\u001b[49m\u001b[43m,\u001b[49m\n\u001b[1;32m    712\u001b[0m \u001b[43m        \u001b[49m\u001b[43mtimeout\u001b[49m\u001b[38;5;241;43m=\u001b[39;49m\u001b[43mreal_timeout\u001b[49m\u001b[43m,\u001b[49m\n\u001b[1;32m    713\u001b[0m \u001b[43m        \u001b[49m\u001b[43mdataframe_ast\u001b[49m\u001b[38;5;241;43m=\u001b[39;49m\u001b[43mdataframe_ast\u001b[49m\u001b[43m,\u001b[49m\n\u001b[1;32m    714\u001b[0m \u001b[43m    \u001b[49m\u001b[43m)\u001b[49m\n\u001b[1;32m    715\u001b[0m \u001b[38;5;28;01mfinally\u001b[39;00m:\n\u001b[1;32m    716\u001b[0m     \u001b[38;5;28;01mtry\u001b[39;00m:\n",
      "File \u001b[0;32m~/.conda/envs/cs329t-hw2/lib/python3.11/site-packages/snowflake/connector/connection.py:1351\u001b[0m, in \u001b[0;36mSnowflakeConnection.cmd_query\u001b[0;34m(self, sql, sequence_counter, request_id, binding_params, binding_stage, is_file_transfer, statement_params, is_internal, describe_only, _no_results, _update_current_object, _no_retry, timeout, dataframe_ast)\u001b[0m\n\u001b[1;32m   1342\u001b[0m     logger\u001b[38;5;241m.\u001b[39mdebug(\n\u001b[1;32m   1343\u001b[0m         \u001b[38;5;124m\"\u001b[39m\u001b[38;5;124msql=[\u001b[39m\u001b[38;5;132;01m%s\u001b[39;00m\u001b[38;5;124m], sequence_id=[\u001b[39m\u001b[38;5;132;01m%s\u001b[39;00m\u001b[38;5;124m], is_file_transfer=[\u001b[39m\u001b[38;5;132;01m%s\u001b[39;00m\u001b[38;5;124m]\u001b[39m\u001b[38;5;124m\"\u001b[39m,\n\u001b[1;32m   1344\u001b[0m         \u001b[38;5;28mself\u001b[39m\u001b[38;5;241m.\u001b[39m_format_query_for_log(data[\u001b[38;5;124m\"\u001b[39m\u001b[38;5;124msqlText\u001b[39m\u001b[38;5;124m\"\u001b[39m]),\n\u001b[1;32m   1345\u001b[0m         data[\u001b[38;5;124m\"\u001b[39m\u001b[38;5;124msequenceId\u001b[39m\u001b[38;5;124m\"\u001b[39m],\n\u001b[1;32m   1346\u001b[0m         is_file_transfer,\n\u001b[1;32m   1347\u001b[0m     )\n\u001b[1;32m   1349\u001b[0m url_parameters \u001b[38;5;241m=\u001b[39m {REQUEST_ID: request_id}\n\u001b[0;32m-> 1351\u001b[0m ret \u001b[38;5;241m=\u001b[39m \u001b[38;5;28;43mself\u001b[39;49m\u001b[38;5;241;43m.\u001b[39;49m\u001b[43mrest\u001b[49m\u001b[38;5;241;43m.\u001b[39;49m\u001b[43mrequest\u001b[49m\u001b[43m(\u001b[49m\n\u001b[1;32m   1352\u001b[0m \u001b[43m    \u001b[49m\u001b[38;5;124;43m\"\u001b[39;49m\u001b[38;5;124;43m/queries/v1/query-request?\u001b[39;49m\u001b[38;5;124;43m\"\u001b[39;49m\u001b[43m \u001b[49m\u001b[38;5;241;43m+\u001b[39;49m\u001b[43m \u001b[49m\u001b[43murlencode\u001b[49m\u001b[43m(\u001b[49m\u001b[43murl_parameters\u001b[49m\u001b[43m)\u001b[49m\u001b[43m,\u001b[49m\n\u001b[1;32m   1353\u001b[0m \u001b[43m    \u001b[49m\u001b[43mdata\u001b[49m\u001b[43m,\u001b[49m\n\u001b[1;32m   1354\u001b[0m \u001b[43m    \u001b[49m\u001b[43mclient\u001b[49m\u001b[38;5;241;43m=\u001b[39;49m\u001b[43mclient\u001b[49m\u001b[43m,\u001b[49m\n\u001b[1;32m   1355\u001b[0m \u001b[43m    \u001b[49m\u001b[43m_no_results\u001b[49m\u001b[38;5;241;43m=\u001b[39;49m\u001b[43m_no_results\u001b[49m\u001b[43m,\u001b[49m\n\u001b[1;32m   1356\u001b[0m \u001b[43m    \u001b[49m\u001b[43m_include_retry_params\u001b[49m\u001b[38;5;241;43m=\u001b[39;49m\u001b[38;5;28;43;01mTrue\u001b[39;49;00m\u001b[43m,\u001b[49m\n\u001b[1;32m   1357\u001b[0m \u001b[43m    \u001b[49m\u001b[43m_no_retry\u001b[49m\u001b[38;5;241;43m=\u001b[39;49m\u001b[43m_no_retry\u001b[49m\u001b[43m,\u001b[49m\n\u001b[1;32m   1358\u001b[0m \u001b[43m    \u001b[49m\u001b[43mtimeout\u001b[49m\u001b[38;5;241;43m=\u001b[39;49m\u001b[43mtimeout\u001b[49m\u001b[43m,\u001b[49m\n\u001b[1;32m   1359\u001b[0m \u001b[43m\u001b[49m\u001b[43m)\u001b[49m\n\u001b[1;32m   1361\u001b[0m \u001b[38;5;28;01mif\u001b[39;00m ret \u001b[38;5;129;01mis\u001b[39;00m \u001b[38;5;28;01mNone\u001b[39;00m:\n\u001b[1;32m   1362\u001b[0m     ret \u001b[38;5;241m=\u001b[39m {\u001b[38;5;124m\"\u001b[39m\u001b[38;5;124mdata\u001b[39m\u001b[38;5;124m\"\u001b[39m: {}}\n",
      "File \u001b[0;32m~/.conda/envs/cs329t-hw2/lib/python3.11/site-packages/snowflake/connector/network.py:492\u001b[0m, in \u001b[0;36mSnowflakeRestful.request\u001b[0;34m(self, url, body, method, client, timeout, _no_results, _include_retry_params, _no_retry)\u001b[0m\n\u001b[1;32m    490\u001b[0m     headers[HTTP_HEADER_SERVICE_NAME] \u001b[38;5;241m=\u001b[39m \u001b[38;5;28mself\u001b[39m\u001b[38;5;241m.\u001b[39m_connection\u001b[38;5;241m.\u001b[39mservice_name\n\u001b[1;32m    491\u001b[0m \u001b[38;5;28;01mif\u001b[39;00m method \u001b[38;5;241m==\u001b[39m \u001b[38;5;124m\"\u001b[39m\u001b[38;5;124mpost\u001b[39m\u001b[38;5;124m\"\u001b[39m:\n\u001b[0;32m--> 492\u001b[0m     \u001b[38;5;28;01mreturn\u001b[39;00m \u001b[38;5;28;43mself\u001b[39;49m\u001b[38;5;241;43m.\u001b[39;49m\u001b[43m_post_request\u001b[49m\u001b[43m(\u001b[49m\n\u001b[1;32m    493\u001b[0m \u001b[43m        \u001b[49m\u001b[43murl\u001b[49m\u001b[43m,\u001b[49m\n\u001b[1;32m    494\u001b[0m \u001b[43m        \u001b[49m\u001b[43mheaders\u001b[49m\u001b[43m,\u001b[49m\n\u001b[1;32m    495\u001b[0m \u001b[43m        \u001b[49m\u001b[43mjson\u001b[49m\u001b[38;5;241;43m.\u001b[39;49m\u001b[43mdumps\u001b[49m\u001b[43m(\u001b[49m\u001b[43mbody\u001b[49m\u001b[43m)\u001b[49m\u001b[43m,\u001b[49m\n\u001b[1;32m    496\u001b[0m \u001b[43m        \u001b[49m\u001b[43mtoken\u001b[49m\u001b[38;5;241;43m=\u001b[39;49m\u001b[38;5;28;43mself\u001b[39;49m\u001b[38;5;241;43m.\u001b[39;49m\u001b[43mtoken\u001b[49m\u001b[43m,\u001b[49m\n\u001b[1;32m    497\u001b[0m \u001b[43m        \u001b[49m\u001b[43m_no_results\u001b[49m\u001b[38;5;241;43m=\u001b[39;49m\u001b[43m_no_results\u001b[49m\u001b[43m,\u001b[49m\n\u001b[1;32m    498\u001b[0m \u001b[43m        \u001b[49m\u001b[43mtimeout\u001b[49m\u001b[38;5;241;43m=\u001b[39;49m\u001b[43mtimeout\u001b[49m\u001b[43m,\u001b[49m\n\u001b[1;32m    499\u001b[0m \u001b[43m        \u001b[49m\u001b[43m_include_retry_params\u001b[49m\u001b[38;5;241;43m=\u001b[39;49m\u001b[43m_include_retry_params\u001b[49m\u001b[43m,\u001b[49m\n\u001b[1;32m    500\u001b[0m \u001b[43m        \u001b[49m\u001b[43mno_retry\u001b[49m\u001b[38;5;241;43m=\u001b[39;49m\u001b[43m_no_retry\u001b[49m\u001b[43m,\u001b[49m\n\u001b[1;32m    501\u001b[0m \u001b[43m    \u001b[49m\u001b[43m)\u001b[49m\n\u001b[1;32m    502\u001b[0m \u001b[38;5;28;01melse\u001b[39;00m:\n\u001b[1;32m    503\u001b[0m     \u001b[38;5;28;01mreturn\u001b[39;00m \u001b[38;5;28mself\u001b[39m\u001b[38;5;241m.\u001b[39m_get_request(\n\u001b[1;32m    504\u001b[0m         url,\n\u001b[1;32m    505\u001b[0m         headers,\n\u001b[1;32m    506\u001b[0m         token\u001b[38;5;241m=\u001b[39m\u001b[38;5;28mself\u001b[39m\u001b[38;5;241m.\u001b[39mtoken,\n\u001b[1;32m    507\u001b[0m         timeout\u001b[38;5;241m=\u001b[39mtimeout,\n\u001b[1;32m    508\u001b[0m     )\n",
      "File \u001b[0;32m~/.conda/envs/cs329t-hw2/lib/python3.11/site-packages/snowflake/connector/network.py:740\u001b[0m, in \u001b[0;36mSnowflakeRestful._post_request\u001b[0;34m(self, url, headers, body, token, timeout, socket_timeout, _no_results, no_retry, _include_retry_params)\u001b[0m\n\u001b[1;32m    737\u001b[0m     ret \u001b[38;5;241m=\u001b[39m probe_connection(full_url)\n\u001b[1;32m    738\u001b[0m     pprint(ret)\n\u001b[0;32m--> 740\u001b[0m ret \u001b[38;5;241m=\u001b[39m \u001b[38;5;28;43mself\u001b[39;49m\u001b[38;5;241;43m.\u001b[39;49m\u001b[43mfetch\u001b[49m\u001b[43m(\u001b[49m\n\u001b[1;32m    741\u001b[0m \u001b[43m    \u001b[49m\u001b[38;5;124;43m\"\u001b[39;49m\u001b[38;5;124;43mpost\u001b[39;49m\u001b[38;5;124;43m\"\u001b[39;49m\u001b[43m,\u001b[49m\n\u001b[1;32m    742\u001b[0m \u001b[43m    \u001b[49m\u001b[43mfull_url\u001b[49m\u001b[43m,\u001b[49m\n\u001b[1;32m    743\u001b[0m \u001b[43m    \u001b[49m\u001b[43mheaders\u001b[49m\u001b[43m,\u001b[49m\n\u001b[1;32m    744\u001b[0m \u001b[43m    \u001b[49m\u001b[43mdata\u001b[49m\u001b[38;5;241;43m=\u001b[39;49m\u001b[43mbody\u001b[49m\u001b[43m,\u001b[49m\n\u001b[1;32m    745\u001b[0m \u001b[43m    \u001b[49m\u001b[43mtimeout\u001b[49m\u001b[38;5;241;43m=\u001b[39;49m\u001b[43mtimeout\u001b[49m\u001b[43m,\u001b[49m\n\u001b[1;32m    746\u001b[0m \u001b[43m    \u001b[49m\u001b[43mtoken\u001b[49m\u001b[38;5;241;43m=\u001b[39;49m\u001b[43mtoken\u001b[49m\u001b[43m,\u001b[49m\n\u001b[1;32m    747\u001b[0m \u001b[43m    \u001b[49m\u001b[43mno_retry\u001b[49m\u001b[38;5;241;43m=\u001b[39;49m\u001b[43mno_retry\u001b[49m\u001b[43m,\u001b[49m\n\u001b[1;32m    748\u001b[0m \u001b[43m    \u001b[49m\u001b[43m_include_retry_params\u001b[49m\u001b[38;5;241;43m=\u001b[39;49m\u001b[43m_include_retry_params\u001b[49m\u001b[43m,\u001b[49m\n\u001b[1;32m    749\u001b[0m \u001b[43m    \u001b[49m\u001b[43msocket_timeout\u001b[49m\u001b[38;5;241;43m=\u001b[39;49m\u001b[43msocket_timeout\u001b[49m\u001b[43m,\u001b[49m\n\u001b[1;32m    750\u001b[0m \u001b[43m\u001b[49m\u001b[43m)\u001b[49m\n\u001b[1;32m    751\u001b[0m logger\u001b[38;5;241m.\u001b[39mdebug(\n\u001b[1;32m    752\u001b[0m     \u001b[38;5;124m\"\u001b[39m\u001b[38;5;124mret[code] = \u001b[39m\u001b[38;5;132;01m{code}\u001b[39;00m\u001b[38;5;124m, after post request\u001b[39m\u001b[38;5;124m\"\u001b[39m\u001b[38;5;241m.\u001b[39mformat(\n\u001b[1;32m    753\u001b[0m         code\u001b[38;5;241m=\u001b[39m(ret\u001b[38;5;241m.\u001b[39mget(\u001b[38;5;124m\"\u001b[39m\u001b[38;5;124mcode\u001b[39m\u001b[38;5;124m\"\u001b[39m, \u001b[38;5;124m\"\u001b[39m\u001b[38;5;124mN/A\u001b[39m\u001b[38;5;124m\"\u001b[39m))\n\u001b[1;32m    754\u001b[0m     )\n\u001b[1;32m    755\u001b[0m )\n\u001b[1;32m    757\u001b[0m \u001b[38;5;28;01mif\u001b[39;00m ret\u001b[38;5;241m.\u001b[39mget(\u001b[38;5;124m\"\u001b[39m\u001b[38;5;124mcode\u001b[39m\u001b[38;5;124m\"\u001b[39m) \u001b[38;5;241m==\u001b[39m MASTER_TOKEN_EXPIRED_GS_CODE:\n",
      "File \u001b[0;32m~/.conda/envs/cs329t-hw2/lib/python3.11/site-packages/snowflake/connector/network.py:855\u001b[0m, in \u001b[0;36mSnowflakeRestful.fetch\u001b[0;34m(self, method, full_url, headers, data, timeout, **kwargs)\u001b[0m\n\u001b[1;32m    853\u001b[0m retry_ctx\u001b[38;5;241m.\u001b[39mset_start_time()\n\u001b[1;32m    854\u001b[0m \u001b[38;5;28;01mwhile\u001b[39;00m \u001b[38;5;28;01mTrue\u001b[39;00m:\n\u001b[0;32m--> 855\u001b[0m     ret \u001b[38;5;241m=\u001b[39m \u001b[38;5;28;43mself\u001b[39;49m\u001b[38;5;241;43m.\u001b[39;49m\u001b[43m_request_exec_wrapper\u001b[49m\u001b[43m(\u001b[49m\n\u001b[1;32m    856\u001b[0m \u001b[43m        \u001b[49m\u001b[43msession\u001b[49m\u001b[43m,\u001b[49m\u001b[43m \u001b[49m\u001b[43mmethod\u001b[49m\u001b[43m,\u001b[49m\u001b[43m \u001b[49m\u001b[43mfull_url\u001b[49m\u001b[43m,\u001b[49m\u001b[43m \u001b[49m\u001b[43mheaders\u001b[49m\u001b[43m,\u001b[49m\u001b[43m \u001b[49m\u001b[43mdata\u001b[49m\u001b[43m,\u001b[49m\u001b[43m \u001b[49m\u001b[43mretry_ctx\u001b[49m\u001b[43m,\u001b[49m\u001b[43m \u001b[49m\u001b[38;5;241;43m*\u001b[39;49m\u001b[38;5;241;43m*\u001b[39;49m\u001b[43mkwargs\u001b[49m\n\u001b[1;32m    857\u001b[0m \u001b[43m    \u001b[49m\u001b[43m)\u001b[49m\n\u001b[1;32m    858\u001b[0m     \u001b[38;5;28;01mif\u001b[39;00m ret \u001b[38;5;129;01mis\u001b[39;00m \u001b[38;5;129;01mnot\u001b[39;00m \u001b[38;5;28;01mNone\u001b[39;00m:\n\u001b[1;32m    859\u001b[0m         \u001b[38;5;28;01mreturn\u001b[39;00m ret\n",
      "File \u001b[0;32m~/.conda/envs/cs329t-hw2/lib/python3.11/site-packages/snowflake/connector/network.py:905\u001b[0m, in \u001b[0;36mSnowflakeRestful._request_exec_wrapper\u001b[0;34m(self, session, method, full_url, headers, data, retry_ctx, no_retry, token, **kwargs)\u001b[0m\n\u001b[1;32m    903\u001b[0m raise_raw_http_failure \u001b[38;5;241m=\u001b[39m kwargs\u001b[38;5;241m.\u001b[39mpop(\u001b[38;5;124m\"\u001b[39m\u001b[38;5;124mraise_raw_http_failure\u001b[39m\u001b[38;5;124m\"\u001b[39m, \u001b[38;5;28;01mFalse\u001b[39;00m)\n\u001b[1;32m    904\u001b[0m \u001b[38;5;28;01mtry\u001b[39;00m:\n\u001b[0;32m--> 905\u001b[0m     return_object \u001b[38;5;241m=\u001b[39m \u001b[38;5;28;43mself\u001b[39;49m\u001b[38;5;241;43m.\u001b[39;49m\u001b[43m_request_exec\u001b[49m\u001b[43m(\u001b[49m\n\u001b[1;32m    906\u001b[0m \u001b[43m        \u001b[49m\u001b[43msession\u001b[49m\u001b[38;5;241;43m=\u001b[39;49m\u001b[43msession\u001b[49m\u001b[43m,\u001b[49m\n\u001b[1;32m    907\u001b[0m \u001b[43m        \u001b[49m\u001b[43mmethod\u001b[49m\u001b[38;5;241;43m=\u001b[39;49m\u001b[43mmethod\u001b[49m\u001b[43m,\u001b[49m\n\u001b[1;32m    908\u001b[0m \u001b[43m        \u001b[49m\u001b[43mfull_url\u001b[49m\u001b[38;5;241;43m=\u001b[39;49m\u001b[43mfull_url\u001b[49m\u001b[43m,\u001b[49m\n\u001b[1;32m    909\u001b[0m \u001b[43m        \u001b[49m\u001b[43mheaders\u001b[49m\u001b[38;5;241;43m=\u001b[39;49m\u001b[43mheaders\u001b[49m\u001b[43m,\u001b[49m\n\u001b[1;32m    910\u001b[0m \u001b[43m        \u001b[49m\u001b[43mdata\u001b[49m\u001b[38;5;241;43m=\u001b[39;49m\u001b[43mdata\u001b[49m\u001b[43m,\u001b[49m\n\u001b[1;32m    911\u001b[0m \u001b[43m        \u001b[49m\u001b[43mtoken\u001b[49m\u001b[38;5;241;43m=\u001b[39;49m\u001b[43mtoken\u001b[49m\u001b[43m,\u001b[49m\n\u001b[1;32m    912\u001b[0m \u001b[43m        \u001b[49m\u001b[43mraise_raw_http_failure\u001b[49m\u001b[38;5;241;43m=\u001b[39;49m\u001b[43mraise_raw_http_failure\u001b[49m\u001b[43m,\u001b[49m\n\u001b[1;32m    913\u001b[0m \u001b[43m        \u001b[49m\u001b[38;5;241;43m*\u001b[39;49m\u001b[38;5;241;43m*\u001b[39;49m\u001b[43mkwargs\u001b[49m\u001b[43m,\u001b[49m\n\u001b[1;32m    914\u001b[0m \u001b[43m    \u001b[49m\u001b[43m)\u001b[49m\n\u001b[1;32m    915\u001b[0m     \u001b[38;5;28;01mif\u001b[39;00m return_object \u001b[38;5;129;01mis\u001b[39;00m \u001b[38;5;129;01mnot\u001b[39;00m \u001b[38;5;28;01mNone\u001b[39;00m:\n\u001b[1;32m    916\u001b[0m         \u001b[38;5;28;01mreturn\u001b[39;00m return_object\n",
      "File \u001b[0;32m~/.conda/envs/cs329t-hw2/lib/python3.11/site-packages/snowflake/connector/network.py:1072\u001b[0m, in \u001b[0;36mSnowflakeRestful._request_exec\u001b[0;34m(self, session, method, full_url, headers, data, token, catch_okta_unauthorized_error, is_raw_text, is_raw_binary, binary_data_handler, socket_timeout, is_okta_authentication, raise_raw_http_failure)\u001b[0m\n\u001b[1;32m   1068\u001b[0m download_start_time \u001b[38;5;241m=\u001b[39m get_time_millis()\n\u001b[1;32m   1069\u001b[0m \u001b[38;5;66;03m# socket timeout is constant. You should be able to receive\u001b[39;00m\n\u001b[1;32m   1070\u001b[0m \u001b[38;5;66;03m# the response within the time. If not, ConnectReadTimeout or\u001b[39;00m\n\u001b[1;32m   1071\u001b[0m \u001b[38;5;66;03m# ReadTimeout is raised.\u001b[39;00m\n\u001b[0;32m-> 1072\u001b[0m raw_ret \u001b[38;5;241m=\u001b[39m \u001b[43msession\u001b[49m\u001b[38;5;241;43m.\u001b[39;49m\u001b[43mrequest\u001b[49m\u001b[43m(\u001b[49m\n\u001b[1;32m   1073\u001b[0m \u001b[43m    \u001b[49m\u001b[43mmethod\u001b[49m\u001b[38;5;241;43m=\u001b[39;49m\u001b[43mmethod\u001b[49m\u001b[43m,\u001b[49m\n\u001b[1;32m   1074\u001b[0m \u001b[43m    \u001b[49m\u001b[43murl\u001b[49m\u001b[38;5;241;43m=\u001b[39;49m\u001b[43mfull_url\u001b[49m\u001b[43m,\u001b[49m\n\u001b[1;32m   1075\u001b[0m \u001b[43m    \u001b[49m\u001b[43mheaders\u001b[49m\u001b[38;5;241;43m=\u001b[39;49m\u001b[43mheaders\u001b[49m\u001b[43m,\u001b[49m\n\u001b[1;32m   1076\u001b[0m \u001b[43m    \u001b[49m\u001b[43mdata\u001b[49m\u001b[38;5;241;43m=\u001b[39;49m\u001b[43minput_data\u001b[49m\u001b[43m,\u001b[49m\n\u001b[1;32m   1077\u001b[0m \u001b[43m    \u001b[49m\u001b[43mtimeout\u001b[49m\u001b[38;5;241;43m=\u001b[39;49m\u001b[43msocket_timeout\u001b[49m\u001b[43m,\u001b[49m\n\u001b[1;32m   1078\u001b[0m \u001b[43m    \u001b[49m\u001b[43mverify\u001b[49m\u001b[38;5;241;43m=\u001b[39;49m\u001b[38;5;28;43;01mTrue\u001b[39;49;00m\u001b[43m,\u001b[49m\n\u001b[1;32m   1079\u001b[0m \u001b[43m    \u001b[49m\u001b[43mstream\u001b[49m\u001b[38;5;241;43m=\u001b[39;49m\u001b[43mis_raw_binary\u001b[49m\u001b[43m,\u001b[49m\n\u001b[1;32m   1080\u001b[0m \u001b[43m    \u001b[49m\u001b[43mauth\u001b[49m\u001b[38;5;241;43m=\u001b[39;49m\u001b[43mSnowflakeAuth\u001b[49m\u001b[43m(\u001b[49m\u001b[43mtoken\u001b[49m\u001b[43m)\u001b[49m\u001b[43m,\u001b[49m\n\u001b[1;32m   1081\u001b[0m \u001b[43m\u001b[49m\u001b[43m)\u001b[49m\n\u001b[1;32m   1082\u001b[0m download_end_time \u001b[38;5;241m=\u001b[39m get_time_millis()\n\u001b[1;32m   1084\u001b[0m \u001b[38;5;28;01mtry\u001b[39;00m:\n",
      "File \u001b[0;32m~/.conda/envs/cs329t-hw2/lib/python3.11/site-packages/snowflake/connector/vendored/requests/sessions.py:589\u001b[0m, in \u001b[0;36mSession.request\u001b[0;34m(self, method, url, params, data, headers, cookies, files, auth, timeout, allow_redirects, proxies, hooks, stream, verify, cert, json)\u001b[0m\n\u001b[1;32m    584\u001b[0m send_kwargs \u001b[38;5;241m=\u001b[39m {\n\u001b[1;32m    585\u001b[0m     \u001b[38;5;124m\"\u001b[39m\u001b[38;5;124mtimeout\u001b[39m\u001b[38;5;124m\"\u001b[39m: timeout,\n\u001b[1;32m    586\u001b[0m     \u001b[38;5;124m\"\u001b[39m\u001b[38;5;124mallow_redirects\u001b[39m\u001b[38;5;124m\"\u001b[39m: allow_redirects,\n\u001b[1;32m    587\u001b[0m }\n\u001b[1;32m    588\u001b[0m send_kwargs\u001b[38;5;241m.\u001b[39mupdate(settings)\n\u001b[0;32m--> 589\u001b[0m resp \u001b[38;5;241m=\u001b[39m \u001b[38;5;28;43mself\u001b[39;49m\u001b[38;5;241;43m.\u001b[39;49m\u001b[43msend\u001b[49m\u001b[43m(\u001b[49m\u001b[43mprep\u001b[49m\u001b[43m,\u001b[49m\u001b[43m \u001b[49m\u001b[38;5;241;43m*\u001b[39;49m\u001b[38;5;241;43m*\u001b[39;49m\u001b[43msend_kwargs\u001b[49m\u001b[43m)\u001b[49m\n\u001b[1;32m    591\u001b[0m \u001b[38;5;28;01mreturn\u001b[39;00m resp\n",
      "File \u001b[0;32m~/.conda/envs/cs329t-hw2/lib/python3.11/site-packages/snowflake/connector/vendored/requests/sessions.py:703\u001b[0m, in \u001b[0;36mSession.send\u001b[0;34m(self, request, **kwargs)\u001b[0m\n\u001b[1;32m    700\u001b[0m start \u001b[38;5;241m=\u001b[39m preferred_clock()\n\u001b[1;32m    702\u001b[0m \u001b[38;5;66;03m# Send the request\u001b[39;00m\n\u001b[0;32m--> 703\u001b[0m r \u001b[38;5;241m=\u001b[39m \u001b[43madapter\u001b[49m\u001b[38;5;241;43m.\u001b[39;49m\u001b[43msend\u001b[49m\u001b[43m(\u001b[49m\u001b[43mrequest\u001b[49m\u001b[43m,\u001b[49m\u001b[43m \u001b[49m\u001b[38;5;241;43m*\u001b[39;49m\u001b[38;5;241;43m*\u001b[39;49m\u001b[43mkwargs\u001b[49m\u001b[43m)\u001b[49m\n\u001b[1;32m    705\u001b[0m \u001b[38;5;66;03m# Total elapsed time of the request (approximately)\u001b[39;00m\n\u001b[1;32m    706\u001b[0m elapsed \u001b[38;5;241m=\u001b[39m preferred_clock() \u001b[38;5;241m-\u001b[39m start\n",
      "File \u001b[0;32m~/.conda/envs/cs329t-hw2/lib/python3.11/site-packages/snowflake/connector/vendored/requests/adapters.py:486\u001b[0m, in \u001b[0;36mHTTPAdapter.send\u001b[0;34m(self, request, stream, timeout, verify, cert, proxies)\u001b[0m\n\u001b[1;32m    483\u001b[0m     timeout \u001b[38;5;241m=\u001b[39m TimeoutSauce(connect\u001b[38;5;241m=\u001b[39mtimeout, read\u001b[38;5;241m=\u001b[39mtimeout)\n\u001b[1;32m    485\u001b[0m \u001b[38;5;28;01mtry\u001b[39;00m:\n\u001b[0;32m--> 486\u001b[0m     resp \u001b[38;5;241m=\u001b[39m \u001b[43mconn\u001b[49m\u001b[38;5;241;43m.\u001b[39;49m\u001b[43murlopen\u001b[49m\u001b[43m(\u001b[49m\n\u001b[1;32m    487\u001b[0m \u001b[43m        \u001b[49m\u001b[43mmethod\u001b[49m\u001b[38;5;241;43m=\u001b[39;49m\u001b[43mrequest\u001b[49m\u001b[38;5;241;43m.\u001b[39;49m\u001b[43mmethod\u001b[49m\u001b[43m,\u001b[49m\n\u001b[1;32m    488\u001b[0m \u001b[43m        \u001b[49m\u001b[43murl\u001b[49m\u001b[38;5;241;43m=\u001b[39;49m\u001b[43murl\u001b[49m\u001b[43m,\u001b[49m\n\u001b[1;32m    489\u001b[0m \u001b[43m        \u001b[49m\u001b[43mbody\u001b[49m\u001b[38;5;241;43m=\u001b[39;49m\u001b[43mrequest\u001b[49m\u001b[38;5;241;43m.\u001b[39;49m\u001b[43mbody\u001b[49m\u001b[43m,\u001b[49m\n\u001b[1;32m    490\u001b[0m \u001b[43m        \u001b[49m\u001b[43mheaders\u001b[49m\u001b[38;5;241;43m=\u001b[39;49m\u001b[43mrequest\u001b[49m\u001b[38;5;241;43m.\u001b[39;49m\u001b[43mheaders\u001b[49m\u001b[43m,\u001b[49m\n\u001b[1;32m    491\u001b[0m \u001b[43m        \u001b[49m\u001b[43mredirect\u001b[49m\u001b[38;5;241;43m=\u001b[39;49m\u001b[38;5;28;43;01mFalse\u001b[39;49;00m\u001b[43m,\u001b[49m\n\u001b[1;32m    492\u001b[0m \u001b[43m        \u001b[49m\u001b[43massert_same_host\u001b[49m\u001b[38;5;241;43m=\u001b[39;49m\u001b[38;5;28;43;01mFalse\u001b[39;49;00m\u001b[43m,\u001b[49m\n\u001b[1;32m    493\u001b[0m \u001b[43m        \u001b[49m\u001b[43mpreload_content\u001b[49m\u001b[38;5;241;43m=\u001b[39;49m\u001b[38;5;28;43;01mFalse\u001b[39;49;00m\u001b[43m,\u001b[49m\n\u001b[1;32m    494\u001b[0m \u001b[43m        \u001b[49m\u001b[43mdecode_content\u001b[49m\u001b[38;5;241;43m=\u001b[39;49m\u001b[38;5;28;43;01mFalse\u001b[39;49;00m\u001b[43m,\u001b[49m\n\u001b[1;32m    495\u001b[0m \u001b[43m        \u001b[49m\u001b[43mretries\u001b[49m\u001b[38;5;241;43m=\u001b[39;49m\u001b[38;5;28;43mself\u001b[39;49m\u001b[38;5;241;43m.\u001b[39;49m\u001b[43mmax_retries\u001b[49m\u001b[43m,\u001b[49m\n\u001b[1;32m    496\u001b[0m \u001b[43m        \u001b[49m\u001b[43mtimeout\u001b[49m\u001b[38;5;241;43m=\u001b[39;49m\u001b[43mtimeout\u001b[49m\u001b[43m,\u001b[49m\n\u001b[1;32m    497\u001b[0m \u001b[43m        \u001b[49m\u001b[43mchunked\u001b[49m\u001b[38;5;241;43m=\u001b[39;49m\u001b[43mchunked\u001b[49m\u001b[43m,\u001b[49m\n\u001b[1;32m    498\u001b[0m \u001b[43m    \u001b[49m\u001b[43m)\u001b[49m\n\u001b[1;32m    500\u001b[0m \u001b[38;5;28;01mexcept\u001b[39;00m (ProtocolError, \u001b[38;5;167;01mOSError\u001b[39;00m) \u001b[38;5;28;01mas\u001b[39;00m err:\n\u001b[1;32m    501\u001b[0m     \u001b[38;5;28;01mraise\u001b[39;00m \u001b[38;5;167;01mConnectionError\u001b[39;00m(err, request\u001b[38;5;241m=\u001b[39mrequest)\n",
      "File \u001b[0;32m~/.conda/envs/cs329t-hw2/lib/python3.11/site-packages/snowflake/connector/vendored/urllib3/connectionpool.py:715\u001b[0m, in \u001b[0;36mHTTPConnectionPool.urlopen\u001b[0;34m(self, method, url, body, headers, retries, redirect, assert_same_host, timeout, pool_timeout, release_conn, chunked, body_pos, **response_kw)\u001b[0m\n\u001b[1;32m    712\u001b[0m     \u001b[38;5;28mself\u001b[39m\u001b[38;5;241m.\u001b[39m_prepare_proxy(conn)\n\u001b[1;32m    714\u001b[0m \u001b[38;5;66;03m# Make the request on the httplib connection object.\u001b[39;00m\n\u001b[0;32m--> 715\u001b[0m httplib_response \u001b[38;5;241m=\u001b[39m \u001b[38;5;28;43mself\u001b[39;49m\u001b[38;5;241;43m.\u001b[39;49m\u001b[43m_make_request\u001b[49m\u001b[43m(\u001b[49m\n\u001b[1;32m    716\u001b[0m \u001b[43m    \u001b[49m\u001b[43mconn\u001b[49m\u001b[43m,\u001b[49m\n\u001b[1;32m    717\u001b[0m \u001b[43m    \u001b[49m\u001b[43mmethod\u001b[49m\u001b[43m,\u001b[49m\n\u001b[1;32m    718\u001b[0m \u001b[43m    \u001b[49m\u001b[43murl\u001b[49m\u001b[43m,\u001b[49m\n\u001b[1;32m    719\u001b[0m \u001b[43m    \u001b[49m\u001b[43mtimeout\u001b[49m\u001b[38;5;241;43m=\u001b[39;49m\u001b[43mtimeout_obj\u001b[49m\u001b[43m,\u001b[49m\n\u001b[1;32m    720\u001b[0m \u001b[43m    \u001b[49m\u001b[43mbody\u001b[49m\u001b[38;5;241;43m=\u001b[39;49m\u001b[43mbody\u001b[49m\u001b[43m,\u001b[49m\n\u001b[1;32m    721\u001b[0m \u001b[43m    \u001b[49m\u001b[43mheaders\u001b[49m\u001b[38;5;241;43m=\u001b[39;49m\u001b[43mheaders\u001b[49m\u001b[43m,\u001b[49m\n\u001b[1;32m    722\u001b[0m \u001b[43m    \u001b[49m\u001b[43mchunked\u001b[49m\u001b[38;5;241;43m=\u001b[39;49m\u001b[43mchunked\u001b[49m\u001b[43m,\u001b[49m\n\u001b[1;32m    723\u001b[0m \u001b[43m\u001b[49m\u001b[43m)\u001b[49m\n\u001b[1;32m    725\u001b[0m \u001b[38;5;66;03m# If we're going to release the connection in ``finally:``, then\u001b[39;00m\n\u001b[1;32m    726\u001b[0m \u001b[38;5;66;03m# the response doesn't need to know about the connection. Otherwise\u001b[39;00m\n\u001b[1;32m    727\u001b[0m \u001b[38;5;66;03m# it will also try to release it and we'll have a double-release\u001b[39;00m\n\u001b[1;32m    728\u001b[0m \u001b[38;5;66;03m# mess.\u001b[39;00m\n\u001b[1;32m    729\u001b[0m response_conn \u001b[38;5;241m=\u001b[39m conn \u001b[38;5;28;01mif\u001b[39;00m \u001b[38;5;129;01mnot\u001b[39;00m release_conn \u001b[38;5;28;01melse\u001b[39;00m \u001b[38;5;28;01mNone\u001b[39;00m\n",
      "File \u001b[0;32m~/.conda/envs/cs329t-hw2/lib/python3.11/site-packages/snowflake/connector/vendored/urllib3/connectionpool.py:467\u001b[0m, in \u001b[0;36mHTTPConnectionPool._make_request\u001b[0;34m(self, conn, method, url, timeout, chunked, **httplib_request_kw)\u001b[0m\n\u001b[1;32m    462\u001b[0m             httplib_response \u001b[38;5;241m=\u001b[39m conn\u001b[38;5;241m.\u001b[39mgetresponse()\n\u001b[1;32m    463\u001b[0m         \u001b[38;5;28;01mexcept\u001b[39;00m \u001b[38;5;167;01mBaseException\u001b[39;00m \u001b[38;5;28;01mas\u001b[39;00m e:\n\u001b[1;32m    464\u001b[0m             \u001b[38;5;66;03m# Remove the TypeError from the exception chain in\u001b[39;00m\n\u001b[1;32m    465\u001b[0m             \u001b[38;5;66;03m# Python 3 (including for exceptions like SystemExit).\u001b[39;00m\n\u001b[1;32m    466\u001b[0m             \u001b[38;5;66;03m# Otherwise it looks like a bug in the code.\u001b[39;00m\n\u001b[0;32m--> 467\u001b[0m             \u001b[43msix\u001b[49m\u001b[38;5;241;43m.\u001b[39;49m\u001b[43mraise_from\u001b[49m\u001b[43m(\u001b[49m\u001b[43me\u001b[49m\u001b[43m,\u001b[49m\u001b[43m \u001b[49m\u001b[38;5;28;43;01mNone\u001b[39;49;00m\u001b[43m)\u001b[49m\n\u001b[1;32m    468\u001b[0m \u001b[38;5;28;01mexcept\u001b[39;00m (SocketTimeout, BaseSSLError, SocketError) \u001b[38;5;28;01mas\u001b[39;00m e:\n\u001b[1;32m    469\u001b[0m     \u001b[38;5;28mself\u001b[39m\u001b[38;5;241m.\u001b[39m_raise_timeout(err\u001b[38;5;241m=\u001b[39me, url\u001b[38;5;241m=\u001b[39murl, timeout_value\u001b[38;5;241m=\u001b[39mread_timeout)\n",
      "File \u001b[0;32m<string>:3\u001b[0m, in \u001b[0;36mraise_from\u001b[0;34m(value, from_value)\u001b[0m\n",
      "File \u001b[0;32m~/.conda/envs/cs329t-hw2/lib/python3.11/site-packages/snowflake/connector/vendored/urllib3/connectionpool.py:462\u001b[0m, in \u001b[0;36mHTTPConnectionPool._make_request\u001b[0;34m(self, conn, method, url, timeout, chunked, **httplib_request_kw)\u001b[0m\n\u001b[1;32m    459\u001b[0m \u001b[38;5;28;01mexcept\u001b[39;00m \u001b[38;5;167;01mTypeError\u001b[39;00m:\n\u001b[1;32m    460\u001b[0m     \u001b[38;5;66;03m# Python 3\u001b[39;00m\n\u001b[1;32m    461\u001b[0m     \u001b[38;5;28;01mtry\u001b[39;00m:\n\u001b[0;32m--> 462\u001b[0m         httplib_response \u001b[38;5;241m=\u001b[39m \u001b[43mconn\u001b[49m\u001b[38;5;241;43m.\u001b[39;49m\u001b[43mgetresponse\u001b[49m\u001b[43m(\u001b[49m\u001b[43m)\u001b[49m\n\u001b[1;32m    463\u001b[0m     \u001b[38;5;28;01mexcept\u001b[39;00m \u001b[38;5;167;01mBaseException\u001b[39;00m \u001b[38;5;28;01mas\u001b[39;00m e:\n\u001b[1;32m    464\u001b[0m         \u001b[38;5;66;03m# Remove the TypeError from the exception chain in\u001b[39;00m\n\u001b[1;32m    465\u001b[0m         \u001b[38;5;66;03m# Python 3 (including for exceptions like SystemExit).\u001b[39;00m\n\u001b[1;32m    466\u001b[0m         \u001b[38;5;66;03m# Otherwise it looks like a bug in the code.\u001b[39;00m\n\u001b[1;32m    467\u001b[0m         six\u001b[38;5;241m.\u001b[39mraise_from(e, \u001b[38;5;28;01mNone\u001b[39;00m)\n",
      "File \u001b[0;32m~/.conda/envs/cs329t-hw2/lib/python3.11/http/client.py:1395\u001b[0m, in \u001b[0;36mHTTPConnection.getresponse\u001b[0;34m(self)\u001b[0m\n\u001b[1;32m   1393\u001b[0m \u001b[38;5;28;01mtry\u001b[39;00m:\n\u001b[1;32m   1394\u001b[0m     \u001b[38;5;28;01mtry\u001b[39;00m:\n\u001b[0;32m-> 1395\u001b[0m         \u001b[43mresponse\u001b[49m\u001b[38;5;241;43m.\u001b[39;49m\u001b[43mbegin\u001b[49m\u001b[43m(\u001b[49m\u001b[43m)\u001b[49m\n\u001b[1;32m   1396\u001b[0m     \u001b[38;5;28;01mexcept\u001b[39;00m \u001b[38;5;167;01mConnectionError\u001b[39;00m:\n\u001b[1;32m   1397\u001b[0m         \u001b[38;5;28mself\u001b[39m\u001b[38;5;241m.\u001b[39mclose()\n",
      "File \u001b[0;32m~/.conda/envs/cs329t-hw2/lib/python3.11/http/client.py:325\u001b[0m, in \u001b[0;36mHTTPResponse.begin\u001b[0;34m(self)\u001b[0m\n\u001b[1;32m    323\u001b[0m \u001b[38;5;66;03m# read until we get a non-100 response\u001b[39;00m\n\u001b[1;32m    324\u001b[0m \u001b[38;5;28;01mwhile\u001b[39;00m \u001b[38;5;28;01mTrue\u001b[39;00m:\n\u001b[0;32m--> 325\u001b[0m     version, status, reason \u001b[38;5;241m=\u001b[39m \u001b[38;5;28;43mself\u001b[39;49m\u001b[38;5;241;43m.\u001b[39;49m\u001b[43m_read_status\u001b[49m\u001b[43m(\u001b[49m\u001b[43m)\u001b[49m\n\u001b[1;32m    326\u001b[0m     \u001b[38;5;28;01mif\u001b[39;00m status \u001b[38;5;241m!=\u001b[39m CONTINUE:\n\u001b[1;32m    327\u001b[0m         \u001b[38;5;28;01mbreak\u001b[39;00m\n",
      "File \u001b[0;32m~/.conda/envs/cs329t-hw2/lib/python3.11/http/client.py:286\u001b[0m, in \u001b[0;36mHTTPResponse._read_status\u001b[0;34m(self)\u001b[0m\n\u001b[1;32m    285\u001b[0m \u001b[38;5;28;01mdef\u001b[39;00m \u001b[38;5;21m_read_status\u001b[39m(\u001b[38;5;28mself\u001b[39m):\n\u001b[0;32m--> 286\u001b[0m     line \u001b[38;5;241m=\u001b[39m \u001b[38;5;28mstr\u001b[39m(\u001b[38;5;28mself\u001b[39m\u001b[38;5;241m.\u001b[39mfp\u001b[38;5;241m.\u001b[39mreadline(_MAXLINE \u001b[38;5;241m+\u001b[39m \u001b[38;5;241m1\u001b[39m), \u001b[38;5;124m\"\u001b[39m\u001b[38;5;124miso-8859-1\u001b[39m\u001b[38;5;124m\"\u001b[39m)\n\u001b[1;32m    287\u001b[0m     \u001b[38;5;28;01mif\u001b[39;00m \u001b[38;5;28mlen\u001b[39m(line) \u001b[38;5;241m>\u001b[39m _MAXLINE:\n\u001b[1;32m    288\u001b[0m         \u001b[38;5;28;01mraise\u001b[39;00m LineTooLong(\u001b[38;5;124m\"\u001b[39m\u001b[38;5;124mstatus line\u001b[39m\u001b[38;5;124m\"\u001b[39m)\n",
      "File \u001b[0;32m~/.conda/envs/cs329t-hw2/lib/python3.11/socket.py:706\u001b[0m, in \u001b[0;36mSocketIO.readinto\u001b[0;34m(self, b)\u001b[0m\n\u001b[1;32m    704\u001b[0m \u001b[38;5;28;01mwhile\u001b[39;00m \u001b[38;5;28;01mTrue\u001b[39;00m:\n\u001b[1;32m    705\u001b[0m     \u001b[38;5;28;01mtry\u001b[39;00m:\n\u001b[0;32m--> 706\u001b[0m         \u001b[38;5;28;01mreturn\u001b[39;00m \u001b[38;5;28;43mself\u001b[39;49m\u001b[38;5;241;43m.\u001b[39;49m\u001b[43m_sock\u001b[49m\u001b[38;5;241;43m.\u001b[39;49m\u001b[43mrecv_into\u001b[49m\u001b[43m(\u001b[49m\u001b[43mb\u001b[49m\u001b[43m)\u001b[49m\n\u001b[1;32m    707\u001b[0m     \u001b[38;5;28;01mexcept\u001b[39;00m timeout:\n\u001b[1;32m    708\u001b[0m         \u001b[38;5;28mself\u001b[39m\u001b[38;5;241m.\u001b[39m_timeout_occurred \u001b[38;5;241m=\u001b[39m \u001b[38;5;28;01mTrue\u001b[39;00m\n",
      "File \u001b[0;32m~/.conda/envs/cs329t-hw2/lib/python3.11/site-packages/snowflake/connector/vendored/urllib3/contrib/pyopenssl.py:330\u001b[0m, in \u001b[0;36mWrappedSocket.recv_into\u001b[0;34m(self, *args, **kwargs)\u001b[0m\n\u001b[1;32m    328\u001b[0m         \u001b[38;5;28;01mraise\u001b[39;00m\n\u001b[1;32m    329\u001b[0m \u001b[38;5;28;01mexcept\u001b[39;00m OpenSSL\u001b[38;5;241m.\u001b[39mSSL\u001b[38;5;241m.\u001b[39mWantReadError:\n\u001b[0;32m--> 330\u001b[0m     \u001b[38;5;28;01mif\u001b[39;00m \u001b[38;5;129;01mnot\u001b[39;00m \u001b[43mutil\u001b[49m\u001b[38;5;241;43m.\u001b[39;49m\u001b[43mwait_for_read\u001b[49m\u001b[43m(\u001b[49m\u001b[38;5;28;43mself\u001b[39;49m\u001b[38;5;241;43m.\u001b[39;49m\u001b[43msocket\u001b[49m\u001b[43m,\u001b[49m\u001b[43m \u001b[49m\u001b[38;5;28;43mself\u001b[39;49m\u001b[38;5;241;43m.\u001b[39;49m\u001b[43msocket\u001b[49m\u001b[38;5;241;43m.\u001b[39;49m\u001b[43mgettimeout\u001b[49m\u001b[43m(\u001b[49m\u001b[43m)\u001b[49m\u001b[43m)\u001b[49m:\n\u001b[1;32m    331\u001b[0m         \u001b[38;5;28;01mraise\u001b[39;00m timeout(\u001b[38;5;124m\"\u001b[39m\u001b[38;5;124mThe read operation timed out\u001b[39m\u001b[38;5;124m\"\u001b[39m)\n\u001b[1;32m    332\u001b[0m     \u001b[38;5;28;01melse\u001b[39;00m:\n",
      "File \u001b[0;32m~/.conda/envs/cs329t-hw2/lib/python3.11/site-packages/snowflake/connector/vendored/urllib3/util/wait.py:145\u001b[0m, in \u001b[0;36mwait_for_read\u001b[0;34m(sock, timeout)\u001b[0m\n\u001b[1;32m    141\u001b[0m \u001b[38;5;28;01mdef\u001b[39;00m \u001b[38;5;21mwait_for_read\u001b[39m(sock, timeout\u001b[38;5;241m=\u001b[39m\u001b[38;5;28;01mNone\u001b[39;00m):\n\u001b[1;32m    142\u001b[0m \u001b[38;5;250m    \u001b[39m\u001b[38;5;124;03m\"\"\"Waits for reading to be available on a given socket.\u001b[39;00m\n\u001b[1;32m    143\u001b[0m \u001b[38;5;124;03m    Returns True if the socket is readable, or False if the timeout expired.\u001b[39;00m\n\u001b[1;32m    144\u001b[0m \u001b[38;5;124;03m    \"\"\"\u001b[39;00m\n\u001b[0;32m--> 145\u001b[0m     \u001b[38;5;28;01mreturn\u001b[39;00m \u001b[43mwait_for_socket\u001b[49m\u001b[43m(\u001b[49m\u001b[43msock\u001b[49m\u001b[43m,\u001b[49m\u001b[43m \u001b[49m\u001b[43mread\u001b[49m\u001b[38;5;241;43m=\u001b[39;49m\u001b[38;5;28;43;01mTrue\u001b[39;49;00m\u001b[43m,\u001b[49m\u001b[43m \u001b[49m\u001b[43mtimeout\u001b[49m\u001b[38;5;241;43m=\u001b[39;49m\u001b[43mtimeout\u001b[49m\u001b[43m)\u001b[49m\n",
      "File \u001b[0;32m~/.conda/envs/cs329t-hw2/lib/python3.11/site-packages/snowflake/connector/vendored/urllib3/util/wait.py:106\u001b[0m, in \u001b[0;36mpoll_wait_for_socket\u001b[0;34m(sock, read, write, timeout)\u001b[0m\n\u001b[1;32m    103\u001b[0m         t \u001b[38;5;241m*\u001b[39m\u001b[38;5;241m=\u001b[39m \u001b[38;5;241m1000\u001b[39m\n\u001b[1;32m    104\u001b[0m     \u001b[38;5;28;01mreturn\u001b[39;00m poll_obj\u001b[38;5;241m.\u001b[39mpoll(t)\n\u001b[0;32m--> 106\u001b[0m \u001b[38;5;28;01mreturn\u001b[39;00m \u001b[38;5;28mbool\u001b[39m(\u001b[43m_retry_on_intr\u001b[49m\u001b[43m(\u001b[49m\u001b[43mdo_poll\u001b[49m\u001b[43m,\u001b[49m\u001b[43m \u001b[49m\u001b[43mtimeout\u001b[49m\u001b[43m)\u001b[49m)\n",
      "File \u001b[0;32m~/.conda/envs/cs329t-hw2/lib/python3.11/site-packages/snowflake/connector/vendored/urllib3/util/wait.py:43\u001b[0m, in \u001b[0;36m_retry_on_intr\u001b[0;34m(fn, timeout)\u001b[0m\n\u001b[1;32m     42\u001b[0m \u001b[38;5;28;01mdef\u001b[39;00m \u001b[38;5;21m_retry_on_intr\u001b[39m(fn, timeout):\n\u001b[0;32m---> 43\u001b[0m     \u001b[38;5;28;01mreturn\u001b[39;00m \u001b[43mfn\u001b[49m\u001b[43m(\u001b[49m\u001b[43mtimeout\u001b[49m\u001b[43m)\u001b[49m\n",
      "File \u001b[0;32m~/.conda/envs/cs329t-hw2/lib/python3.11/site-packages/snowflake/connector/vendored/urllib3/util/wait.py:104\u001b[0m, in \u001b[0;36mpoll_wait_for_socket.<locals>.do_poll\u001b[0;34m(t)\u001b[0m\n\u001b[1;32m    102\u001b[0m \u001b[38;5;28;01mif\u001b[39;00m t \u001b[38;5;129;01mis\u001b[39;00m \u001b[38;5;129;01mnot\u001b[39;00m \u001b[38;5;28;01mNone\u001b[39;00m:\n\u001b[1;32m    103\u001b[0m     t \u001b[38;5;241m*\u001b[39m\u001b[38;5;241m=\u001b[39m \u001b[38;5;241m1000\u001b[39m\n\u001b[0;32m--> 104\u001b[0m \u001b[38;5;28;01mreturn\u001b[39;00m poll_obj\u001b[38;5;241m.\u001b[39mpoll(t)\n",
      "File \u001b[0;32m~/.conda/envs/cs329t-hw2/lib/python3.11/site-packages/snowflake/connector/cursor.py:689\u001b[0m, in \u001b[0;36mSnowflakeCursor._execute_helper.<locals>.interrupt_handler\u001b[0;34m(*_)\u001b[0m\n\u001b[1;32m    686\u001b[0m         \u001b[38;5;28;01mexcept\u001b[39;00m (\u001b[38;5;167;01mValueError\u001b[39;00m, \u001b[38;5;167;01mTypeError\u001b[39;00m):\n\u001b[1;32m    687\u001b[0m             \u001b[38;5;66;03m# ignore failures\u001b[39;00m\n\u001b[1;32m    688\u001b[0m             \u001b[38;5;28;01mpass\u001b[39;00m\n\u001b[0;32m--> 689\u001b[0m \u001b[38;5;28;01mraise\u001b[39;00m \u001b[38;5;167;01mKeyboardInterrupt\u001b[39;00m\n",
      "\u001b[0;31mKeyboardInterrupt\u001b[0m: "
     ]
    }
   ],
   "source": [
    "# Create a snowflake cursor object\n",
    "cursor = snowflake_connection.cursor()\n",
    "\n",
    "# train\n",
    "# Define the SQL query to fetch the data\n",
    "train_query = \"SELECT * FROM CHIPMUNK_DB.PLAGBENCH.PLAGBENCH_TRAIN\"\n",
    "cursor.execute(train_query)\n",
    "train = cursor.fetch_pandas_all()\n",
    "train.rename(columns={'SUSP_DOC':'query', 'PLAGIARISM_TYPE':'expected_response'},\n",
    "             inplace=True)\n",
    "train['expected_response'] = train['expected_response'].fillna('NA')\n",
    "# persist data in trulens database so we can fetch it from here in the future\n",
    "session.add_ground_truth_to_dataset(\n",
    "    dataset_name=\"plagbench_train\",\n",
    "    ground_truth_df=train,\n",
    "    dataset_metadata={\"split\": \"train\"},\n",
    ")\n",
    "display(train.head())\n",
    "print(\"train size:\", train.shape)\n",
    "\n",
    "# test\n",
    "# Define the SQL query to fetch the data\n",
    "test_query = \"SELECT * FROM CHIPMUNK_DB.PLAGBENCH.PLAGBENCH_TEST\"\n",
    "cursor.execute(test_query)\n",
    "test = cursor.fetch_pandas_all()\n",
    "test.rename(columns={'SUSP_DOC':'query', 'PLAGIARISM_TYPE':'expected_response'},\n",
    "             inplace=True)\n",
    "test['expected_response'] = test['expected_response'].fillna('NA')\n",
    "# persist data in trulens database so we can fetch it from here in the future\n",
    "session.add_ground_truth_to_dataset(\n",
    "    dataset_name=\"plagbench_test\",\n",
    "    ground_truth_df=test,\n",
    "    dataset_metadata={\"split\": \"test\"},\n",
    ")\n",
    "display(test.head())\n",
    "print(\"test size:\", test.shape)\n",
    "\n",
    "# valid\n",
    "# Define the SQL query to fetch the data\n",
    "valid_query = \"SELECT * FROM CHIPMUNK_DB.PLAGBENCH.PLAGBENCH_VALID\"\n",
    "cursor.execute(valid_query)\n",
    "valid = cursor.fetch_pandas_all()\n",
    "valid.rename(columns={'SUSP_DOC':'query', 'PLAGIARISM_TYPE':'expected_response'},\n",
    "             inplace=True)\n",
    "valid['expected_response'] = valid['expected_response'].fillna('NA')\n",
    "# persist data in trulens database so we can fetch it from here in the future\n",
    "session.add_ground_truth_to_dataset(\n",
    "    dataset_name=\"plagbench_valid\",\n",
    "    ground_truth_df=valid,\n",
    "    dataset_metadata={\"split\": \"valid\"},\n",
    ")\n",
    "display(valid.head())\n",
    "print(\"valid size:\", valid.shape)"
   ]
  },
  {
   "cell_type": "code",
   "execution_count": null,
   "metadata": {},
   "outputs": [],
   "source": [
    "# source docs for retrieval\n",
    "ground_truth = pd.concat([train, test, valid])\n",
    "\n",
    "# check if source_docs table already in snowflake\n",
    "try:\n",
    "    source_docs = snowpark_session.read.table(\"CHIPMUNK_DB.PLAGBENCH.SOURCE_DOCS\")\n",
    "    source_docs_df = source_docs.to_pandas()\n",
    "except:\n",
    "    source_docs = ground_truth['SOURCE_DOC'].unique()\n",
    "    # write source_docs to snowflake\n",
    "    source_docs_df = pd.DataFrame(source_docs, columns=['content'])\n",
    "    source_docs_df['id'] = source_docs_df.index\n",
    "    snowpark_session.write_pandas(source_docs_df, table_name=\"SOURCE_DOCS\",\n",
    "                                  database=\"CHIPMUNK_DB\", schema='PLAGBENCH', auto_create_table=True)\n",
    "    source_docs = snowpark_session.read.table(\"CHIPMUNK_DB.PLAGBENCH.SOURCE_DOCS\")\n",
    "    source_docs_df = source_docs.to_pandas()\n"
   ]
  },
  {
   "cell_type": "markdown",
   "metadata": {},
   "source": [
    "## Evaluation Metrics"
   ]
  },
  {
   "cell_type": "code",
   "execution_count": null,
   "metadata": {},
   "outputs": [
    {
     "data": {
      "text/plain": [
       "dict_items([('marks_per_second', 5), ('seconds_per_period', 1), ('seconds_per_period_timedelta', datetime.timedelta(seconds=1)), ('mark_expirations', deque([])), ('max_marks', 60), ('last_mark', datetime.datetime(2024, 12, 2, 16, 59, 54, 486375)), ('lock', <unlocked _thread.lock object at 0x713de476d900>)])"
      ]
     },
     "execution_count": 8,
     "metadata": {},
     "output_type": "execute_result"
    }
   ],
   "source": [
    "provider = OpenAI_tl(model_engine=\"gpt-4o-mini-2024-07-18\",\n",
    "                     api_key=os.getenv('OPENAI_API_KEY'))\n",
    "provider.endpoint.pace.marks_per_second = 5\n",
    "provider.endpoint.pace.seconds_per_period = 1\n",
    "provider.endpoint.pace.seconds_per_period_timedelta = timedelta(seconds=1)\n",
    "provider.endpoint.pace.__dict__.items()"
   ]
  },
  {
   "cell_type": "markdown",
   "metadata": {},
   "source": [
    "### RAG Trio"
   ]
  },
  {
   "cell_type": "code",
   "execution_count": null,
   "metadata": {},
   "outputs": [],
   "source": [
    "# Groundedness\n",
    "\n",
    "@retry(stop=stop_after_attempt(5), wait=wait_exponential(multiplier=1, min=1, max=10),before=warn_on_retry)\n",
    "def groundedness(target, context, output):\n",
    "    caller = provider.groundedness_measure_with_cot_reasons\n",
    "    context_str = ''\n",
    "    for i in range(len(context)):\n",
    "        context_str += f'SOURCE DOCUMENT {i+1}: {context[i]}\\n'\n",
    "    context_str += f'TARGET DOCUMENT: {target}'\n",
    "    criteria = f\"Your goal is to assess the groundedness of the provided STATEMENT \\\n",
    "in regard to the provided SOURCE DOCUMENTs and the TARGET DOCUMENT. \\\n",
    "Each STATEMENT should be substantiated by evidence from the TARGET DOCUMENT or at least one of the SOURCE DOCUMENTs. \\\n",
    "For each STATEMENT, think step by step and then score it with 1 if the claim is substantiated by the documents and 0 if it is not.\"\n",
    "    with warnings.catch_warnings():\n",
    "        warnings.filterwarnings('error')\n",
    "        warnings.filterwarnings('ignore', category=UserWarning) # ignore issue with filtering trivial statements\n",
    "        try:\n",
    "            return caller(source=context_str, statement=output, criteria=criteria, min_score_val=0, max_score_val=1)\n",
    "        except Warning as e:\n",
    "            print('error in groundedness:',e)\n",
    "            return (np.nan,{'reasons': f'Warning: {e}'})"
   ]
  },
  {
   "cell_type": "code",
   "execution_count": null,
   "metadata": {},
   "outputs": [],
   "source": [
    "# Answer Relevance\n",
    "\n",
    "@retry(stop=stop_after_attempt(5), wait=wait_exponential(multiplier=1, min=1, max=10),before=warn_on_retry)\n",
    "def a_relevance(prompt, output):\n",
    "    caller = provider.relevance_with_cot_reasons\n",
    "    criteria = f\"Your goal is to assess the relevance of the provided RESPONSE \\\n",
    "to the provided PROMPT, which is to identify whether plagiarism in the target (student) document. \\\n",
    "For each RESPONSE, think step by step and then score it with 1 if the claim is relevant to the task and 0 if it is not.\"\n",
    "    with warnings.catch_warnings():\n",
    "        warnings.filterwarnings('error')\n",
    "        warnings.filterwarnings('ignore', category=UserWarning) # ignore issue with filtering trivial statements\n",
    "        try:\n",
    "            return caller(prompt, output, criteria=criteria, min_score_val=0, max_score_val=1)\n",
    "        except Warning as e:\n",
    "            print('error in answer relevance:',e)\n",
    "            return (np.nan,{'reason': f'Warning: {e}'})"
   ]
  },
  {
   "cell_type": "code",
   "execution_count": null,
   "metadata": {},
   "outputs": [],
   "source": [
    "# Context Relevance - not averaged\n",
    "\n",
    "@retry(stop=stop_after_attempt(5), wait=wait_exponential(multiplier=1, min=1, max=10),before=warn_on_retry)\n",
    "def c_relevance(target, context):\n",
    "    caller = provider.relevance_with_cot_reasons\n",
    "    criteria = f\"A student may have committed plagiarism, and your goal is to help identify it by filtering relevant documents. \\\n",
    "Your goal is to assess the relevance of each provided source documents, in the CONTEXT, to the provided student document, in the QUESTION. \\\n",
    "Think step by step, considering each source document separately, and if the context contains at least one document that is highly related to the target document, \\\n",
    "score the CONTEXT with 1. Otherwise, if none of the source documents in the CONTEXT are highly related to the student document, score the CONTEXT with a 0.\"\n",
    "    with warnings.catch_warnings():\n",
    "        warnings.filterwarnings('error')\n",
    "        warnings.filterwarnings('ignore', category=UserWarning) # ignore issue with filtering trivial statements\n",
    "        try:\n",
    "            return caller(target, context, criteria=criteria, min_score_val=0, max_score_val=1)\n",
    "        except Warning as e:\n",
    "            print('error in context relevance:',e)\n",
    "            return (np.nan,{'reason': f'Warning: {e}'})"
   ]
  },
  {
   "cell_type": "markdown",
   "metadata": {},
   "source": [
    "### Classification label metrics"
   ]
  },
  {
   "cell_type": "code",
   "execution_count": null,
   "metadata": {},
   "outputs": [
    {
     "name": "stdout",
     "output_type": "stream",
     "text": [
      "✅ In LLM Agreement, input prompt will be set to __record__.main_input or `Select.RecordInput` .\n",
      "✅ In LLM Agreement, input response will be set to __record__.main_output or `Select.RecordOutput` .\n"
     ]
    }
   ],
   "source": [
    "# Accuracy\n",
    "def parse_label(output):\n",
    "    if 'LABEL:' in output:\n",
    "        return output.split('LABEL:')[1].strip()\n",
    "    return output[-15:]\n",
    "\n",
    "def accuracy_fine(df, expected='expected_response', output='output'):\n",
    "    return df.apply(lambda row: (row[expected] in parse_label(row[output])) if isinstance(row[expected], str) and isinstance(row[output], str) else np.nan, axis=1)\n",
    "\n",
    "def accuracy_coarse(df, label='LABEL', output='output'):\n",
    "    if df[label].dtype == bool:\n",
    "        yes=True\n",
    "        no=False\n",
    "    elif df[label].dtype == str:\n",
    "        yes='yes'\n",
    "        no='no'\n",
    "    else:\n",
    "        yes=1\n",
    "        no=0\n",
    "    def get_coarse(fine):\n",
    "        if 'NA' in parse_label(fine): # only look at the last 15 characters\n",
    "            return no\n",
    "        return yes\n",
    "    return df.apply(lambda row: (get_coarse(row[output]) == row[label]) if isinstance(row[output], str) else row[output] == yes, axis=1)"
   ]
  },
  {
   "cell_type": "code",
   "execution_count": null,
   "metadata": {},
   "outputs": [],
   "source": [
    "# Summary statistics\n",
    "\n",
    "def get_positivity(label_col):\n",
    "    if label_col.dtype == bool:\n",
    "        return lambda x: x\n",
    "    elif label_col.dtype == str:\n",
    "        return lambda x: x == 'True' or x == 'yes'\n",
    "    else:\n",
    "        return lambda x: x == 1\n",
    "\n",
    "\n",
    "# Precision\n",
    "def precision(df,\n",
    "              scores='accuracy_coarse', # binary accuracy metric, not raw output. use coarse labels by default\n",
    "              labels='LABEL'\n",
    "              ):\n",
    "    df = df.copy()\n",
    "    positivity = get_positivity(df[labels])\n",
    "    df['positive'] = df[labels].apply(positivity)\n",
    "    df['true_positive'] = (df['positive'] & df[scores])\n",
    "    tp = df['true_positive'].sum() or 0\n",
    "    df['false_positive'] = (~df['positive'] & ~df[scores])\n",
    "    fp = df['false_positive'].sum() or 0\n",
    "    if tp == 0 and fp == 0:\n",
    "        return np.nan\n",
    "    return tp / (tp + fp)\n",
    "\n",
    "# Recall\n",
    "def recall(df,\n",
    "           scores='accuracy_coarse', # binary accuracy metric, not raw output. use coarse labels by default\n",
    "           labels='LABEL'\n",
    "           ):\n",
    "    df = df.copy()\n",
    "    positivity = get_positivity(df[labels])\n",
    "    df['positive'] = df[labels].apply(positivity)\n",
    "    df['true_positive'] = (df['positive'] & df[scores])\n",
    "    tp = df['true_positive'].sum() or 0\n",
    "    df['false_negative'] = (df['positive'] & ~df[scores])\n",
    "    fn = df['false_negative'].sum() or 0\n",
    "    if tp == 0 and fn == 0:\n",
    "        return np.nan\n",
    "    return tp / (tp + fn)\n",
    "\n",
    "# F1\n",
    "def f1(df,\n",
    "       scores='accuracy_coarse', # binary accuracy metric, not raw output. use coarse labels by default\n",
    "       labels='LABEL'\n",
    "       ):\n",
    "    precision_score = precision(df, scores, labels) or 0\n",
    "    recall_score = recall(df, scores, labels) or 0\n",
    "    if precision_score == 0 and recall_score == 0:\n",
    "        return np.nan\n",
    "    return 2 * (precision_score * recall_score) / (precision_score + recall_score)"
   ]
  },
  {
   "cell_type": "markdown",
   "metadata": {},
   "source": [
    "### Confidence"
   ]
  },
  {
   "cell_type": "code",
   "execution_count": null,
   "metadata": {},
   "outputs": [],
   "source": [
    "def confidence(output_col):\n",
    "    def parse_confidence(output):\n",
    "        if isinstance(output, str) and 'CONFIDENCE:' in output:\n",
    "            conf = output.split('CONFIDENCE:')[1].split(\"%\")[0]\n",
    "            # select numeric part of confidence, which may contain a single decimal point\n",
    "            conf = re.search(r'\\d+(\\.\\d+)?', conf).group()\n",
    "            return float(conf)\n",
    "        return np.nan\n",
    "    confidences = output_col.apply(parse_confidence)\n",
    "    if any(confidences.notna()):\n",
    "        return confidences.mean()\n",
    "    return np.nan"
   ]
  },
  {
   "cell_type": "markdown",
   "metadata": {},
   "source": [
    "### Dashboard parser"
   ]
  },
  {
   "cell_type": "code",
   "execution_count": null,
   "metadata": {},
   "outputs": [],
   "source": [
    "def get_summary_stats(dashboard, grouping_cols, feedbacks, output_col='output'):\n",
    "    summary_stats = []\n",
    "    groups = dashboard.groupby(grouping_cols)\n",
    "    for group in groups:\n",
    "        group_name = group[0]\n",
    "        group_data = group[1]\n",
    "        group_id = zip(grouping_cols, group_name)\n",
    "        stats = {col:val for col,val in group_id}\n",
    "        stats['n']=len(group_data)\n",
    "\n",
    "        group_acc = group_data.assign(accuracy_fine=accuracy_fine(group_data, output=output_col),\n",
    "                                      accuracy_coarse=accuracy_coarse(group_data, output=output_col)\n",
    "                                      )\n",
    "        # summarize feedback scores\n",
    "        for feedback in feedbacks+['accuracy_fine', 'accuracy_coarse']:\n",
    "            stats[feedback] = group_acc[feedback].mean()\n",
    "        # summarize precision, recall\n",
    "        stats['precision'] = precision(group_acc)\n",
    "        stats['recall'] = recall(group_acc)\n",
    "        stats['f1'] = f1(group_acc)\n",
    "        stats['confidence'] = confidence(group_acc[output_col])\n",
    "        summary_stats.append(stats)\n",
    "    return pd.DataFrame(summary_stats)"
   ]
  },
  {
   "cell_type": "markdown",
   "metadata": {},
   "source": [
    "# Our system\n",
    "<a id='ours'></a>"
   ]
  },
  {
   "cell_type": "markdown",
   "metadata": {},
   "source": [
    "## Grounded chain of Thought reasoning"
   ]
  },
  {
   "cell_type": "code",
   "execution_count": null,
   "metadata": {},
   "outputs": [],
   "source": [
    "instruction_prompt = \"\"\"You are a teacher's aid working to assist with grading of student submissions. To ensure academic honesty and fair grading, you need to evaluate whether student works plagiarize or not from one of the provided source texts.\n",
    "\n",
    "In this class, the teacher sorts assignments into four categories based on the level of plagiarism:\n",
    "- \"NA\": no plagiarism\n",
    "- \"verbatim\": when a student copies directly from the source text\n",
    "- \"paraphrasing\": when a student rephrases the source text\n",
    "- \"summary\": when a student summarizes the source text\n",
    "\n",
    "Think step by step, analyze the student submission, and finally respond with \"LABEL:\", followed by **the category label, as specified above** (one of \"NA\", \"verbatim\", \"paraphrasing\", \"summary\").\"\"\"\n",
    "\n",
    "\n",
    "less_brazen_prompt = \"\"\"You are a teacher's aid working to assist with grading of student submissions. To ensure academic honesty and fair grading, you need to evaluate whether student works plagiarize or not from one of the provided source texts.\n",
    "\n",
    "In this class, the teacher sorts assignments into four categories based on the level of plagiarism:\n",
    "- \"NA\": no plagiarism\n",
    "- \"verbatim\": when a student copies directly from the source text\n",
    "- \"paraphrasing\": when a student rephrases the source text\n",
    "- \"summary\": when a student summarizes the source text\n",
    "\n",
    "Many students do not plagiarize, so it is important to be thorough in your evaluation. If the student does make reference to one of the source texts, it is important to identify the type of reference made, as it may be benign and/or properly cited.\n",
    "\n",
    "As you evaluate the student's submission, consider your confidence in your assessment. If you are not confident in your assessment, state so, and do not falsely accuse students of plagiarism if you are no.\n",
    "\n",
    "Think step by step to analyze the student submission.\n",
    "Then, state your confidence as \"CONFIDENCE:\" followed by **a percentage** between 0% (not confident) and 100% (extremely confident).\n",
    "Finally, respond with \"LABEL:\", followed by **the category label, as specified above** (one of \"NA\", \"verbatim\", \"paraphrasing\", \"summary\").\"\"\"\n",
    "\n",
    "least_brazen_prompt = \"\"\"You are a teacher's aid working to assist with grading of student submissions. To ensure academic honesty and fair grading, you need to evaluate whether student works plagiarize from one of the provided source texts.\n",
    "\n",
    "In this class, the teacher sorts assignments into four categories based on the level of plagiarism:\n",
    "- \"NA\": no plagiarism. most students fall into this category.\n",
    "- \"verbatim\": when a student copies directly from the source text\n",
    "- \"paraphrasing\": when a student rephrases the source text\n",
    "- \"summary\": when a student summarizes the source text\n",
    "\n",
    "Many students do not plagiarize, so it is important to be thorough in your evaluation. If the student does make reference to one of the source texts, it is important to identify the type of reference made, as it may be benign and/or properly cited.\n",
    "**DO NOT FALSELY MARK BENIGN WORK AS PLAGIARISED.** It is better to be cautious and give the student the benefit of the doubt.\n",
    "\n",
    "As you evaluate the student's submission, consider your confidence in your assessment. If you are not confident in your assessment, state so, and do not falsely accuse students of plagiarism if you are not sure.\n",
    "\n",
    "Think step by step to analyze the student submission.\n",
    "Then, state your confidence as \"CONFIDENCE:\" followed by **a percentage** between 0% (not confident) and 100% (extremely confident).\n",
    "Finally, respond with \"LABEL:\", followed by **the category label, as specified above** (one of \"NA\", \"verbatim\", \"paraphrasing\", \"summary\").\"\"\""
   ]
  },
  {
   "cell_type": "markdown",
   "metadata": {},
   "source": [
    "## Generate Final Report"
   ]
  },
  {
   "cell_type": "code",
   "execution_count": null,
   "metadata": {},
   "outputs": [],
   "source": [
    "openai_client = OpenAI(api_key=os.getenv('OPENAI_API_KEY'))\n",
    "MAX_LENGTH = 500\n",
    "\n",
    "\n",
    "class Plagiarism_Classifier:\n",
    "\n",
    "    def __init__(self, embed_model, top_k,\n",
    "                 llm, instruction_prompt,\n",
    "                 f_ground=False, f_a_rel=False, f_c_rel=False,\n",
    "                 verbose=False):\n",
    "        self.embed_model = embed_model\n",
    "        self.top_k = top_k\n",
    "        self.llm = llm\n",
    "        assert self.llm in SNOWFLAKE_MODELS or self.llm in OPENAI_MODELS, f\"Model {self.llm} not recognized\"\n",
    "\n",
    "        self.instruction_prompt = instruction_prompt\n",
    "        self.f_ground = f_ground\n",
    "        self.f_a_rel = f_a_rel\n",
    "        self.f_c_rel = f_c_rel\n",
    "        self.verbose = verbose\n",
    "\n",
    "    def train(self, source_docs_df):\n",
    "        # set up vector store\n",
    "        print('Setting up vector store')\n",
    "        self.chroma_client = chromadb.EphemeralClient()\n",
    "        if self.embed_model != 'default':\n",
    "            embedding_function = embedding_functions.OpenAIEmbeddingFunction(\n",
    "                    api_key=os.getenv('OPENAI_API_KEY'),\n",
    "                    model_name=self.embed_model\n",
    "                )\n",
    "            self.vector_store = self.chroma_client.get_or_create_collection(name=f\"source_docs_{self.embed_model}\",\n",
    "                                                                            embedding_function=embedding_function)\n",
    "        else:\n",
    "            self.vector_store = self.chroma_client.get_or_create_collection(name=f\"source_docs_{self.embed_model}\")\n",
    "        ids = self.vector_store.get(include=[\"documents\"])[\"ids\"]\n",
    "        new_docs = source_docs_df[~source_docs_df['id'].astype(str).isin(ids)]\n",
    "        if len(new_docs) > 0:\n",
    "            print(f'Adding {len(new_docs)} source docs to vector store')\n",
    "            self.vector_store.add(ids = new_docs['id'].astype(str).to_list(),documents= new_docs['content'].to_list())\n",
    "\n",
    "    def render_prompt(self, suspect, context = []):\n",
    "        prompt = self.instruction_prompt\n",
    "        if len(context) > 0:\n",
    "            prompt += \"RELEVANT DOCUMENTS: \" + \"\\\"\\n\\t\\\"\".join(context)[1:]+\"\\\"\"\n",
    "        prompt += \"STUDENT SUBMISSION: \" + suspect\n",
    "        return [{\"role\":\"user\",\"content\": prompt}]\n",
    "\n",
    "    @instrument\n",
    "    def retrieve(self, query):\n",
    "        results = self.vector_store.query(query_texts=query, n_results=self.top_k)\n",
    "        return [doc for sublist in results['documents'] for doc in sublist]\n",
    "\n",
    "    @retry(stop=stop_after_attempt(5), wait=wait_exponential(multiplier=1, min=1, max=10),before=warn_on_retry)\n",
    "    def generate(self, messages):\n",
    "        if self.llm in SNOWFLAKE_MODELS:\n",
    "            response = json.loads(Complete(self.llm, messages,\n",
    "                              session=snowpark_session,\n",
    "                              options={'temperature':0, 'max_tokens':MAX_LENGTH}))\n",
    "            response_text = response['choices'][0]['messages'].strip()\n",
    "            return response_text\n",
    "        else:\n",
    "            response = openai_client.chat.completions.create(messages=messages,\n",
    "            model=self.llm,\n",
    "            temperature = 0,\n",
    "            max_tokens= MAX_LENGTH)\n",
    "            response_text = response.choices[0].message.content.strip()\n",
    "            return response_text\n",
    "\n",
    "    @instrument\n",
    "    def classify_plagiarism(self, suspect):\n",
    "        feedback = {}\n",
    "        chunks = self.retrieve(suspect)\n",
    "        if self.verbose:\n",
    "            print('retrieved docs')\n",
    "            print(chunks)\n",
    "        assert len(chunks) > 0, \"No relevant documents found\"\n",
    "        if self.f_c_rel and len(chunks) > 0:\n",
    "            if self.verbose: print('checking context relevance')\n",
    "            feedback.update({'context': chunks})\n",
    "            cr_score, cr_reason  = c_relevance(suspect, chunks)\n",
    "            feedback.update({'context relevance': cr_score, 'context relevance reason': (cr_reason['reason'] if 'reason' in cr_reason\n",
    "                                                                                         else cr_reason['reasons'] if 'reasons' in cr_reason\n",
    "                                                                                         else cr_reason)})\n",
    "        rendered_prompt = self.render_prompt(suspect, chunks)\n",
    "        if self.verbose: print('rendered prompt')\n",
    "        output = self.generate(rendered_prompt)\n",
    "        if self.verbose:\n",
    "            print('generated output')\n",
    "            print(output)\n",
    "        if self.f_ground:\n",
    "            if self.verbose: print('checking groundedness')\n",
    "            g_score, g_reason = groundedness(suspect, chunks, output)\n",
    "            feedback.update({'groundedness': g_score, 'groundedness reason': g_reason['reasons']})\n",
    "        if self.f_a_rel:\n",
    "            if self.verbose: print('checking answer relevance')\n",
    "            prompt_no_context = self.render_prompt(suspect)\n",
    "            a_score, a_reason = a_relevance(prompt_no_context, output)\n",
    "            feedback.update({'answer relevance': a_score, 'answer relevance reason': (a_reason['reason'] if 'reason' in a_reason\n",
    "                                                                                         else a_reason['reasons'] if 'reasons' in a_reason\n",
    "                                                                                         else a_reason)})\n",
    "        return output, feedback"
   ]
  },
  {
   "cell_type": "code",
   "execution_count": null,
   "metadata": {},
   "outputs": [],
   "source": [
    "# actual eval function\n",
    "TIMEOUT = 60 # give each question 60 seconds to complete\n",
    "\n",
    "def eval(embed_model, top_k,\n",
    "         #  chunk_size,\n",
    "         llm, instruction_prompt, data, model_id='', split='test', threads = 10, classifier=None, dashboard = [], verbose=False):\n",
    "\n",
    "    metadata={  # add any additional config hyperparameters below\n",
    "            'llm':llm,\n",
    "            'embed_model':embed_model,\n",
    "            'top_k':top_k,\n",
    "            'prompt':instruction_prompt,\n",
    "            'prompt style': ('less brazen' if instruction_prompt == less_brazen_prompt\n",
    "                                else 'least brazen' if instruction_prompt == least_brazen_prompt\n",
    "                             else 'original'),\n",
    "            # 'chunk_size':chunk_size,\n",
    "            'split': split,\n",
    "            'timestamp': pd.Timestamp.now()\n",
    "            }\n",
    "    if model_id:\n",
    "        metadata['model_id'] = model_id\n",
    "    if classifier is None:\n",
    "        plagiarism_classifier = Plagiarism_Classifier(embed_model, top_k,\n",
    "                                                #   chunk_size,\n",
    "                                                  llm, instruction_prompt,\n",
    "                                                  f_ground=True, f_a_rel=True, f_c_rel=True, verbose=verbose)\n",
    "        plagiarism_classifier.train(source_docs_df)\n",
    "    else:\n",
    "        plagiarism_classifier = classifier\n",
    "    if threads > 1: # multi-threaded\n",
    "\n",
    "        batch_size = (len(data)+threads-1) // threads\n",
    "        batches = [data.iloc[i*batch_size:(i+1)*batch_size] for i in range(threads)]\n",
    "        # split data into even batches\n",
    "\n",
    "        thread_list = []\n",
    "        for i, batch in enumerate(batches):\n",
    "            if len(batch) > 0: # do not create threads for empty batches\n",
    "                thread_list.append((threading.Thread(target=eval,\n",
    "                                                        args=(embed_model, top_k,\n",
    "                                                                #  chunk_size,\n",
    "                                                                llm, instruction_prompt, batch),\n",
    "                                                        kwargs={'split':split, 'threads':1,\n",
    "                                                                'model_id':model_id,\n",
    "                                                                'classifier':plagiarism_classifier, 'dashboard':dashboard}),\n",
    "                                    batch)) # store results for the thread by mutating these lists\n",
    "\n",
    "                print(f\"{thread_list[-1][0].name}: {len(batch)} question{'' if len(batch) == 1 else 's'}\")\n",
    "        # Start every thread\n",
    "        for thread, batch in thread_list:\n",
    "            thread.start()\n",
    "        # Wait for every thread to end\n",
    "        for thread, batch in thread_list:\n",
    "            thread.join(timeout=TIMEOUT*len(batch)) # allow timeout per question.\n",
    "            if thread.is_alive():\n",
    "                print(f\"{thread.name} timed out.\")\n",
    "                continue # allow timed-out threads to run until all others have been checked\n",
    "            # print(f\"{thread.name} finished.\")\n",
    "        for thread, batch in thread_list: # final check for straggler threads\n",
    "            if thread.is_alive():\n",
    "                print(f\"FINAL CHECK - {thread.name} timed out.\")\n",
    "        print(\"All threads finished\")\n",
    "    else: # single thread\n",
    "        for i, row in tqdm(data.iterrows()):\n",
    "            # with recorder as recording:\n",
    "            dash_row = metadata.copy()\n",
    "            label, feedback = plagiarism_classifier.classify_plagiarism(row['query'])\n",
    "            dash_row.update({'query':row['query'], 'expected_response':row['expected_response'], 'LABEL':row['LABEL'],'output':label})\n",
    "            dash_row.update(feedback)\n",
    "            dashboard.append(dash_row)\n",
    "    return pd.DataFrame(dashboard)\n"
   ]
  },
  {
   "cell_type": "markdown",
   "metadata": {},
   "source": [
    "### Hyperparameter Search"
   ]
  },
  {
   "cell_type": "code",
   "execution_count": null,
   "metadata": {},
   "outputs": [],
   "source": [
    "# if dashboard.csv exists, load\n",
    "if os.path.exists('dashboard.csv'):\n",
    "    mega_dashboard = pd.read_csv('dashboard.csv')\n",
    "else:\n",
    "    mega_dashboard = pd.DataFrame()\n",
    "\n",
    "if 'prompt' not in mega_dashboard.columns:\n",
    "    mega_dashboard['prompt'] = instruction_prompt\n",
    "    mega_dashboard['prompt style'] = 'original'\n",
    "else:\n",
    "    mega_dashboard['prompt'] = mega_dashboard['prompt'].fillna(instruction_prompt)\n",
    "    mega_dashboard['prompt style'] = mega_dashboard['prompt'].apply(lambda x: 'less brazen' if x == less_brazen_prompt\n",
    "                                else 'least brazen' if x == least_brazen_prompt\n",
    "                             else 'original')"
   ]
  },
  {
   "cell_type": "code",
   "execution_count": null,
   "metadata": {},
   "outputs": [],
   "source": [
    "embed_models = [ # embedding models\n",
    "                # \"snowflake-arctic-embed-m\",\n",
    "                # \"e5-base-v2\"\n",
    "                'default',\n",
    "                'text-embedding-3-small',\n",
    "                # 'text-embedding-3-large',\n",
    "                # 'text-embedding-ada-002',\n",
    "                # 'babbage-002'\n",
    "                ]\n",
    "top_ks = [\n",
    "          1,\n",
    "          3,\n",
    "          # 5,\n",
    "          10\n",
    "          ]\n",
    "\n",
    "llms = [ # text generation models\n",
    "    # \"snowflake-arctic\",\n",
    "    # \"llama3.1-70b\",\n",
    "    # \"mixtral-8x7b\",\n",
    "    # \"mistral-7b\",\n",
    "    # \"llama3.1-8b\"\n",
    "    'gpt-4o-mini-2024-07-18',\n",
    "]\n",
    "\n",
    "prompts = [\n",
    "           instruction_prompt,\n",
    "        #    less_brazen_prompt\n",
    "            #   least_brazen_prompt\n",
    "           ]\n",
    "\n",
    "if mega_dashboard.shape[0] < valid.shape[0]*len(embed_models)*len(top_ks)*len(llms)*len(prompts):\n",
    "    for embed_model, top_k, llm, prompt in tqdm(itertools.product(\n",
    "        embed_models,\n",
    "        top_ks,\n",
    "        llms,\n",
    "        prompts\n",
    "        )):\n",
    "        print(f\"Embedding model: {embed_model}, Top K: {top_k}, LLM: {llm}, Prompt style: {'less brazen' if prompt == less_brazen_prompt else 'original'}\")\n",
    "        data = valid.iloc[:]\n",
    "        hyper_dashboard = eval(embed_model, top_k, llm, prompt, data, split='valid',threads=30,dashboard=[])\n",
    "        mega_dashboard = pd.concat([mega_dashboard, hyper_dashboard])"
   ]
  },
  {
   "cell_type": "code",
   "execution_count": null,
   "metadata": {},
   "outputs": [],
   "source": [
    "mega_dashboard['expected_response'] = mega_dashboard['expected_response'].fillna('NA')\n",
    "mega_dashboard.to_csv('dashboard.csv', index=False)"
   ]
  },
  {
   "cell_type": "code",
   "execution_count": null,
   "metadata": {},
   "outputs": [
    {
     "data": {
      "text/html": [
       "<div>\n",
       "<style scoped>\n",
       "    .dataframe tbody tr th:only-of-type {\n",
       "        vertical-align: middle;\n",
       "    }\n",
       "\n",
       "    .dataframe tbody tr th {\n",
       "        vertical-align: top;\n",
       "    }\n",
       "\n",
       "    .dataframe thead th {\n",
       "        text-align: right;\n",
       "    }\n",
       "</style>\n",
       "<table border=\"1\" class=\"dataframe\">\n",
       "  <thead>\n",
       "    <tr style=\"text-align: right;\">\n",
       "      <th></th>\n",
       "      <th>prompt style</th>\n",
       "      <th>n</th>\n",
       "      <th>context relevance</th>\n",
       "      <th>groundedness</th>\n",
       "      <th>answer relevance</th>\n",
       "      <th>accuracy_fine</th>\n",
       "      <th>accuracy_coarse</th>\n",
       "      <th>precision</th>\n",
       "      <th>recall</th>\n",
       "      <th>f1</th>\n",
       "      <th>confidence</th>\n",
       "    </tr>\n",
       "  </thead>\n",
       "  <tbody>\n",
       "    <tr>\n",
       "      <th>0</th>\n",
       "      <td>least brazen</td>\n",
       "      <td>736</td>\n",
       "      <td>0.854620</td>\n",
       "      <td>0.660587</td>\n",
       "      <td>0.987772</td>\n",
       "      <td>0.535326</td>\n",
       "      <td>0.839674</td>\n",
       "      <td>0.747863</td>\n",
       "      <td>1.0</td>\n",
       "      <td>0.855746</td>\n",
       "      <td>90.815217</td>\n",
       "    </tr>\n",
       "    <tr>\n",
       "      <th>1</th>\n",
       "      <td>less brazen</td>\n",
       "      <td>729</td>\n",
       "      <td>0.857339</td>\n",
       "      <td>0.685327</td>\n",
       "      <td>0.998628</td>\n",
       "      <td>0.508916</td>\n",
       "      <td>0.813443</td>\n",
       "      <td>0.718427</td>\n",
       "      <td>1.0</td>\n",
       "      <td>0.836145</td>\n",
       "      <td>91.469780</td>\n",
       "    </tr>\n",
       "    <tr>\n",
       "      <th>2</th>\n",
       "      <td>original</td>\n",
       "      <td>546</td>\n",
       "      <td>0.864469</td>\n",
       "      <td>0.738764</td>\n",
       "      <td>0.919414</td>\n",
       "      <td>0.470696</td>\n",
       "      <td>0.811355</td>\n",
       "      <td>0.741206</td>\n",
       "      <td>1.0</td>\n",
       "      <td>0.851371</td>\n",
       "      <td>NaN</td>\n",
       "    </tr>\n",
       "  </tbody>\n",
       "</table>\n",
       "</div>"
      ],
      "text/plain": [
       "   prompt style    n  context relevance  groundedness  answer relevance  \\\n",
       "0  least brazen  736           0.854620      0.660587          0.987772   \n",
       "1   less brazen  729           0.857339      0.685327          0.998628   \n",
       "2      original  546           0.864469      0.738764          0.919414   \n",
       "\n",
       "   accuracy_fine  accuracy_coarse  precision  recall        f1  confidence  \n",
       "0       0.535326         0.839674   0.747863     1.0  0.855746   90.815217  \n",
       "1       0.508916         0.813443   0.718427     1.0  0.836145   91.469780  \n",
       "2       0.470696         0.811355   0.741206     1.0  0.851371         NaN  "
      ]
     },
     "metadata": {},
     "output_type": "display_data"
    }
   ],
   "source": [
    "hyper = get_summary_stats(mega_dashboard, ['prompt style'], ['context relevance', 'groundedness', 'answer relevance'])\n",
    "display(hyper.sort_values('accuracy_coarse', ascending=False))"
   ]
  },
  {
   "cell_type": "markdown",
   "metadata": {},
   "source": [
    "### Discussion\n",
    "\n",
    "![embed results](figures/embed_model_validation.png)\n",
    "\n",
    "![top-k results](figures/top_k_validation.png)\n",
    "\n",
    "![top-k results](figures/prompt_validation.png)\n",
    "\n",
    "**Looking at the ground truth labels:**\n",
    "\n",
    "On this validation set, we got **100% recall** on the coarse labels (binary plagiarism/no plagiarism) for all combinations of retriever settings and prompts that we tried. This indicates that the generator model didn't miss any plagiarism cases (i.e. no false negatives). As a result, the overall performance (measured via accuracy or f1) is really just dependent on the amount the model over-triggers. In this regard, we had the best performance for the retriever with the `text-embedding-3-small` embeddings, retrieving the top 3 sources for each suspect document, and with the most cautious prompt. \n",
    "\n",
    "verall, it seems that the **`text-embedding-3-small` embedding model** is slightly better for this task than the default chromadb embedding model, and the system does better (finds makes spurious plagiarism claims) when **retrieving fewer documents**. The fewer documents point makes sense; since we have the actual ground truth source document for each query in our retrieval corpus, the additional documents may just contribute noise.\n",
    "\n",
    "**Looking at the RAG evaluation metrics:**\n",
    "- **context relevance** decreases as the number of retrieved doocuments increases. This makes sense because, again, we have access to the single ground truth relevant document.\n",
    "- **groundedness** increases as the number of retrieved documents increases. I think this may be because the larger context leads to a longer prompt and a longer chain of thought, providing more opportunities to ground the answer in both the context and the query.\\\n",
    "- **answer relevance** stays about the same as the number of retrieved documents increases. This makes sense, because the llm that generates the final answer does not depend on the retriever.\n",
    "\n",
    "\n",
    "**Looking at the Confidence:**\n",
    "The reported confidence did not seem to depend strongly on the prompt or retriever settings. I suspect this may have more to do with the generator LLM, which I did not tune over for cost and practicality rasons.\n",
    "\n",
    "**For my final evaluation**, I will use the `text-embedding-3-small` embedding model, with 3 documents retrieved and the most cautious prompt.\n"
   ]
  },
  {
   "cell_type": "markdown",
   "metadata": {},
   "source": [
    "# Baselines\n",
    "<a id='baselines'></a>"
   ]
  },
  {
   "cell_type": "markdown",
   "metadata": {},
   "source": [
    "## Text Heuristics"
   ]
  },
  {
   "cell_type": "code",
   "execution_count": null,
   "metadata": {},
   "outputs": [],
   "source": [
    "if 'train_heuristics.csv' in os.listdir():\n",
    "    train_heuristics = pd.read_csv('train_heuristics.csv').fillna('NA')\n",
    "else:\n",
    "    train_heuristics = train.copy()\n",
    "if 'valid_heuristics.csv' in os.listdir():\n",
    "    valid_heuristics = pd.read_csv('valid_heuristics.csv').fillna('NA')\n",
    "else:\n",
    "    train_heuristics = train.copy()\n",
    "if 'test_heuristics.csv' in os.listdir():\n",
    "    test_heuristics = pd.read_csv('test_heuristics.csv').fillna('NA')\n",
    "else:\n",
    "    train_heuristics = train.copy()"
   ]
  },
  {
   "cell_type": "code",
   "execution_count": null,
   "metadata": {},
   "outputs": [],
   "source": [
    "# BLEU score\n",
    "def bleu_score(suspect, source_docs):\n",
    "    \"\"\"Return the BLEU score of the suspect text compared to all of the source documents together.\"\"\"\n",
    "    suspect = nltk.word_tokenize(suspect)\n",
    "    smoother = nltk.translate.bleu_score.SmoothingFunction().method1 # smoothing function, if no occurrences of n-grams\n",
    "    return nltk.translate.bleu([nltk.word_tokenize(doc) for doc in source_docs], suspect, smoothing_function=smoother)"
   ]
  },
  {
   "cell_type": "code",
   "execution_count": null,
   "metadata": {},
   "outputs": [],
   "source": [
    "# ROUGE score\n",
    "def rouge_score(suspect, source_docs):\n",
    "    \"\"\"Return the maximum ROUGE-L score of the suspect text compared to each of the source documents separately.\"\"\"\n",
    "    rouge = RougeScorer(rouge_types=['rougeL'], use_stemmer=True)\n",
    "    return rouge.score_multi(source_docs, suspect)['rougeL'].fmeasure"
   ]
  },
  {
   "cell_type": "code",
   "execution_count": null,
   "metadata": {},
   "outputs": [],
   "source": [
    "# pre-calculate BLEU and ROUGE scores for each dataset, for faster iterating on regression hyperparameters\n",
    "for df,split in [(train_heuristics,'train'), (valid_heuristics,'valid'), (test_heuristics,'test')]:\n",
    "    updated = False\n",
    "    if 'bleu' not in df.columns:\n",
    "        df['bleu'] = df['query'].progress_apply(lambda x: bleu_score(x, source_docs_df['content']))\n",
    "        updated = True\n",
    "    if 'rouge' not in df.columns:\n",
    "        df['rouge'] = df['query'].progress_apply(lambda x: rouge_score(x, source_docs_df['content']))\n",
    "        updated = True\n",
    "    if updated:\n",
    "        df.to_csv(f\"{split}_heuristics.csv\", index=False)"
   ]
  },
  {
   "cell_type": "code",
   "execution_count": null,
   "metadata": {},
   "outputs": [],
   "source": [
    "class Plagiarism_Classifier_Heuristic:\n",
    "\n",
    "    def __init__(self):\n",
    "        self.regressor = LogisticRegression()\n",
    "\n",
    "    def train(self, X,y):\n",
    "        self.regressor.fit(X,y)\n",
    "\n",
    "    @instrument\n",
    "    def classify_plagiarism(self, query, bleu, rouge):\n",
    "        label = self.regressor.predict(np.array([bleu, rouge]).reshape(1, -1))\n",
    "        return label[0]"
   ]
  },
  {
   "cell_type": "code",
   "execution_count": null,
   "metadata": {},
   "outputs": [],
   "source": [
    "# actual eval function\n",
    "TIMEOUT = 60 # give each question 60 seconds to complete\n",
    "\n",
    "def heuristic_eval(granularity, data, model_id='', split='test', threads = 10, classifier=None, dashboard = []):\n",
    "    if model_id == '':\n",
    "        metadata={  # add any additional config hyperparameters below\n",
    "            'training granularity': granularity,\n",
    "                'split': split\n",
    "                }\n",
    "    else:\n",
    "        metadata={  # add any additional config hyperparameters below\n",
    "            'training granularity': granularity,\n",
    "                'split': split,\n",
    "                'model_id': model_id\n",
    "                }\n",
    "    if classifier is None:\n",
    "        plagiarism_classifier = Plagiarism_Classifier_Heuristic()\n",
    "        if granularity == 'fine':\n",
    "            train_label = 'expected_response'\n",
    "        else:\n",
    "            train_label = 'LABEL'\n",
    "        plagiarism_classifier.train(train_heuristics[['bleu', 'rouge']].values, train_heuristics[train_label])\n",
    "    else:\n",
    "        plagiarism_classifier = classifier\n",
    "\n",
    "    if threads > 1: # multi-threaded\n",
    "\n",
    "        batch_size = (len(data)+threads-1) // threads\n",
    "        batches = [data.iloc[i*batch_size:(i+1)*batch_size] for i in range(threads)]\n",
    "        # split data into even batches\n",
    "\n",
    "        thread_list = []\n",
    "        for i, batch in enumerate(batches):\n",
    "            if len(batch) > 0: # do not create threads for empty batches\n",
    "                thread_list.append((threading.Thread(target=eval,\n",
    "                                                        args=(embed_model, top_k,\n",
    "                                                                llm, instruction_prompt, batch),\n",
    "                                                        kwargs={'split':split, 'threads':1,\n",
    "                                                                'classifier':plagiarism_classifier, 'dashboard':dashboard}),\n",
    "                                    batch)) # store results for the thread by mutating these lists\n",
    "\n",
    "                print(f\"{thread_list[-1][0].name}: {len(batch)} question{'' if len(batch) == 1 else 's'}\")\n",
    "        # Start every thread\n",
    "        for thread, batch in thread_list:\n",
    "            thread.start()\n",
    "        # Wait for every thread to end\n",
    "        for thread, batch in thread_list:\n",
    "            thread.join(timeout=TIMEOUT*len(batch)) # allow timeout per question.\n",
    "            if thread.is_alive():\n",
    "                print(f\"{thread.name} timed out.\")\n",
    "                continue # allow timed-out threads to run until all others have been checked\n",
    "            print(f\"{thread.name} finished.\")\n",
    "        for thread, batch in thread_list: # final check for straggler threads\n",
    "            if thread.is_alive():\n",
    "                print(f\"FINAL CHECK - {thread.name} timed out.\")\n",
    "        print(\"All threads finished\")\n",
    "    else: # single thread\n",
    "        for i, row in tqdm(data.iterrows()):\n",
    "            dash_row = metadata.copy()\n",
    "            if 'bleu' not in row:\n",
    "                bleu = bleu_score(row['query'], source_docs_df['content'])\n",
    "            else:\n",
    "                bleu = row['bleu']\n",
    "            if 'rouge' not in row:\n",
    "                rouge = rouge_score(row['query'], source_docs_df['content'])\n",
    "            else:\n",
    "                rouge = row['rouge']\n",
    "            label = plagiarism_classifier.classify_plagiarism(row['query'], bleu, rouge)\n",
    "            dash_row.update({'query':row['query'], 'expected_response':row['expected_response'], 'LABEL':row['LABEL'],'output':label})\n",
    "            dashboard.append(dash_row)\n",
    "    return pd.DataFrame(dashboard)\n"
   ]
  },
  {
   "cell_type": "code",
   "execution_count": null,
   "metadata": {},
   "outputs": [],
   "source": [
    "if 'heuristic_dashboard.csv' in os.listdir():\n",
    "    heuristic_dashboard = pd.read_csv('heuristic_dashboard.csv')\n",
    "else:\n",
    "    heuristic_dashboard = pd.DataFrame()"
   ]
  },
  {
   "cell_type": "code",
   "execution_count": null,
   "metadata": {},
   "outputs": [
    {
     "name": "stdout",
     "output_type": "stream",
     "text": [
      "Granularity: fine\n"
     ]
    },
    {
     "data": {
      "application/vnd.jupyter.widget-view+json": {
       "model_id": "c838433c08f14fbe9b77bfb43054dcd2",
       "version_major": 2,
       "version_minor": 0
      },
      "text/plain": [
       "0it [00:00, ?it/s]"
      ]
     },
     "metadata": {},
     "output_type": "display_data"
    },
    {
     "name": "stdout",
     "output_type": "stream",
     "text": [
      "Granularity: coarse\n"
     ]
    },
    {
     "data": {
      "application/vnd.jupyter.widget-view+json": {
       "model_id": "243cb90c583d4790b98ccb1cbbc06398",
       "version_major": 2,
       "version_minor": 0
      },
      "text/plain": [
       "0it [00:00, ?it/s]"
      ]
     },
     "metadata": {},
     "output_type": "display_data"
    }
   ],
   "source": [
    "for granularity in ['fine', 'coarse']:\n",
    "    print(f\"Granularity: {granularity}\")\n",
    "    hyper_dashboard = heuristic_eval(granularity, valid_heuristics.iloc[:], split='valid',threads=1,dashboard=[])\n",
    "    heuristic_dashboard = pd.concat([heuristic_dashboard, hyper_dashboard])\n"
   ]
  },
  {
   "cell_type": "code",
   "execution_count": null,
   "metadata": {},
   "outputs": [
    {
     "data": {
      "text/html": [
       "<div>\n",
       "<style scoped>\n",
       "    .dataframe tbody tr th:only-of-type {\n",
       "        vertical-align: middle;\n",
       "    }\n",
       "\n",
       "    .dataframe tbody tr th {\n",
       "        vertical-align: top;\n",
       "    }\n",
       "\n",
       "    .dataframe thead th {\n",
       "        text-align: right;\n",
       "    }\n",
       "</style>\n",
       "<table border=\"1\" class=\"dataframe\">\n",
       "  <thead>\n",
       "    <tr style=\"text-align: right;\">\n",
       "      <th></th>\n",
       "      <th>training granularity</th>\n",
       "      <th>split</th>\n",
       "      <th>n</th>\n",
       "      <th>accuracy_fine</th>\n",
       "      <th>accuracy_coarse</th>\n",
       "      <th>precision</th>\n",
       "      <th>recall</th>\n",
       "      <th>f1</th>\n",
       "      <th>confidence</th>\n",
       "    </tr>\n",
       "  </thead>\n",
       "  <tbody>\n",
       "    <tr>\n",
       "      <th>1</th>\n",
       "      <td>fine</td>\n",
       "      <td>valid</td>\n",
       "      <td>122</td>\n",
       "      <td>0.844262</td>\n",
       "      <td>0.893443</td>\n",
       "      <td>1.000000</td>\n",
       "      <td>0.775862</td>\n",
       "      <td>0.873786</td>\n",
       "      <td>NaN</td>\n",
       "    </tr>\n",
       "    <tr>\n",
       "      <th>0</th>\n",
       "      <td>coarse</td>\n",
       "      <td>valid</td>\n",
       "      <td>122</td>\n",
       "      <td>NaN</td>\n",
       "      <td>0.434426</td>\n",
       "      <td>0.452991</td>\n",
       "      <td>0.913793</td>\n",
       "      <td>0.605714</td>\n",
       "      <td>NaN</td>\n",
       "    </tr>\n",
       "  </tbody>\n",
       "</table>\n",
       "</div>"
      ],
      "text/plain": [
       "  training granularity  split    n  accuracy_fine  accuracy_coarse  precision  \\\n",
       "1                 fine  valid  122       0.844262         0.893443   1.000000   \n",
       "0               coarse  valid  122            NaN         0.434426   0.452991   \n",
       "\n",
       "     recall        f1  confidence  \n",
       "1  0.775862  0.873786         NaN  \n",
       "0  0.913793  0.605714         NaN  "
      ]
     },
     "metadata": {},
     "output_type": "display_data"
    },
    {
     "name": "stdout",
     "output_type": "stream",
     "text": [
      "fine\n",
      "coarse\n"
     ]
    }
   ],
   "source": [
    "hyper = get_summary_stats(heuristic_dashboard, ['training granularity', 'split'], [])\n",
    "display(hyper.sort_values('accuracy_coarse', ascending=False))\n",
    "print('\\n'.join(hyper.sort_values('accuracy_coarse', ascending=False)['training granularity'].astype(str).values))"
   ]
  },
  {
   "cell_type": "markdown",
   "metadata": {},
   "source": [
    "#### Prediction Granularity:\n",
    "![validation results](figures/heuristic-validation.png)\n",
    "\n",
    "Training the logistic regression model to predict the coarse labels (yes/no plagiarism) seems to have better recall (missed fewer cases of actual plagiarism) but much worse precision (more cases of false triggers on non-plagiarized works) when compared to training to predict the fine labels (verbatim/paraphrasing/summary/no plagiarism). I hypothesize that this might be caused by some core differences in the n-gram appearance of different types of plagiarism (e.g. paraphrasing and summarizing plagiarism look similar to non-plagiarism, so the coarse model was over-predicting plagiarism in these cases).\n",
    "\n",
    "I'm going to keep the **fine-label predictor** as my baseline for this project, because the results are better, more directly comparable to the full LLM system, and more informative to instructors."
   ]
  },
  {
   "cell_type": "markdown",
   "metadata": {},
   "source": [
    "## Parametric knowledge + CoT"
   ]
  },
  {
   "cell_type": "code",
   "execution_count": null,
   "metadata": {},
   "outputs": [],
   "source": [
    "parametric_prompt = \"\"\"You are a teacher's aid working to assist with grading of student submissions. To ensure academic honesty and fair grading, you need to evaluate whether student works plagiarize or not.\n",
    "\n",
    "In this class, the teacher sorts assignments into four categories based on the level of plagiarism:\n",
    "- \"NA\": no plagiarism\n",
    "- \"verbatim\": when a student copies directly from the source text\n",
    "- \"paraphrasing\": when a student rephrases the source text\n",
    "- \"summary\": when a student summarizes the source text\n",
    "\n",
    "Think step by step, analyze the student submission, and finally respond with \"LABEL:\", followed by **the category label, as specified above** (one of \"NA\", \"verbatim\", \"paraphrasing\", \"summary\").\"\"\"\n",
    "\n",
    "least_brazen_parametric_prompt = \"\"\"You are a teacher's aid working to assist with grading of student submissions. To ensure academic honesty and fair grading, you need to evaluate whether student works plagiarize.\n",
    "\n",
    "In this class, the teacher sorts assignments into four categories based on the level of plagiarism:\n",
    "- \"NA\": no plagiarism. most students fall into this category.\n",
    "- \"verbatim\": when a student copies directly from the source text\n",
    "- \"paraphrasing\": when a student rephrases the source text\n",
    "- \"summary\": when a student summarizes the source text\n",
    "\n",
    "Many students do not plagiarize, so it is important to be thorough in your evaluation.\n",
    "**DO NOT FALSELY MARK BENIGN WORK AS PLAGIARISED.** It is better to be cautious and give the student the benefit of the doubt.\n",
    "\n",
    "As you evaluate the student's submission, consider your confidence in your assessment. If you are not confident in your assessment, state so, and do not falsely accuse students of plagiarism if you are not sure.\n",
    "\n",
    "Think step by step to analyze the student submission.\n",
    "Then, state your confidence as \"CONFIDENCE:\" followed by **a percentage** between 0% (not confident) and 100% (extremely confident).\n",
    "Finally, respond with \"LABEL:\", followed by **the category label, as specified above** (one of \"NA\", \"verbatim\", \"paraphrasing\", \"summary\").\"\"\""
   ]
  },
  {
   "cell_type": "code",
   "execution_count": null,
   "metadata": {},
   "outputs": [],
   "source": [
    "MAX_LENGTH = 500\n",
    "\n",
    "\n",
    "class Plagiarism_Classifier_Parametric:\n",
    "\n",
    "    def __init__(self,\n",
    "                 llm, instruction_prompt,\n",
    "                 f_ground=False, f_a_rel=False,\n",
    "                 verbose=False):\n",
    "        self.llm = llm\n",
    "        assert self.llm in SNOWFLAKE_MODELS or self.llm in OPENAI_MODELS, f\"Model {self.llm} not recognized\"\n",
    "        self.instruction_prompt = instruction_prompt\n",
    "        self.f_ground = f_ground\n",
    "        self.f_a_rel = f_a_rel\n",
    "        self.verbose = verbose\n",
    "        self.embed_model = 'text-embedding-3-small'\n",
    "\n",
    "    def train(self, source_docs_df):\n",
    "        # set up vector store\n",
    "        print('Setting up vector store (for grounding)')\n",
    "        embed_model = 'text-embedding-3-small'\n",
    "        self.chroma_client = chromadb.EphemeralClient()\n",
    "        embedding_function = embedding_functions.OpenAIEmbeddingFunction(\n",
    "                api_key=os.getenv('OPENAI_API_KEY'),\n",
    "                model_name=self.embed_model\n",
    "            )\n",
    "        self.vector_store = self.chroma_client.get_or_create_collection(name=\"source_docs\",\n",
    "                                                                        embedding_function=embedding_function)\n",
    "        ids = self.vector_store.get(include=[\"documents\"])[\"ids\"]\n",
    "        new_docs = source_docs_df[~source_docs_df['id'].astype(str).isin(ids)]\n",
    "        if len(new_docs) > 0:\n",
    "            print(f'Adding {len(new_docs)} source docs to vector store')\n",
    "            self.vector_store.add(ids = new_docs['id'].astype(str).to_list(),documents= new_docs['content'].to_list())\n",
    "\n",
    "    def render_prompt(self, suspect):\n",
    "        prompt = self.instruction_prompt\n",
    "        prompt += \"STUDENT SUBMISSION: \" + suspect\n",
    "        return [{\"role\":\"user\",\"content\": prompt}]\n",
    "\n",
    "    def retrieve(self, query):\n",
    "        top_k = 3\n",
    "        results = self.vector_store.query(query_texts=query, n_results=top_k)\n",
    "        return [doc for sublist in results['documents'] for doc in sublist]\n",
    "\n",
    "    @retry(stop=stop_after_attempt(5), wait=wait_exponential(multiplier=1, min=1, max=10),before=warn_on_retry)\n",
    "    def generate(self, messages):\n",
    "        if self.llm in SNOWFLAKE_MODELS:\n",
    "            response = json.loads(Complete(self.llm, messages,\n",
    "                              session=snowpark_session,\n",
    "                              options={'temperature':0, 'max_tokens':MAX_LENGTH}))\n",
    "            response_text = response['choices'][0]['messages'].strip()\n",
    "            return response_text\n",
    "        else:\n",
    "            response = openai_client.chat.completions.create(messages=messages,\n",
    "            model=self.llm,\n",
    "            temperature = 0,\n",
    "            max_tokens= MAX_LENGTH)\n",
    "            response_text = response.choices[0].message.content.strip()\n",
    "            return response_text\n",
    "\n",
    "    def classify_plagiarism(self, suspect):\n",
    "        feedback = {}\n",
    "        rendered_prompt = self.render_prompt(suspect)\n",
    "        if self.verbose: print('rendered prompt')\n",
    "        output = self.generate(rendered_prompt)\n",
    "        if self.verbose:\n",
    "            print('generated output')\n",
    "            print(output)\n",
    "        if self.f_ground:\n",
    "            if self.verbose: print('checking groundedness')\n",
    "            chunks = self.retrieve(suspect)\n",
    "            if self.verbose:\n",
    "                print('retrieved docs')\n",
    "                print(chunks)\n",
    "            g_score, g_reason = groundedness(suspect, chunks, output)\n",
    "            feedback.update({'groundedness': g_score, 'groundedness reason': g_reason['reasons']})\n",
    "        if self.f_a_rel:\n",
    "            if self.verbose: print('checking answer relevance')\n",
    "            prompt_no_context = self.render_prompt(suspect)\n",
    "            a_score, a_reason = a_relevance(prompt_no_context, output)\n",
    "            feedback.update({'answer relevance': a_score, 'answer relevance reason': (a_reason['reason'] if 'reason' in a_reason\n",
    "                                                                                         else a_reason['reasons'] if 'reasons' in a_reason\n",
    "                                                                                         else a_reason)})\n",
    "        return output, feedback\n",
    "\n",
    "\n",
    "# actual eval function\n",
    "TIMEOUT = 60 # give each question 60 seconds to complete\n",
    "\n",
    "def eval_Parametric(llm, instruction_prompt, data, model_id='', split='test', threads = 10, classifier=None, dashboard = [], verbose=False):\n",
    "\n",
    "    metadata={  # add any additional config hyperparameters below\n",
    "            'llm':llm,\n",
    "            'split': split,\n",
    "            'prompt':instruction_prompt,\n",
    "            }\n",
    "    if model_id:\n",
    "        metadata['model_id'] = model_id\n",
    "    if classifier is None:\n",
    "        plagiarism_classifier = Plagiarism_Classifier_Parametric(llm, instruction_prompt,\n",
    "                                                  f_ground=True, f_a_rel=True, verbose=verbose)\n",
    "        plagiarism_classifier.train(source_docs_df)\n",
    "    else:\n",
    "        plagiarism_classifier = classifier\n",
    "\n",
    "    if threads > 1: # multi-threaded\n",
    "        batch_size = (len(data)+threads-1) // threads\n",
    "        batches = [data.iloc[i*batch_size:(i+1)*batch_size] for i in range(threads)]\n",
    "        # split data into even batches\n",
    "\n",
    "        thread_list = []\n",
    "        for i, batch in enumerate(batches):\n",
    "            if len(batch) > 0: # do not create threads for empty batches\n",
    "                thread_list.append((threading.Thread(target=eval_Parametric,\n",
    "                                                        args=(llm, instruction_prompt, batch),\n",
    "                                                        kwargs={'split':split,\n",
    "                                                                'threads':1,\n",
    "                                                                'model_id':model_id,\n",
    "                                                                'classifier':plagiarism_classifier,\n",
    "                                                                'dashboard':dashboard,\n",
    "                                                                'verbose':verbose}),\n",
    "                                    batch)) # store results for the thread by mutating these lists\n",
    "\n",
    "                print(f\"{thread_list[-1][0].name}: {len(batch)} question{'' if len(batch) == 1 else 's'}\")\n",
    "\n",
    "        # Start every thread\n",
    "        for thread, batch in thread_list:\n",
    "            thread.start()\n",
    "        # Wait for every thread to end\n",
    "        for thread, batch in thread_list:\n",
    "            thread.join(timeout=TIMEOUT*len(batch)) # allow timeout per question.\n",
    "            if thread.is_alive():\n",
    "                print(f\"{thread.name} timed out.\")\n",
    "                continue # allow timed-out threads to run until all others have been checked\n",
    "            # print(f\"{thread.name} finished.\")\n",
    "        for thread, batch in thread_list: # final check for straggler threads\n",
    "            if thread.is_alive():\n",
    "                print(f\"FINAL CHECK - {thread.name} timed out.\")\n",
    "        print(\"All threads finished\")\n",
    "    else: # single thread\n",
    "        for i, row in tqdm(data.iterrows()):\n",
    "            dash_row = metadata.copy()\n",
    "            label, feedback = plagiarism_classifier.classify_plagiarism(row['query'])\n",
    "            dash_row.update({'query':row['query'], 'expected_response':row['expected_response'], 'LABEL':row['LABEL'],'output':label})\n",
    "            dash_row.update(feedback)\n",
    "            dashboard.append(dash_row)\n",
    "    return pd.DataFrame(dashboard)\n"
   ]
  },
  {
   "cell_type": "markdown",
   "metadata": {},
   "source": [
    "## RAG + Direct answering"
   ]
  },
  {
   "cell_type": "code",
   "execution_count": null,
   "metadata": {},
   "outputs": [],
   "source": [
    "# non-cot prompt\n",
    "direct_prompt = \"\"\"You are a teacher's aid working to assist with grading of student submissions. To ensure academic honesty and fair grading, you need to evaluate whether student works plagiarize or not from one of the provided source texts.\n",
    "\n",
    "In this class, the teacher sorts assignments into four categories based on the level of plagiarism:\n",
    "- \"NA\": no plagiarism\n",
    "- \"verbatim\": when a student copies directly from the source text\n",
    "- \"paraphrasing\": when a student rephrases the source text\n",
    "- \"summary\": when a student summarizes the source text\n",
    "\n",
    "Respond with **only the category label, as specified above** (one of \"NA\", \"verbatim\", \"paraphrasing\", \"summary\"). DO NOT respond with any other text, whitespace, or punctuation.\n",
    "\n",
    "STUDENT SUBMISSION:\"\"\"\n",
    "\n",
    "least_brazen_direct_prompt = \"\"\"You are a teacher's aid working to assist with grading of student submissions. To ensure academic honesty and fair grading, you need to evaluate whether student works plagiarize from one of the provided source texts.\n",
    "\n",
    "In this class, the teacher sorts assignments into four categories based on the level of plagiarism:\n",
    "- \"NA\": no plagiarism. most students fall into this category.\n",
    "- \"verbatim\": when a student copies directly from the source text\n",
    "- \"paraphrasing\": when a student rephrases the source text\n",
    "- \"summary\": when a student summarizes the source text\n",
    "\n",
    "Many students do not plagiarize, so it is important to be thorough in your evaluation. If the student does make reference to one of the source texts, it is important to identify the type of reference made, as it may be benign and/or properly cited.\n",
    "**DO NOT FALSELY MARK BENIGN WORK AS PLAGIARISED.** It is better to be cautious and give the student the benefit of the doubt.\n",
    "\n",
    "In your response, immediately state your confidence as \"CONFIDENCE:\" followed by **a percentage** between 0% (not confident) and 100% (extremely confident).\n",
    "Finally, respond with \"LABEL:\", followed by **the category label, as specified above** (one of \"NA\", \"verbatim\", \"paraphrasing\", \"summary\"). DO NOT respond with any other text, whitespace, or punctuation.\"\"\""
   ]
  },
  {
   "cell_type": "markdown",
   "metadata": {},
   "source": [
    "# Evaluation\n",
    "<a id='eval'></a>"
   ]
  },
  {
   "cell_type": "code",
   "execution_count": null,
   "metadata": {},
   "outputs": [],
   "source": [
    "if 'test-dashboard.csv' in os.listdir():\n",
    "    results = pd.read_csv('test-dashboard.csv')\n",
    "else:\n",
    "    results = pd.DataFrame(columns=['model_id'])"
   ]
  },
  {
   "cell_type": "markdown",
   "metadata": {},
   "source": [
    "## Text Heuristics - Eval"
   ]
  },
  {
   "cell_type": "code",
   "execution_count": null,
   "metadata": {},
   "outputs": [
    {
     "data": {
      "application/vnd.jupyter.widget-view+json": {
       "model_id": "2f833c65d6fe47f9af23b1267add09a3",
       "version_major": 2,
       "version_minor": 0
      },
      "text/plain": [
       "0it [00:00, ?it/s]"
      ]
     },
     "metadata": {},
     "output_type": "display_data"
    }
   ],
   "source": [
    "# logistic regression, trained on BLEU and ROUGE scores to predict fine-grained plagiarism labels\n",
    "model_id = 'heuristics model - fine-grained'\n",
    "if 'heuristic_dashboard.csv' in os.listdir():\n",
    "    heuristic_dashboard = pd.read_csv('heuristic_dashboard.csv')\n",
    "else:\n",
    "    heuristic_dashboard = pd.DataFrame()\n",
    "if model_id not in results['model_id'].values:\n",
    "    if 'test' not in heuristic_dashboard['split'].values:\n",
    "    heuristic_dashboard = heuristic_eval('fine', test_heuristics, model_id=model_id, threads=1,dashboard=[])\n",
    "    heuristic_dashboard.to_csv('heuristic_dashboard.csv', index=False)\n",
    "    results = pd.concat([results, heuristic_dashboard[heuristic_dashboard['model_id'].notna()]])"
   ]
  },
  {
   "cell_type": "code",
   "execution_count": null,
   "metadata": {},
   "outputs": [
    {
     "data": {
      "text/html": [
       "<div>\n",
       "<style scoped>\n",
       "    .dataframe tbody tr th:only-of-type {\n",
       "        vertical-align: middle;\n",
       "    }\n",
       "\n",
       "    .dataframe tbody tr th {\n",
       "        vertical-align: top;\n",
       "    }\n",
       "\n",
       "    .dataframe thead th {\n",
       "        text-align: right;\n",
       "    }\n",
       "</style>\n",
       "<table border=\"1\" class=\"dataframe\">\n",
       "  <thead>\n",
       "    <tr style=\"text-align: right;\">\n",
       "      <th></th>\n",
       "      <th>model_id</th>\n",
       "      <th>n</th>\n",
       "      <th>accuracy_fine</th>\n",
       "      <th>accuracy_coarse</th>\n",
       "      <th>precision</th>\n",
       "      <th>recall</th>\n",
       "      <th>f1</th>\n",
       "      <th>confidence</th>\n",
       "    </tr>\n",
       "  </thead>\n",
       "  <tbody>\n",
       "    <tr>\n",
       "      <th>0</th>\n",
       "      <td>heuristics model - fine-grained</td>\n",
       "      <td>122</td>\n",
       "      <td>0.877049</td>\n",
       "      <td>0.918033</td>\n",
       "      <td>1.0</td>\n",
       "      <td>0.830508</td>\n",
       "      <td>0.907407</td>\n",
       "      <td>NaN</td>\n",
       "    </tr>\n",
       "  </tbody>\n",
       "</table>\n",
       "</div>"
      ],
      "text/plain": [
       "                          model_id    n  accuracy_fine  accuracy_coarse  \\\n",
       "0  heuristics model - fine-grained  122       0.877049         0.918033   \n",
       "\n",
       "   precision    recall        f1  confidence  \n",
       "0        1.0  0.830508  0.907407         NaN  "
      ]
     },
     "execution_count": 86,
     "metadata": {},
     "output_type": "execute_result"
    }
   ],
   "source": [
    "get_summary_stats(heuristic_dashboard, ['model_id'], [])"
   ]
  },
  {
   "cell_type": "code",
   "execution_count": null,
   "metadata": {},
   "outputs": [],
   "source": [
    "results = pd.concat([heuristic_dashboard,results])"
   ]
  },
  {
   "cell_type": "code",
   "execution_count": null,
   "metadata": {},
   "outputs": [
    {
     "data": {
      "text/plain": [
       "model_id\n",
       "heuristics model - fine-grained    122\n",
       "Zero-shot CoT                      122\n",
       "RAG + Direct Prompt                122\n",
       "RAG + CoT                          122\n",
       "Name: count, dtype: int64"
      ]
     },
     "execution_count": 89,
     "metadata": {},
     "output_type": "execute_result"
    }
   ],
   "source": [
    "results.to_csv('test-dashboard.csv', index=False)\n",
    "results['model_id'].value_counts()"
   ]
  },
  {
   "cell_type": "markdown",
   "metadata": {},
   "source": [
    "## Parametric knowledge + CoT - Eval"
   ]
  },
  {
   "cell_type": "code",
   "execution_count": null,
   "metadata": {},
   "outputs": [
    {
     "data": {
      "text/plain": [
       "array([1])"
      ]
     },
     "execution_count": 45,
     "metadata": {},
     "output_type": "execute_result"
    }
   ],
   "source": [
    "model_id = 'Zero-shot CoT'\n",
    "if 'parametric-dashboard.csv' in os.listdir():\n",
    "    old_dash = pd.read_csv('parametric-dashboard.csv')\n",
    "else:\n",
    "    old_dash = pd.DataFrame()\n",
    "results = pd.concat([results, old_dash]).drop_duplicates(subset=['model_id', 'query'])\n",
    "param_results = results[(results['model_id'] == model_id)]\n",
    "if model_id not in results['model_id'].values or param_results.shape[0] < test.shape[0]:\n",
    "    llm = 'gpt-4o-mini-2024-07-18'\n",
    "    todo = test[~test['query'].isin(param_results['query'])]\n",
    "    new_dash = eval_Parametric(llm, least_brazen_parametric_prompt, todo,\n",
    "                               model_id=model_id, split='test',threads=10,dashboard=[])\n",
    "    results = pd.concat([results, new_dash])\n",
    "    pd.concat([old_dash,new_dash]).to_csv('parametric-dashboard.csv', index=False)\n",
    "results[(results['model_id']=='Zero-shot CoT' )]['query'].value_counts().unique()"
   ]
  },
  {
   "cell_type": "code",
   "execution_count": null,
   "metadata": {},
   "outputs": [],
   "source": [
    "results['model_id'].value_counts()\n",
    "results.to_csv('test-dashboard.csv', index=False)"
   ]
  },
  {
   "cell_type": "markdown",
   "metadata": {},
   "source": [
    "## RAG + Direct Answering - Eval"
   ]
  },
  {
   "cell_type": "code",
   "execution_count": null,
   "metadata": {},
   "outputs": [
    {
     "data": {
      "text/plain": [
       "array([1])"
      ]
     },
     "execution_count": 47,
     "metadata": {},
     "output_type": "execute_result"
    }
   ],
   "source": [
    "model_id = 'RAG + Direct Prompt'\n",
    "if 'direct-dashboard.csv' in os.listdir():\n",
    "    old_dash = pd.read_csv('direct-dashboard.csv')\n",
    "else:\n",
    "    old_dash = pd.DataFrame()\n",
    "results = pd.concat([results, old_dash]).drop_duplicates(subset=['model_id', 'query'])\n",
    "direct_results = results[(results['model_id'] == model_id)]\n",
    "if model_id not in results['model_id'].values or direct_results.shape[0] < test.shape[0]:\n",
    "    embed_model = 'text-embedding-3-small'\n",
    "    top_k = 3\n",
    "    llm = 'gpt-4o-mini-2024-07-18'\n",
    "    todo = test[~test['query'].isin(direct_results['query'])].copy()\n",
    "    print(todo.shape[0])\n",
    "    new_dash = eval(embed_model, top_k, llm, least_brazen_direct_prompt, todo,\n",
    "                    model_id=model_id, split='test',threads=10,dashboard=[])\n",
    "    results = pd.concat([results, new_dash])\n",
    "    pd.concat([old_dash, new_dash]).to_csv('direct-dashboard.csv', index=False)\n",
    "results[(results['model_id']=='Zero-shot CoT' )]['query'].value_counts().unique() # check that each query is only recorded once"
   ]
  },
  {
   "cell_type": "code",
   "execution_count": null,
   "metadata": {},
   "outputs": [
    {
     "data": {
      "text/plain": [
       "model_id\n",
       "heuristics model - fine-grained     122\n",
       "Zero-shot CoT (base model)          122\n",
       "RAG + Direct Prompt (base model)    122\n",
       "Name: count, dtype: int64"
      ]
     },
     "metadata": {},
     "output_type": "display_data"
    }
   ],
   "source": [
    "display(results['model_id'].value_counts())\n",
    "results.to_csv('test-dashboard.csv', index=False)"
   ]
  },
  {
   "cell_type": "markdown",
   "metadata": {},
   "source": [
    "## RAG + CoT - Eval"
   ]
  },
  {
   "cell_type": "code",
   "execution_count": null,
   "metadata": {},
   "outputs": [
    {
     "name": "stdout",
     "output_type": "stream",
     "text": [
      "34\n",
      "Setting up vector store\n",
      "Thread-62 (run): 4 questions\n",
      "Thread-63 (run): 4 questions\n",
      "Thread-64 (run): 4 questions\n",
      "Thread-65 (run): 4 questions\n",
      "Thread-66 (run): 4 questions\n",
      "Thread-67 (run): 4 questions\n",
      "Thread-68 (run): 4 questions\n",
      "Thread-69 (run): 4 questions\n",
      "Thread-70 (run): 2 questions\n"
     ]
    },
    {
     "data": {
      "application/vnd.jupyter.widget-view+json": {
       "model_id": "ff9c739e5ef9490d812f424bf0dc3252",
       "version_major": 2,
       "version_minor": 0
      },
      "text/plain": [
       "0it [00:00, ?it/s]"
      ]
     },
     "metadata": {},
     "output_type": "display_data"
    },
    {
     "data": {
      "application/vnd.jupyter.widget-view+json": {
       "model_id": "decd8b7db98d49c3a4b90d62de44767c",
       "version_major": 2,
       "version_minor": 0
      },
      "text/plain": [
       "0it [00:00, ?it/s]"
      ]
     },
     "metadata": {},
     "output_type": "display_data"
    },
    {
     "data": {
      "application/vnd.jupyter.widget-view+json": {
       "model_id": "a6f85a5366234b04994eff32aeb44433",
       "version_major": 2,
       "version_minor": 0
      },
      "text/plain": [
       "0it [00:00, ?it/s]"
      ]
     },
     "metadata": {},
     "output_type": "display_data"
    },
    {
     "data": {
      "application/vnd.jupyter.widget-view+json": {
       "model_id": "3e6a6f1d42f04d69b0c18be4e39add58",
       "version_major": 2,
       "version_minor": 0
      },
      "text/plain": [
       "0it [00:00, ?it/s]"
      ]
     },
     "metadata": {},
     "output_type": "display_data"
    },
    {
     "data": {
      "application/vnd.jupyter.widget-view+json": {
       "model_id": "9e3eac7cbb4f483d8ec8cce8e200f584",
       "version_major": 2,
       "version_minor": 0
      },
      "text/plain": [
       "0it [00:00, ?it/s]"
      ]
     },
     "metadata": {},
     "output_type": "display_data"
    },
    {
     "data": {
      "application/vnd.jupyter.widget-view+json": {
       "model_id": "19937410c5be451d9bbab7e9ece116f1",
       "version_major": 2,
       "version_minor": 0
      },
      "text/plain": [
       "0it [00:00, ?it/s]"
      ]
     },
     "metadata": {},
     "output_type": "display_data"
    },
    {
     "data": {
      "application/vnd.jupyter.widget-view+json": {
       "model_id": "7c7912fa2bc74057be6fcc31feee629e",
       "version_major": 2,
       "version_minor": 0
      },
      "text/plain": [
       "0it [00:00, ?it/s]"
      ]
     },
     "metadata": {},
     "output_type": "display_data"
    },
    {
     "data": {
      "application/vnd.jupyter.widget-view+json": {
       "model_id": "1a5d3e10e19345a5bf1c649483cf6e4c",
       "version_major": 2,
       "version_minor": 0
      },
      "text/plain": [
       "0it [00:00, ?it/s]"
      ]
     },
     "metadata": {},
     "output_type": "display_data"
    },
    {
     "data": {
      "application/vnd.jupyter.widget-view+json": {
       "model_id": "fb8a9d1a8af44ed089889da5137094f3",
       "version_major": 2,
       "version_minor": 0
      },
      "text/plain": [
       "0it [00:00, ?it/s]"
      ]
     },
     "metadata": {},
     "output_type": "display_data"
    },
    {
     "name": "stdout",
     "output_type": "stream",
     "text": [
      "All threads finished\n"
     ]
    }
   ],
   "source": [
    "model_id = 'RAG + CoT'\n",
    "if 'dashboard.csv' in os.listdir():\n",
    "    old_dash = pd.read_csv('dashboard.csv')\n",
    "else:\n",
    "    old_dash = pd.DataFrame()\n",
    "results = pd.concat([results, old_dash]).drop_duplicates(subset=['model_id', 'query'])\n",
    "full_results = results[(results['model_id'] == model_id)]\n",
    "if model_id not in results['model_id'].values or full_results.shape[0] < test.shape[0]:\n",
    "    embed_model = 'text-embedding-3-small'\n",
    "    top_k = 3\n",
    "    llm = 'gpt-4o-mini-2024-07-18'\n",
    "    todo = test[~test['query'].isin(full_results['query'])].copy()\n",
    "    print(todo.shape[0])\n",
    "    new_dash = eval(embed_model, top_k, llm, least_brazen_prompt, todo.iloc[:40],\n",
    "                    model_id=model_id, split='test',threads=10,dashboard=[])\n",
    "    results = pd.concat([results, new_dash])\n",
    "    pd.concat([old_dash, new_dash]).to_csv('dashboard.csv', index=False)"
   ]
  },
  {
   "cell_type": "code",
   "execution_count": null,
   "metadata": {},
   "outputs": [
    {
     "data": {
      "text/plain": [
       "model_id\n",
       "heuristics model - fine-grain    122\n",
       "Zero-shot CoT                    122\n",
       "RAG + Direct Prompt              122\n",
       "RAG + CoT                        122\n",
       "Name: count, dtype: int64"
      ]
     },
     "metadata": {},
     "output_type": "display_data"
    }
   ],
   "source": [
    "display(results['model_id'].value_counts())\n",
    "results.to_csv('test-dashboard.csv', index=False)"
   ]
  },
  {
   "cell_type": "markdown",
   "metadata": {},
   "source": [
    "# Results + Discussion\n",
    "<a id='results'></a>"
   ]
  },
  {
   "cell_type": "code",
   "execution_count": null,
   "metadata": {},
   "outputs": [
    {
     "data": {
      "text/html": [
       "<div>\n",
       "<style scoped>\n",
       "    .dataframe tbody tr th:only-of-type {\n",
       "        vertical-align: middle;\n",
       "    }\n",
       "\n",
       "    .dataframe tbody tr th {\n",
       "        vertical-align: top;\n",
       "    }\n",
       "\n",
       "    .dataframe thead th {\n",
       "        text-align: right;\n",
       "    }\n",
       "</style>\n",
       "<table border=\"1\" class=\"dataframe\">\n",
       "  <thead>\n",
       "    <tr style=\"text-align: right;\">\n",
       "      <th></th>\n",
       "      <th>model_id</th>\n",
       "      <th>n</th>\n",
       "      <th>context relevance</th>\n",
       "      <th>groundedness</th>\n",
       "      <th>answer relevance</th>\n",
       "      <th>accuracy_fine</th>\n",
       "      <th>accuracy_coarse</th>\n",
       "      <th>precision</th>\n",
       "      <th>recall</th>\n",
       "      <th>f1</th>\n",
       "      <th>confidence</th>\n",
       "    </tr>\n",
       "  </thead>\n",
       "  <tbody>\n",
       "    <tr>\n",
       "      <th>3</th>\n",
       "      <td>heuristics model - fine-grained</td>\n",
       "      <td>122</td>\n",
       "      <td>NaN</td>\n",
       "      <td>NaN</td>\n",
       "      <td>NaN</td>\n",
       "      <td>87.704918</td>\n",
       "      <td>91.803279</td>\n",
       "      <td>100.000000</td>\n",
       "      <td>83.050847</td>\n",
       "      <td>90.740741</td>\n",
       "      <td>NaN</td>\n",
       "    </tr>\n",
       "    <tr>\n",
       "      <th>0</th>\n",
       "      <td>RAG + CoT</td>\n",
       "      <td>122</td>\n",
       "      <td>85.245902</td>\n",
       "      <td>67.78871</td>\n",
       "      <td>100.000000</td>\n",
       "      <td>52.500000</td>\n",
       "      <td>83.606557</td>\n",
       "      <td>74.683544</td>\n",
       "      <td>100.000000</td>\n",
       "      <td>85.507246</td>\n",
       "      <td>90.737705</td>\n",
       "    </tr>\n",
       "    <tr>\n",
       "      <th>1</th>\n",
       "      <td>RAG + Direct Prompt</td>\n",
       "      <td>122</td>\n",
       "      <td>86.065574</td>\n",
       "      <td>79.91453</td>\n",
       "      <td>69.672131</td>\n",
       "      <td>35.593220</td>\n",
       "      <td>77.868852</td>\n",
       "      <td>68.604651</td>\n",
       "      <td>100.000000</td>\n",
       "      <td>81.379310</td>\n",
       "      <td>90.000000</td>\n",
       "    </tr>\n",
       "    <tr>\n",
       "      <th>2</th>\n",
       "      <td>Zero-shot CoT</td>\n",
       "      <td>122</td>\n",
       "      <td>NaN</td>\n",
       "      <td>46.75580</td>\n",
       "      <td>89.344262</td>\n",
       "      <td>0.000000</td>\n",
       "      <td>51.639344</td>\n",
       "      <td>50.000000</td>\n",
       "      <td>1.694915</td>\n",
       "      <td>3.278689</td>\n",
       "      <td>87.008197</td>\n",
       "    </tr>\n",
       "  </tbody>\n",
       "</table>\n",
       "</div>"
      ],
      "text/plain": [
       "                          model_id    n  context relevance  groundedness  \\\n",
       "3  heuristics model - fine-grained  122                NaN           NaN   \n",
       "0                        RAG + CoT  122          85.245902      67.78871   \n",
       "1              RAG + Direct Prompt  122          86.065574      79.91453   \n",
       "2                    Zero-shot CoT  122                NaN      46.75580   \n",
       "\n",
       "   answer relevance  accuracy_fine  accuracy_coarse   precision      recall  \\\n",
       "3               NaN      87.704918        91.803279  100.000000   83.050847   \n",
       "0        100.000000      52.500000        83.606557   74.683544  100.000000   \n",
       "1         69.672131      35.593220        77.868852   68.604651  100.000000   \n",
       "2         89.344262       0.000000        51.639344   50.000000    1.694915   \n",
       "\n",
       "          f1  confidence  \n",
       "3  90.740741         NaN  \n",
       "0  85.507246   90.737705  \n",
       "1  81.379310   90.000000  \n",
       "2   3.278689   87.008197  "
      ]
     },
     "metadata": {},
     "output_type": "display_data"
    }
   ],
   "source": [
    "# overall summary results\n",
    "results_summary = get_summary_stats(results, ['model_id'], ['context relevance', 'groundedness', 'answer relevance'])\n",
    "results.to_csv('test-dashboard.csv', index=False)\n",
    "for col in results_summary.columns:\n",
    "    if results_summary[col].dtype == float and 'confidence' not in col:\n",
    "        results_summary[col] = results_summary[col]*100\n",
    "sorted_res = results_summary.sort_values('accuracy_coarse', ascending=False)\n",
    "display(sorted_res)"
   ]
  },
  {
   "cell_type": "code",
   "execution_count": null,
   "metadata": {},
   "outputs": [
    {
     "name": "stdout",
     "output_type": "stream",
     "text": [
      "\\begin{table}[h!]\n",
      "\\caption{Classification label performances, shown as percentages. For each row, n=122.}\n",
      "\\begin{tabular}{lrrrr}\n",
      "\\toprule\n",
      "Model\\_Id & Precision & Recall & \\multicolumn{2}{r}{Accuracy} \\\\\n",
      " &  &  & Fine & Oarse \\\\\n",
      "\\hline\n",
      "heuristics model - fine-grained & 100.00 & 83.05 & 87.70 & 91.80 \\\\\n",
      "Zero-shot CoT & 50.00 & 1.69 & 0.00 & 51.64 \\\\\n",
      "RAG + Direct Prompt & 68.60 & 100.00 & 35.59 & 77.87 \\\\\n",
      "RAG + CoT & 74.68 & 100.00 & 52.50 & 83.61 \\\\\n",
      "\\bottomrule\n",
      "\\end{tabular}\n",
      "\\end{table}\n",
      "\n",
      "\\begin{table}[h!]\n",
      "\\caption{RAG Trio performances, shown as percentages. For each row, n=122.}\n",
      "\\begin{tabular}{lrrr}\n",
      "\\toprule\n",
      "Model\\_Id & Context Relevance & Groundedness & Answer Relevance \\\\\n",
      "\\hline\n",
      "Zero-shot CoT & -- & 46.76 & 89.34 \\\\\n",
      "RAG + Direct Prompt & 86.07 & 79.91 & 69.67 \\\\\n",
      "RAG + CoT & 85.25 & 67.79 & 100.00 \\\\\n",
      "\\bottomrule\n",
      "\\end{tabular}\n",
      "\\end{table}\n",
      "\n"
     ]
    }
   ],
   "source": [
    "# latex tables\n",
    "formatted = results_summary[['model_id',\n",
    "                       'precision','recall','accuracy_fine', 'accuracy_coarse']].iloc[::-1]\n",
    "\n",
    "formatted.columns = pd.MultiIndex.from_tuples([(\"Accuracy\", col.strip('accuracy_').title()) if \"accuracy\" in col else (col.title(), '') for col in formatted.columns])\n",
    "\n",
    "print(formatted.to_latex(float_format=\"%.2f\",\n",
    "                         position=\"h!\",\n",
    "                        escape=True,\n",
    "                        na_rep='--',\n",
    "                        index=False,\n",
    "                        caption=\"Classification label performances, shown as percentages. For each row, n=122.\")\n",
    "                        .replace('midrule', 'hline'))\n",
    "\n",
    "formatted = (results_summary[~results_summary['model_id'].str.contains('heuristic')]\n",
    "      [['model_id','context relevance','groundedness', 'answer relevance']].iloc[::-1])\n",
    "formatted.columns = [col.title() for col in formatted.columns]\n",
    "print(formatted\n",
    "      .to_latex(float_format=\"%.2f\",\n",
    "                         position=\"h!\",\n",
    "                        escape=True,\n",
    "                        na_rep='--',\n",
    "                        index=False,\n",
    "                        caption=\"RAG Trio performances, shown as percentages. For each row, n=122.\")\n",
    "                        .replace('midrule', 'hline'))"
   ]
  },
  {
   "cell_type": "code",
   "execution_count": null,
   "metadata": {},
   "outputs": [
    {
     "data": {
      "image/png": "[encoded data removed]",
      "text/plain": [
       "<Figure size 600x400 with 1 Axes>"
      ]
     },
     "metadata": {},
     "output_type": "display_data"
    }
   ],
   "source": [
    "#plot a line graph of confidence vs. accuracy_coarse, with each point labeled with the corresponding model_id.\n",
    "fig = plt.figure(figsize=(6,4), )\n",
    "ax = fig.add_subplot()\n",
    "plt.plot(results_summary['confidence'], results_summary['accuracy_coarse'], c='darkred',linewidth=4, zorder=2)\n",
    "plt.scatter(results_summary['confidence'], results_summary['accuracy_coarse'], s=100, c='darkred',zorder=3)\n",
    "for i, txt in enumerate(results_summary['model_id']):\n",
    "    if 'Zero' in txt:\n",
    "        plt.annotate('  '+txt, (results_summary['confidence'].iloc[i], results_summary['accuracy_coarse'].iloc[i]),\n",
    "                     ha='left', va='center', fontsize=20)\n",
    "    else:\n",
    "        plt.annotate(txt+'  ', (results_summary['confidence'].iloc[i], results_summary['accuracy_coarse'].iloc[i]),\n",
    "                     ha='right', va='center', fontsize=20)\n",
    "# set size of tick labels\n",
    "plt.grid(color='lightgray', linewidth=0.5, axis='both', zorder=0)\n",
    "# ax.set_xlim((85,95))\n",
    "plt.xticks(list(range(87,92)),fontsize=20)\n",
    "# ax.set_ylim((50,90))\n",
    "plt.yticks(list(range(50,91,10)), fontsize=20)\n",
    "plt.xlabel('Confidence', fontsize=20)\n",
    "plt.ylabel('Accuracy', fontsize=20)\n",
    "plt.savefig('confidence_vs_accuracy.png', dpi=300,bbox_inches='tight')"
   ]
  },
  {
   "cell_type": "markdown",
   "metadata": {},
   "source": [
    "#### Which system performed best?\n",
    "\n",
    "![results dataframe](figures/results.png)\n",
    "\n",
    "On classification accuracy, the n-gram heuristic models were the best on this dataset.\n",
    "\n",
    "However, as a tool to empower instructors to make informed decisions (whether or not they decide to bring up an academic honesty citation), our system is much more useful than the heuristic models, as the reasoning trace from the CoT report can be used as meaningful, verifiable evidence about the student work, not just a single number. \n",
    "\n",
    "Additionally, our tool is more scalable (to larger, dynamic source corpuses), more adaptable (to different types of texts and novel modes of plagiarism), and more customizeable (to instructor preferences and plagiarism criteria)."
   ]
  },
  {
   "cell_type": "markdown",
   "metadata": {},
   "source": [
    "## Demo"
   ]
  },
  {
   "cell_type": "code",
   "execution_count": null,
   "metadata": {},
   "outputs": [
    {
     "ename": "NameError",
     "evalue": "name 'Plagiarism_Classifier' is not defined",
     "output_type": "error",
     "traceback": [
      "\u001b[0;31m---------------------------------------------------------------------------\u001b[0m",
      "\u001b[0;31mNameError\u001b[0m                                 Traceback (most recent call last)",
      "Cell \u001b[0;32mIn[1], line 1\u001b[0m\n\u001b[0;32m----> 1\u001b[0m plagiarism_classifier \u001b[38;5;241m=\u001b[39m \u001b[43mPlagiarism_Classifier\u001b[49m(embed_model, top_k,\n\u001b[1;32m      2\u001b[0m                                                 \u001b[38;5;66;03m#   chunk_size,\u001b[39;00m\n\u001b[1;32m      3\u001b[0m                                                   llm, least_brazen_prompt,\n\u001b[1;32m      4\u001b[0m                                                   f_ground\u001b[38;5;241m=\u001b[39m\u001b[38;5;28;01mTrue\u001b[39;00m, f_a_rel\u001b[38;5;241m=\u001b[39m\u001b[38;5;28;01mTrue\u001b[39;00m, f_c_rel\u001b[38;5;241m=\u001b[39m\u001b[38;5;28;01mTrue\u001b[39;00m, verbose\u001b[38;5;241m=\u001b[39m\u001b[38;5;28;01mTrue\u001b[39;00m)\n\u001b[1;32m      5\u001b[0m suspect_text \u001b[38;5;241m=\u001b[39m \u001b[38;5;124m\"\u001b[39m\u001b[38;5;124mThis is a test.\u001b[39m\u001b[38;5;124m\"\u001b[39m\n\u001b[1;32m      6\u001b[0m label, feedback \u001b[38;5;241m=\u001b[39m plagiarism_classifier\u001b[38;5;241m.\u001b[39mclassify_plagiarism(suspect_text)\n",
      "\u001b[0;31mNameError\u001b[0m: name 'Plagiarism_Classifier' is not defined"
     ]
    }
   ],
   "source": [
    "plagiarism_classifier = Plagiarism_Classifier(embed_model, top_k,\n",
    "                                                #   chunk_size,\n",
    "                                                  llm, least_brazen_prompt,\n",
    "                                                  f_ground=True, f_a_rel=True, f_c_rel=True, verbose=True)\n",
    "suspect_text = input(\"What text would you like to check?\")\n",
    "report, feedback = plagiarism_classifier.classify_plagiarism(suspect_text)\n",
    "print('Plagiarism Report:')\n",
    "print(report)\n",
    "print('RAG Trio Feedback:')\n",
    "print(feedback)"
   ]
  }
 ],
 "metadata": {
  "kernelspec": {
   "display_name": "cs329t-hw2",
   "language": "python",
   "name": "python3"
  },
  "language_info": {
   "codemirror_mode": {
    "name": "ipython",
    "version": 3
   },
   "file_extension": ".py",
   "mimetype": "text/x-python",
   "name": "python",
   "nbconvert_exporter": "python",
   "pygments_lexer": "ipython3",
   "version": "3.11.9"
  }
 },
 "nbformat": 4,
 "nbformat_minor": 2
}
